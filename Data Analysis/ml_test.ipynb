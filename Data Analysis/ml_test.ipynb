{
 "cells": [
  {
   "cell_type": "markdown",
   "metadata": {},
   "source": [
    "# LEGO PROJECT\n",
    "Learning how to use Machine Learning <br> <br>\n",
    "This is my first attempt at machine learning. I'm using the relatively clean 'final cleaned df.csv' data set that I scraped from ebay. As I worked through some basic ML algorothms I noticed my data needed more transformation, cleaning and filtering, which I did. "
   ]
  },
  {
   "cell_type": "code",
   "execution_count": 2,
   "metadata": {},
   "outputs": [],
   "source": [
    "import pandas as pd\n",
    "import numpy as np\n",
    "import matplotlib.pyplot as plt\n",
    "from matplotlib.ticker import PercentFormatter\n",
    "from sklearn.linear_model import LinearRegression\n",
    "from sklearn.model_selection import train_test_split, cross_val_score, permutation_test_score\n",
    "from sklearn.pipeline import Pipeline\n",
    "from sklearn.preprocessing import OneHotEncoder, PolynomialFeatures\n",
    "from sklearn.compose import make_column_transformer\n",
    "from datetime import datetime\n",
    "from datetime import date\n",
    "%matplotlib inline"
   ]
  },
  {
   "cell_type": "markdown",
   "metadata": {},
   "source": [
    "### Data Cleanup\n",
    "These are some of the clean up items I didn't know I needed to do before I started the ML work. Not sure if these steps should be moved to the analysis notebook. "
   ]
  },
  {
   "cell_type": "code",
   "execution_count": 3,
   "metadata": {},
   "outputs": [
    {
     "data": {
      "text/html": [
       "<div>\n",
       "<style scoped>\n",
       "    .dataframe tbody tr th:only-of-type {\n",
       "        vertical-align: middle;\n",
       "    }\n",
       "\n",
       "    .dataframe tbody tr th {\n",
       "        vertical-align: top;\n",
       "    }\n",
       "\n",
       "    .dataframe thead th {\n",
       "        text-align: right;\n",
       "    }\n",
       "</style>\n",
       "<table border=\"1\" class=\"dataframe\">\n",
       "  <thead>\n",
       "    <tr style=\"text-align: right;\">\n",
       "      <th></th>\n",
       "      <th>set_name</th>\n",
       "      <th>theme_group</th>\n",
       "      <th>theme</th>\n",
       "      <th>subtheme</th>\n",
       "      <th>pieces</th>\n",
       "      <th>designer</th>\n",
       "      <th>msrp</th>\n",
       "      <th>availability</th>\n",
       "      <th>rating</th>\n",
       "      <th>launch_date</th>\n",
       "      <th>retirement_date</th>\n",
       "      <th>minifigs_total</th>\n",
       "      <th>minifigs_unique</th>\n",
       "      <th>pct_appreciation</th>\n",
       "      <th>time_since_retirement</th>\n",
       "    </tr>\n",
       "    <tr>\n",
       "      <th>set_num</th>\n",
       "      <th></th>\n",
       "      <th></th>\n",
       "      <th></th>\n",
       "      <th></th>\n",
       "      <th></th>\n",
       "      <th></th>\n",
       "      <th></th>\n",
       "      <th></th>\n",
       "      <th></th>\n",
       "      <th></th>\n",
       "      <th></th>\n",
       "      <th></th>\n",
       "      <th></th>\n",
       "      <th></th>\n",
       "      <th></th>\n",
       "    </tr>\n",
       "  </thead>\n",
       "  <tbody>\n",
       "    <tr>\n",
       "      <th>2824</th>\n",
       "      <td>City Advent Calendar</td>\n",
       "      <td>Modern day</td>\n",
       "      <td>City</td>\n",
       "      <td>Seasonal</td>\n",
       "      <td>271.0</td>\n",
       "      <td>NaN</td>\n",
       "      <td>34.99</td>\n",
       "      <td>Retail - limited</td>\n",
       "      <td>3.6</td>\n",
       "      <td>2010-01-01</td>\n",
       "      <td>NaT</td>\n",
       "      <td>6.0</td>\n",
       "      <td>5.0</td>\n",
       "      <td>NaN</td>\n",
       "      <td>NaN</td>\n",
       "    </tr>\n",
       "    <tr>\n",
       "      <th>75203</th>\n",
       "      <td>Hoth Medical Chamber</td>\n",
       "      <td>Licensed</td>\n",
       "      <td>Star Wars</td>\n",
       "      <td>Episode V</td>\n",
       "      <td>255.0</td>\n",
       "      <td>Hans Burkhard Schlömer</td>\n",
       "      <td>29.99</td>\n",
       "      <td>Retail</td>\n",
       "      <td>4.1</td>\n",
       "      <td>2018-08-01</td>\n",
       "      <td>2019-07-31</td>\n",
       "      <td>4.0</td>\n",
       "      <td>3.0</td>\n",
       "      <td>91.857143</td>\n",
       "      <td>32.0</td>\n",
       "    </tr>\n",
       "    <tr>\n",
       "      <th>42005</th>\n",
       "      <td>Monster Truck</td>\n",
       "      <td>Technical</td>\n",
       "      <td>Technic</td>\n",
       "      <td>NaN</td>\n",
       "      <td>329.0</td>\n",
       "      <td>NaN</td>\n",
       "      <td>49.99</td>\n",
       "      <td>Retail</td>\n",
       "      <td>3.6</td>\n",
       "      <td>2013-08-01</td>\n",
       "      <td>2014-12-31</td>\n",
       "      <td>0.0</td>\n",
       "      <td>0.0</td>\n",
       "      <td>-11.200000</td>\n",
       "      <td>87.0</td>\n",
       "    </tr>\n",
       "    <tr>\n",
       "      <th>60294</th>\n",
       "      <td>Stunt Show Truck</td>\n",
       "      <td>Modern day</td>\n",
       "      <td>City</td>\n",
       "      <td>Stuntz</td>\n",
       "      <td>420.0</td>\n",
       "      <td>Robert Heim</td>\n",
       "      <td>69.99</td>\n",
       "      <td>Retail</td>\n",
       "      <td>NaN</td>\n",
       "      <td>2021-10-01</td>\n",
       "      <td>NaT</td>\n",
       "      <td>4.0</td>\n",
       "      <td>3.0</td>\n",
       "      <td>108.000000</td>\n",
       "      <td>NaN</td>\n",
       "    </tr>\n",
       "    <tr>\n",
       "      <th>10262</th>\n",
       "      <td>James Bond Aston Martin DB5</td>\n",
       "      <td>Model making</td>\n",
       "      <td>Creator Expert</td>\n",
       "      <td>Vehicles</td>\n",
       "      <td>1290.0</td>\n",
       "      <td>Mike Psiaki</td>\n",
       "      <td>149.99</td>\n",
       "      <td>LEGO exclusive</td>\n",
       "      <td>4.3</td>\n",
       "      <td>2018-08-01</td>\n",
       "      <td>2021-12-31</td>\n",
       "      <td>0.0</td>\n",
       "      <td>0.0</td>\n",
       "      <td>45.846154</td>\n",
       "      <td>3.0</td>\n",
       "    </tr>\n",
       "    <tr>\n",
       "      <th>75181</th>\n",
       "      <td>Y-wing Starfighter</td>\n",
       "      <td>Licensed</td>\n",
       "      <td>Star Wars</td>\n",
       "      <td>Ultimate Collector Series</td>\n",
       "      <td>1967.0</td>\n",
       "      <td>Jordan Scott</td>\n",
       "      <td>199.99</td>\n",
       "      <td>LEGO exclusive</td>\n",
       "      <td>4.4</td>\n",
       "      <td>2018-05-04</td>\n",
       "      <td>2019-12-31</td>\n",
       "      <td>2.0</td>\n",
       "      <td>2.0</td>\n",
       "      <td>171.666667</td>\n",
       "      <td>27.0</td>\n",
       "    </tr>\n",
       "    <tr>\n",
       "      <th>5005120</th>\n",
       "      <td>Lloyd Kids Buildable Watch</td>\n",
       "      <td>Miscellaneous</td>\n",
       "      <td>Gear</td>\n",
       "      <td>Watches/Clocks</td>\n",
       "      <td>NaN</td>\n",
       "      <td>NaN</td>\n",
       "      <td>24.99</td>\n",
       "      <td>NaN</td>\n",
       "      <td>NaN</td>\n",
       "      <td>2017-01-01</td>\n",
       "      <td>NaT</td>\n",
       "      <td>0.0</td>\n",
       "      <td>0.0</td>\n",
       "      <td>NaN</td>\n",
       "      <td>NaN</td>\n",
       "    </tr>\n",
       "    <tr>\n",
       "      <th>60348</th>\n",
       "      <td>Lunar Roving Vehicle</td>\n",
       "      <td>Modern day</td>\n",
       "      <td>City</td>\n",
       "      <td>Space</td>\n",
       "      <td>275.0</td>\n",
       "      <td>NaN</td>\n",
       "      <td>39.99</td>\n",
       "      <td>Retail</td>\n",
       "      <td>NaN</td>\n",
       "      <td>2022-01-01</td>\n",
       "      <td>NaT</td>\n",
       "      <td>3.0</td>\n",
       "      <td>3.0</td>\n",
       "      <td>30.500000</td>\n",
       "      <td>NaN</td>\n",
       "    </tr>\n",
       "    <tr>\n",
       "      <th>70403</th>\n",
       "      <td>Dragon Mountain</td>\n",
       "      <td>Historical</td>\n",
       "      <td>Castle</td>\n",
       "      <td>NaN</td>\n",
       "      <td>376.0</td>\n",
       "      <td>NaN</td>\n",
       "      <td>49.99</td>\n",
       "      <td>Retail</td>\n",
       "      <td>4.1</td>\n",
       "      <td>2013-08-01</td>\n",
       "      <td>2014-12-31</td>\n",
       "      <td>5.0</td>\n",
       "      <td>4.0</td>\n",
       "      <td>296.000000</td>\n",
       "      <td>87.0</td>\n",
       "    </tr>\n",
       "    <tr>\n",
       "      <th>4206</th>\n",
       "      <td>9V Train Switching Track Collection</td>\n",
       "      <td>Modern day</td>\n",
       "      <td>Trains</td>\n",
       "      <td>9V</td>\n",
       "      <td>27.0</td>\n",
       "      <td>NaN</td>\n",
       "      <td>44.99</td>\n",
       "      <td>LEGO exclusive</td>\n",
       "      <td>NaN</td>\n",
       "      <td>2007-01-01</td>\n",
       "      <td>NaT</td>\n",
       "      <td>0.0</td>\n",
       "      <td>0.0</td>\n",
       "      <td>48.200000</td>\n",
       "      <td>NaN</td>\n",
       "    </tr>\n",
       "  </tbody>\n",
       "</table>\n",
       "</div>"
      ],
      "text/plain": [
       "                                    set_name    theme_group           theme  \\\n",
       "set_num                                                                       \n",
       "2824                    City Advent Calendar     Modern day            City   \n",
       "75203                   Hoth Medical Chamber       Licensed       Star Wars   \n",
       "42005                          Monster Truck      Technical         Technic   \n",
       "60294                       Stunt Show Truck     Modern day            City   \n",
       "10262            James Bond Aston Martin DB5   Model making  Creator Expert   \n",
       "75181                     Y-wing Starfighter       Licensed       Star Wars   \n",
       "5005120           Lloyd Kids Buildable Watch  Miscellaneous            Gear   \n",
       "60348                   Lunar Roving Vehicle     Modern day            City   \n",
       "70403                        Dragon Mountain     Historical          Castle   \n",
       "4206     9V Train Switching Track Collection     Modern day          Trains   \n",
       "\n",
       "                          subtheme  pieces                designer    msrp  \\\n",
       "set_num                                                                      \n",
       "2824                      Seasonal   271.0                     NaN   34.99   \n",
       "75203                    Episode V   255.0  Hans Burkhard Schlömer   29.99   \n",
       "42005                          NaN   329.0                     NaN   49.99   \n",
       "60294                       Stuntz   420.0             Robert Heim   69.99   \n",
       "10262                     Vehicles  1290.0             Mike Psiaki  149.99   \n",
       "75181    Ultimate Collector Series  1967.0            Jordan Scott  199.99   \n",
       "5005120             Watches/Clocks     NaN                     NaN   24.99   \n",
       "60348                        Space   275.0                     NaN   39.99   \n",
       "70403                          NaN   376.0                     NaN   49.99   \n",
       "4206                            9V    27.0                     NaN   44.99   \n",
       "\n",
       "             availability  rating launch_date retirement_date  minifigs_total  \\\n",
       "set_num                                                                         \n",
       "2824     Retail - limited     3.6  2010-01-01             NaT             6.0   \n",
       "75203              Retail     4.1  2018-08-01      2019-07-31             4.0   \n",
       "42005              Retail     3.6  2013-08-01      2014-12-31             0.0   \n",
       "60294              Retail     NaN  2021-10-01             NaT             4.0   \n",
       "10262      LEGO exclusive     4.3  2018-08-01      2021-12-31             0.0   \n",
       "75181      LEGO exclusive     4.4  2018-05-04      2019-12-31             2.0   \n",
       "5005120               NaN     NaN  2017-01-01             NaT             0.0   \n",
       "60348              Retail     NaN  2022-01-01             NaT             3.0   \n",
       "70403              Retail     4.1  2013-08-01      2014-12-31             5.0   \n",
       "4206       LEGO exclusive     NaN  2007-01-01             NaT             0.0   \n",
       "\n",
       "         minifigs_unique  pct_appreciation  time_since_retirement  \n",
       "set_num                                                            \n",
       "2824                 5.0               NaN                    NaN  \n",
       "75203                3.0         91.857143                   32.0  \n",
       "42005                0.0        -11.200000                   87.0  \n",
       "60294                3.0        108.000000                    NaN  \n",
       "10262                0.0         45.846154                    3.0  \n",
       "75181                2.0        171.666667                   27.0  \n",
       "5005120              0.0               NaN                    NaN  \n",
       "60348                3.0         30.500000                    NaN  \n",
       "70403                4.0        296.000000                   87.0  \n",
       "4206                 0.0         48.200000                    NaN  "
      ]
     },
     "execution_count": 3,
     "metadata": {},
     "output_type": "execute_result"
    }
   ],
   "source": [
    "df = pd.read_csv('final_cleaned_df.csv')\n",
    "df.drop([\"Unnamed: 0\", 'year_released', 'age_range', 'packaging'], axis=1, inplace=True)\n",
    "\n",
    "# replace Nan in minifig columns with zero\n",
    "df['minifigs_total'] = df['minifigs_total'].fillna(0)\n",
    "df['minifigs_unique'] = df['minifigs_unique'].fillna(0)\n",
    "\n",
    "# change date column types\n",
    "df['launch_date'] = pd.to_datetime(df['launch_date'])\n",
    "df['retirement_date'] = pd.to_datetime(df['retirement_date'])\n",
    "\n",
    "# create time since retirement, should be easier to use than retirement date for ML\n",
    "current_date = pd.to_datetime('now')\n",
    "df['time_since_retirement'] =  current_date - df['retirement_date']\n",
    "df['time_since_retirement'] = df['time_since_retirement']//np.timedelta64(1, 'M')\n",
    "\n",
    "# set index to set_num\n",
    "df.set_index('set_num', inplace=True)\n",
    "\n",
    "df.sample(10)"
   ]
  },
  {
   "cell_type": "markdown",
   "metadata": {},
   "source": [
    "Remove features (columns) that aren't important to the model"
   ]
  },
  {
   "cell_type": "code",
   "execution_count": 4,
   "metadata": {},
   "outputs": [],
   "source": [
    "df.drop(['set_name', 'launch_date',], axis=1, inplace=True)"
   ]
  },
  {
   "cell_type": "markdown",
   "metadata": {},
   "source": [
    "Swap last two columns to get pct_appreciation (our label) to the end"
   ]
  },
  {
   "cell_type": "code",
   "execution_count": 5,
   "metadata": {},
   "outputs": [
    {
     "data": {
      "text/plain": [
       "(2214, 13)"
      ]
     },
     "execution_count": 5,
     "metadata": {},
     "output_type": "execute_result"
    }
   ],
   "source": [
    "titles = list(df.columns)\n",
    "titles[10], titles[11] = titles[11], titles[10]\n",
    "df = df[titles]\n",
    "df.shape"
   ]
  },
  {
   "cell_type": "markdown",
   "metadata": {},
   "source": [
    "How many unique values in each column?"
   ]
  },
  {
   "cell_type": "code",
   "execution_count": 6,
   "metadata": {},
   "outputs": [
    {
     "data": {
      "text/html": [
       "<div>\n",
       "<style scoped>\n",
       "    .dataframe tbody tr th:only-of-type {\n",
       "        vertical-align: middle;\n",
       "    }\n",
       "\n",
       "    .dataframe tbody tr th {\n",
       "        vertical-align: top;\n",
       "    }\n",
       "\n",
       "    .dataframe thead th {\n",
       "        text-align: right;\n",
       "    }\n",
       "</style>\n",
       "<table border=\"1\" class=\"dataframe\">\n",
       "  <thead>\n",
       "    <tr style=\"text-align: right;\">\n",
       "      <th></th>\n",
       "      <th>Column_Name</th>\n",
       "      <th>Num_Unique</th>\n",
       "    </tr>\n",
       "  </thead>\n",
       "  <tbody>\n",
       "    <tr>\n",
       "      <th>6</th>\n",
       "      <td>availability</td>\n",
       "      <td>5</td>\n",
       "    </tr>\n",
       "    <tr>\n",
       "      <th>0</th>\n",
       "      <td>theme_group</td>\n",
       "      <td>14</td>\n",
       "    </tr>\n",
       "    <tr>\n",
       "      <th>7</th>\n",
       "      <td>rating</td>\n",
       "      <td>20</td>\n",
       "    </tr>\n",
       "    <tr>\n",
       "      <th>11</th>\n",
       "      <td>minifigs_unique</td>\n",
       "      <td>22</td>\n",
       "    </tr>\n",
       "    <tr>\n",
       "      <th>9</th>\n",
       "      <td>minifigs_total</td>\n",
       "      <td>25</td>\n",
       "    </tr>\n",
       "    <tr>\n",
       "      <th>12</th>\n",
       "      <td>time_since_retirement</td>\n",
       "      <td>38</td>\n",
       "    </tr>\n",
       "    <tr>\n",
       "      <th>8</th>\n",
       "      <td>retirement_date</td>\n",
       "      <td>39</td>\n",
       "    </tr>\n",
       "    <tr>\n",
       "      <th>4</th>\n",
       "      <td>designer</td>\n",
       "      <td>73</td>\n",
       "    </tr>\n",
       "    <tr>\n",
       "      <th>5</th>\n",
       "      <td>msrp</td>\n",
       "      <td>83</td>\n",
       "    </tr>\n",
       "    <tr>\n",
       "      <th>1</th>\n",
       "      <td>theme</td>\n",
       "      <td>85</td>\n",
       "    </tr>\n",
       "    <tr>\n",
       "      <th>2</th>\n",
       "      <td>subtheme</td>\n",
       "      <td>285</td>\n",
       "    </tr>\n",
       "    <tr>\n",
       "      <th>3</th>\n",
       "      <td>pieces</td>\n",
       "      <td>1033</td>\n",
       "    </tr>\n",
       "    <tr>\n",
       "      <th>10</th>\n",
       "      <td>pct_appreciation</td>\n",
       "      <td>1338</td>\n",
       "    </tr>\n",
       "  </tbody>\n",
       "</table>\n",
       "</div>"
      ],
      "text/plain": [
       "              Column_Name  Num_Unique\n",
       "6            availability           5\n",
       "0             theme_group          14\n",
       "7                  rating          20\n",
       "11        minifigs_unique          22\n",
       "9          minifigs_total          25\n",
       "12  time_since_retirement          38\n",
       "8         retirement_date          39\n",
       "4                designer          73\n",
       "5                    msrp          83\n",
       "1                   theme          85\n",
       "2                subtheme         285\n",
       "3                  pieces        1033\n",
       "10       pct_appreciation        1338"
      ]
     },
     "execution_count": 6,
     "metadata": {},
     "output_type": "execute_result"
    }
   ],
   "source": [
    "unique_counts = pd.DataFrame.from_records([(col, df[col].nunique()) for col in df.columns],\n",
    "                          columns=['Column_Name', 'Num_Unique']).sort_values(by=['Num_Unique'])\n",
    "unique_counts"
   ]
  },
  {
   "cell_type": "code",
   "execution_count": 7,
   "metadata": {},
   "outputs": [
    {
     "data": {
      "text/html": [
       "<div>\n",
       "<style scoped>\n",
       "    .dataframe tbody tr th:only-of-type {\n",
       "        vertical-align: middle;\n",
       "    }\n",
       "\n",
       "    .dataframe tbody tr th {\n",
       "        vertical-align: top;\n",
       "    }\n",
       "\n",
       "    .dataframe thead th {\n",
       "        text-align: right;\n",
       "    }\n",
       "</style>\n",
       "<table border=\"1\" class=\"dataframe\">\n",
       "  <thead>\n",
       "    <tr style=\"text-align: right;\">\n",
       "      <th></th>\n",
       "      <th>0</th>\n",
       "    </tr>\n",
       "  </thead>\n",
       "  <tbody>\n",
       "    <tr>\n",
       "      <th>theme_group</th>\n",
       "      <td>0</td>\n",
       "    </tr>\n",
       "    <tr>\n",
       "      <th>theme</th>\n",
       "      <td>0</td>\n",
       "    </tr>\n",
       "    <tr>\n",
       "      <th>subtheme</th>\n",
       "      <td>488</td>\n",
       "    </tr>\n",
       "    <tr>\n",
       "      <th>pieces</th>\n",
       "      <td>140</td>\n",
       "    </tr>\n",
       "    <tr>\n",
       "      <th>designer</th>\n",
       "      <td>1404</td>\n",
       "    </tr>\n",
       "    <tr>\n",
       "      <th>msrp</th>\n",
       "      <td>1</td>\n",
       "    </tr>\n",
       "    <tr>\n",
       "      <th>availability</th>\n",
       "      <td>277</td>\n",
       "    </tr>\n",
       "    <tr>\n",
       "      <th>rating</th>\n",
       "      <td>496</td>\n",
       "    </tr>\n",
       "    <tr>\n",
       "      <th>retirement_date</th>\n",
       "      <td>673</td>\n",
       "    </tr>\n",
       "    <tr>\n",
       "      <th>minifigs_total</th>\n",
       "      <td>0</td>\n",
       "    </tr>\n",
       "    <tr>\n",
       "      <th>pct_appreciation</th>\n",
       "      <td>421</td>\n",
       "    </tr>\n",
       "    <tr>\n",
       "      <th>minifigs_unique</th>\n",
       "      <td>0</td>\n",
       "    </tr>\n",
       "    <tr>\n",
       "      <th>time_since_retirement</th>\n",
       "      <td>673</td>\n",
       "    </tr>\n",
       "  </tbody>\n",
       "</table>\n",
       "</div>"
      ],
      "text/plain": [
       "                          0\n",
       "theme_group               0\n",
       "theme                     0\n",
       "subtheme                488\n",
       "pieces                  140\n",
       "designer               1404\n",
       "msrp                      1\n",
       "availability            277\n",
       "rating                  496\n",
       "retirement_date         673\n",
       "minifigs_total            0\n",
       "pct_appreciation        421\n",
       "minifigs_unique           0\n",
       "time_since_retirement   673"
      ]
     },
     "execution_count": 7,
     "metadata": {},
     "output_type": "execute_result"
    }
   ],
   "source": [
    "num_nulls = pd.DataFrame(df.isnull().sum())\n",
    "num_nulls"
   ]
  },
  {
   "cell_type": "code",
   "execution_count": 8,
   "metadata": {},
   "outputs": [],
   "source": [
    "# If there is no msrp can't calculate an appreciation, delete these rows\n",
    "df.drop(df[df['msrp'].isnull()].index, inplace=True)"
   ]
  },
  {
   "cell_type": "code",
   "execution_count": 9,
   "metadata": {},
   "outputs": [],
   "source": [
    "# Sets with nulls in pieces cloumn are usually non-builder sets, i.e. plush, watches, hats\n",
    "# DELETE THEM!\n",
    "df.drop(df[df['pieces'].isnull()].index, inplace=True)"
   ]
  },
  {
   "cell_type": "code",
   "execution_count": 10,
   "metadata": {},
   "outputs": [
    {
     "data": {
      "text/html": [
       "<div>\n",
       "<style scoped>\n",
       "    .dataframe tbody tr th:only-of-type {\n",
       "        vertical-align: middle;\n",
       "    }\n",
       "\n",
       "    .dataframe tbody tr th {\n",
       "        vertical-align: top;\n",
       "    }\n",
       "\n",
       "    .dataframe thead th {\n",
       "        text-align: right;\n",
       "    }\n",
       "</style>\n",
       "<table border=\"1\" class=\"dataframe\">\n",
       "  <thead>\n",
       "    <tr style=\"text-align: right;\">\n",
       "      <th></th>\n",
       "      <th>0</th>\n",
       "    </tr>\n",
       "  </thead>\n",
       "  <tbody>\n",
       "    <tr>\n",
       "      <th>theme_group</th>\n",
       "      <td>0</td>\n",
       "    </tr>\n",
       "    <tr>\n",
       "      <th>theme</th>\n",
       "      <td>0</td>\n",
       "    </tr>\n",
       "    <tr>\n",
       "      <th>subtheme</th>\n",
       "      <td>487</td>\n",
       "    </tr>\n",
       "    <tr>\n",
       "      <th>pieces</th>\n",
       "      <td>0</td>\n",
       "    </tr>\n",
       "    <tr>\n",
       "      <th>designer</th>\n",
       "      <td>1263</td>\n",
       "    </tr>\n",
       "    <tr>\n",
       "      <th>msrp</th>\n",
       "      <td>0</td>\n",
       "    </tr>\n",
       "    <tr>\n",
       "      <th>availability</th>\n",
       "      <td>147</td>\n",
       "    </tr>\n",
       "    <tr>\n",
       "      <th>rating</th>\n",
       "      <td>355</td>\n",
       "    </tr>\n",
       "    <tr>\n",
       "      <th>retirement_date</th>\n",
       "      <td>532</td>\n",
       "    </tr>\n",
       "    <tr>\n",
       "      <th>minifigs_total</th>\n",
       "      <td>0</td>\n",
       "    </tr>\n",
       "    <tr>\n",
       "      <th>pct_appreciation</th>\n",
       "      <td>280</td>\n",
       "    </tr>\n",
       "    <tr>\n",
       "      <th>minifigs_unique</th>\n",
       "      <td>0</td>\n",
       "    </tr>\n",
       "    <tr>\n",
       "      <th>time_since_retirement</th>\n",
       "      <td>532</td>\n",
       "    </tr>\n",
       "  </tbody>\n",
       "</table>\n",
       "</div>"
      ],
      "text/plain": [
       "                          0\n",
       "theme_group               0\n",
       "theme                     0\n",
       "subtheme                487\n",
       "pieces                    0\n",
       "designer               1263\n",
       "msrp                      0\n",
       "availability            147\n",
       "rating                  355\n",
       "retirement_date         532\n",
       "minifigs_total            0\n",
       "pct_appreciation        280\n",
       "minifigs_unique           0\n",
       "time_since_retirement   532"
      ]
     },
     "execution_count": 10,
     "metadata": {},
     "output_type": "execute_result"
    }
   ],
   "source": [
    "pd.DataFrame(df.isnull().sum())\n"
   ]
  },
  {
   "cell_type": "markdown",
   "metadata": {},
   "source": [
    "I only want to create a model on sets that have retired, doesn't make sense to analyze sets that are still officially for sale in normal retail channels. I will split the dataset into <br> 1) sets that have retired <br>2) sets that haven't retired"
   ]
  },
  {
   "cell_type": "code",
   "execution_count": 14,
   "metadata": {},
   "outputs": [
    {
     "name": "stdout",
     "output_type": "stream",
     "text": [
      "(2073, 13)\n",
      "(1529, 13)\n",
      "(544, 13)\n"
     ]
    }
   ],
   "source": [
    "# I found some bad data from brickset where the retirement date is in the future - like they are guessing.\n",
    "# I should flag sets that have retired by having a retirement date BEFORE todays date.\n",
    "\n",
    "# todays date, must use datetime, not just date - can't compare datetime64 to date types\n",
    "today = pd.to_datetime(datetime.now())\n",
    "print(df.shape)\n",
    "\n",
    "df_retired = df.loc[(df['retirement_date'] < today)]\n",
    "print(df_retired.shape)\n",
    "\n",
    "# take the inverse filter for the non-retired sets\n",
    "df_not_retired = df.loc[~(df['retirement_date'] < today)]\n",
    "print(df_not_retired.shape)"
   ]
  },
  {
   "cell_type": "code",
   "execution_count": 15,
   "metadata": {},
   "outputs": [
    {
     "data": {
      "text/plain": [
       "<AxesSubplot:>"
      ]
     },
     "execution_count": 15,
     "metadata": {},
     "output_type": "execute_result"
    },
    {
     "data": {
      "image/png": "[encoded data removed]",
      "text/plain": [
       "<Figure size 432x288 with 1 Axes>"
      ]
     },
     "metadata": {
      "needs_background": "light"
     },
     "output_type": "display_data"
    }
   ],
   "source": [
    "df_retired['theme_group'].value_counts().plot.bar()\n"
   ]
  },
  {
   "cell_type": "code",
   "execution_count": 16,
   "metadata": {},
   "outputs": [
    {
     "data": {
      "text/plain": [
       "<AxesSubplot:>"
      ]
     },
     "execution_count": 16,
     "metadata": {},
     "output_type": "execute_result"
    },
    {
     "data": {
      "image/png": "[encoded data removed]",
      "text/plain": [
       "<Figure size 432x288 with 1 Axes>"
      ]
     },
     "metadata": {
      "needs_background": "light"
     },
     "output_type": "display_data"
    }
   ],
   "source": [
    "df_retired['theme'].value_counts().head(20).plot.bar()"
   ]
  },
  {
   "cell_type": "code",
   "execution_count": 17,
   "metadata": {},
   "outputs": [
    {
     "data": {
      "text/plain": [
       "<AxesSubplot:>"
      ]
     },
     "execution_count": 17,
     "metadata": {},
     "output_type": "execute_result"
    },
    {
     "data": {
      "image/png": "[encoded data removed]",
      "text/plain": [
       "<Figure size 432x288 with 1 Axes>"
      ]
     },
     "metadata": {
      "needs_background": "light"
     },
     "output_type": "display_data"
    }
   ],
   "source": [
    "df_retired['subtheme'].value_counts().head(20).plot.bar()"
   ]
  },
  {
   "cell_type": "code",
   "execution_count": 18,
   "metadata": {},
   "outputs": [
    {
     "data": {
      "text/plain": [
       "<AxesSubplot:>"
      ]
     },
     "execution_count": 18,
     "metadata": {},
     "output_type": "execute_result"
    },
    {
     "data": {
      "image/png": "[encoded data removed]",
      "text/plain": [
       "<Figure size 432x288 with 1 Axes>"
      ]
     },
     "metadata": {
      "needs_background": "light"
     },
     "output_type": "display_data"
    }
   ],
   "source": [
    "df_retired['availability'].value_counts().plot.bar()\n"
   ]
  },
  {
   "cell_type": "code",
   "execution_count": 19,
   "metadata": {},
   "outputs": [
    {
     "data": {
      "text/plain": [
       "<AxesSubplot:>"
      ]
     },
     "execution_count": 19,
     "metadata": {},
     "output_type": "execute_result"
    },
    {
     "data": {
      "image/png": "[encoded data removed]",
      "text/plain": [
       "<Figure size 432x288 with 1 Axes>"
      ]
     },
     "metadata": {
      "needs_background": "light"
     },
     "output_type": "display_data"
    }
   ],
   "source": [
    "df_retired['designer'].value_counts().head(20).plot.bar()"
   ]
  },
  {
   "cell_type": "code",
   "execution_count": 20,
   "metadata": {},
   "outputs": [
    {
     "data": {
      "text/plain": [
       "theme_group                0\n",
       "theme                      0\n",
       "subtheme                 367\n",
       "pieces                     0\n",
       "designer                 931\n",
       "msrp                       0\n",
       "availability             103\n",
       "rating                   113\n",
       "retirement_date            0\n",
       "minifigs_total             0\n",
       "pct_appreciation         210\n",
       "minifigs_unique            0\n",
       "time_since_retirement      0\n",
       "dtype: int64"
      ]
     },
     "execution_count": 20,
     "metadata": {},
     "output_type": "execute_result"
    }
   ],
   "source": [
    "df_retired.isna().sum()"
   ]
  },
  {
   "cell_type": "code",
   "execution_count": 21,
   "metadata": {},
   "outputs": [
    {
     "name": "stderr",
     "output_type": "stream",
     "text": [
      "C:\\Users\\zubaz\\AppData\\Local\\Temp/ipykernel_19808/2643113522.py:3: SettingWithCopyWarning: \n",
      "A value is trying to be set on a copy of a slice from a DataFrame.\n",
      "Try using .loc[row_indexer,col_indexer] = value instead\n",
      "\n",
      "See the caveats in the documentation: https://pandas.pydata.org/pandas-docs/stable/user_guide/indexing.html#returning-a-view-versus-a-copy\n",
      "  df_retired['pct_appreciation'] = df_retired['pct_appreciation'].fillna(0)\n"
     ]
    }
   ],
   "source": [
    "# there are some nan values in pct_appreciation, lets assume for now that these sets are so\n",
    "# unpopular that they don't sell on the secondary market and we can assign them an appreciatoin of ZERO \n",
    "df_retired['pct_appreciation'] = df_retired['pct_appreciation'].fillna(0)"
   ]
  },
  {
   "cell_type": "code",
   "execution_count": null,
   "metadata": {},
   "outputs": [],
   "source": [
    "df_retired.hist(column='pct_appreciation', bins=20)"
   ]
  },
  {
   "cell_type": "code",
   "execution_count": null,
   "metadata": {},
   "outputs": [],
   "source": [
    "fig, ax = plt.subplots(figsize=(8,4))\n",
    "\n",
    "ax.hist(df_retired['pct_appreciation'], bins=20, \n",
    "        weights=np.ones(len(df_retired['pct_appreciation'])) / len(df_retired['pct_appreciation']))\n",
    "ax.set_xlabel('pct appreciation')\n",
    "ax.yaxis.set_major_formatter(PercentFormatter(1))\n",
    "\n",
    "n, bines, patches = ax.hist(df_retired['pct_appreciation'], label='Cumulative',\n",
    "        bins=100, density=True, histtype='step', cumulative=True)\n",
    "\n",
    "ax.grid(True)\n",
    "ax.legend(loc='right')\n",
    "ax.set_title('Percent Appreciation Histogram w/ Cumulative')"
   ]
  },
  {
   "cell_type": "code",
   "execution_count": null,
   "metadata": {},
   "outputs": [],
   "source": [
    "df_retired.plot.scatter(x=\"pieces\", y=\"pct_appreciation\", alpha=0.4)\n",
    "df_retired.plot.scatter(x=\"msrp\", y=\"pct_appreciation\", alpha=0.4)\n",
    "df_retired.plot.scatter(x=\"pieces\", y=\"msrp\", alpha=0.4)"
   ]
  },
  {
   "cell_type": "markdown",
   "metadata": {},
   "source": [
    "# Linear Regression"
   ]
  },
  {
   "cell_type": "markdown",
   "metadata": {},
   "source": [
    "Test with a simple relationship - # pieces vs msrp"
   ]
  },
  {
   "cell_type": "code",
   "execution_count": null,
   "metadata": {},
   "outputs": [],
   "source": [
    "lr = LinearRegression()"
   ]
  },
  {
   "cell_type": "code",
   "execution_count": null,
   "metadata": {},
   "outputs": [],
   "source": [
    "lr.fit(df_retired[['pieces']], df_retired['msrp'])"
   ]
  },
  {
   "cell_type": "code",
   "execution_count": null,
   "metadata": {},
   "outputs": [],
   "source": [
    "fit_df = pd.DataFrame({'pieces': range(0, 6000)})\n",
    "fit_df['predicted_msrp'] = lr.predict(fit_df)\n",
    "fit_df"
   ]
  },
  {
   "cell_type": "code",
   "execution_count": null,
   "metadata": {},
   "outputs": [],
   "source": [
    "ax = fit_df.plot.line(x='pieces', y='predicted_msrp', color='red')\n",
    "df_retired.plot.scatter(x='pieces', y='msrp', ax=ax, alpha=0.2)"
   ]
  },
  {
   "cell_type": "code",
   "execution_count": null,
   "metadata": {},
   "outputs": [],
   "source": [
    "lr.score(df_retired[['pieces']], df_retired['msrp'])"
   ]
  },
  {
   "cell_type": "markdown",
   "metadata": {},
   "source": [
    "But this is using all the data, we should split it into train (fit) and test subsets\n",
    "to make sure the model isn't just memorizing all the data. <br>\n",
    "This will be a better test if the model is actually learning anything."
   ]
  },
  {
   "cell_type": "code",
   "execution_count": null,
   "metadata": {},
   "outputs": [],
   "source": [
    "train_df, test_df = train_test_split(df_retired, test_size=0.15)\n",
    "lr = LinearRegression()\n",
    "lr.fit(train_df[['pieces']], train_df['msrp']) # train the model on the train df\n",
    "lr.score(test_df[['pieces']], test_df['msrp']) # score the model on the test df\n",
    "\n",
    "# if you run this multiple times you will see the score value changing\n",
    "# this is because of the variance in the data when you split it"
   ]
  },
  {
   "cell_type": "code",
   "execution_count": null,
   "metadata": {},
   "outputs": [],
   "source": [
    "# we can see this variance with the code below\n",
    "train_df['msrp'].var(), test_df['msrp'].var()"
   ]
  },
  {
   "cell_type": "markdown",
   "metadata": {},
   "source": [
    "## Cross Validation\n",
    "Use different chunks of data for train/test (folds) and see how the model scores change"
   ]
  },
  {
   "cell_type": "code",
   "execution_count": null,
   "metadata": {},
   "outputs": [],
   "source": [
    "scores = cross_val_score(lr, train_df[['pieces']], train_df['msrp'], cv=10)\n",
    "scores.mean()\n",
    "# should probably use the test dataframe to score the models in production\n",
    "# OR are you supposed to use the entire dataset?"
   ]
  },
  {
   "cell_type": "code",
   "execution_count": null,
   "metadata": {},
   "outputs": [],
   "source": [
    "# Let's add some more features\n",
    "train_df, test_df = train_test_split(df_retired, test_size=0.15)\n",
    "lr = LinearRegression()\n",
    "lr.fit(train_df[['pieces', 'minifigs_total']], train_df['msrp']) # train the model on the train df\n",
    "lr.score(test_df[['pieces', 'minifigs_total']], test_df['msrp']) # score the model on the test df\n",
    "scores2 = cross_val_score(lr, test_df[['pieces', 'minifigs_total']], test_df['msrp'], cv=10)\n",
    "scores2.mean()\n",
    "\n",
    "# interesting the model score went down\n",
    "# could be because I used test df for this one and train df for the last one."
   ]
  },
  {
   "cell_type": "markdown",
   "metadata": {},
   "source": [
    "## More exploration"
   ]
  },
  {
   "cell_type": "markdown",
   "metadata": {},
   "source": [
    "Looks like a non-linear relationship, bit of a bump in the middle. But regression needs a straight line. Investigate polynomial regression."
   ]
  },
  {
   "cell_type": "code",
   "execution_count": null,
   "metadata": {},
   "outputs": [],
   "source": [
    "df_retired.plot.scatter(x=\"retirement_date\", y=\"pct_appreciation\", alpha=0.2)\n",
    "df_retired.boxplot(by='retirement_date', column=['pct_appreciation'], grid=False)"
   ]
  },
  {
   "cell_type": "markdown",
   "metadata": {},
   "source": [
    "Do the # of minifigs correlate to better appreciation?"
   ]
  },
  {
   "cell_type": "code",
   "execution_count": null,
   "metadata": {},
   "outputs": [],
   "source": [
    "df_retired.plot.scatter(x=\"minifigs_total\", y=\"pct_appreciation\", alpha=0.2)\n",
    "df_retired.plot.scatter(x=\"minifigs_unique\", y=\"pct_appreciation\", alpha=0.2)"
   ]
  },
  {
   "cell_type": "markdown",
   "metadata": {},
   "source": [
    "## Linear Regression on minifigs vs appreciation"
   ]
  },
  {
   "cell_type": "code",
   "execution_count": null,
   "metadata": {},
   "outputs": [],
   "source": [
    "train_df, test_df = train_test_split(df_retired, test_size=0.2)\n",
    "lr = LinearRegression()\n",
    "lr.fit(train_df[['minifigs_total']], train_df['pct_appreciation'])\n",
    "lr.score(test_df[['minifigs_total']], test_df['pct_appreciation'])\n",
    "\n",
    "# negative R2, OK, this is worse than taking the mean."
   ]
  },
  {
   "cell_type": "code",
   "execution_count": null,
   "metadata": {},
   "outputs": [],
   "source": [
    "# Looks like there is no correlation\n",
    "# Let's try permutation testing\n",
    "# returns a tuple of score, garbage scores, pvalue\n",
    "score, garbage_scores, pvalue = permutation_test_score(lr, test_df[['minifigs_total']], test_df['pct_appreciation'])\n",
    "score, pvalue"
   ]
  },
  {
   "cell_type": "code",
   "execution_count": null,
   "metadata": {},
   "outputs": [],
   "source": [
    "pd.Series(garbage_scores).hist()"
   ]
  },
  {
   "cell_type": "code",
   "execution_count": null,
   "metadata": {},
   "outputs": [],
   "source": [
    "pvalue\n",
    "# pvalue is high indicating there is a good chance you could recreate the model with random label changes\n",
    "# not good\n",
    "# but it makes sense, when we added the minifig features to the model above the r2 score went down!"
   ]
  },
  {
   "cell_type": "markdown",
   "metadata": {},
   "source": [
    "# Sklearn Pipeline"
   ]
  },
  {
   "cell_type": "markdown",
   "metadata": {},
   "source": [
    "Model 1 - Linear Regression Using Multiple Features"
   ]
  },
  {
   "cell_type": "code",
   "execution_count": null,
   "metadata": {},
   "outputs": [],
   "source": [
    "df_retired.plot.scatter(x=\"retirement_date\", y=\"pct_appreciation\", alpha=0.2)\n",
    "df_retired.plot.scatter(x=\"time_since_retirement\", y=\"pct_appreciation\", alpha=0.2)\n",
    "\n"
   ]
  },
  {
   "cell_type": "code",
   "execution_count": null,
   "metadata": {},
   "outputs": [],
   "source": [
    "train_df, test_df = train_test_split(df_retired)\n",
    "m1 = LinearRegression()\n",
    "m1.fit(train_df[['time_since_retirement']], train_df['pct_appreciation'])\n",
    "print(m1.score(test_df[['time_since_retirement']], test_df['pct_appreciation']))\n",
    "train_df['pct_appreciation'].var(), test_df['pct_appreciation'].var() # check variance between data sets\n",
    "\n",
    "# Every time this model is run the score is different\n",
    "# This is mostly due to the variance from the mean in the train vs test dataframes"
   ]
  },
  {
   "cell_type": "markdown",
   "metadata": {},
   "source": [
    "Cross Validation <br>\n",
    "Take different chunks (folds) of data to be train and test, do this cv times and get a score for each iteration <br> **** NEVER USE YOUR TEST DATA FOR TUNING ****"
   ]
  },
  {
   "cell_type": "code",
   "execution_count": null,
   "metadata": {},
   "outputs": [],
   "source": [
    "train_df, test_df = train_test_split(df_retired)\n",
    "m1 = LinearRegression()\n",
    "# m1.fit(train_df[['time_since_retirement']], train_df['pct_appreciation'])\n",
    "scores1 = cross_val_score(m1, train_df[['time_since_retirement']], train_df['pct_appreciation'], cv=3)\n",
    "scores1.mean()"
   ]
  },
  {
   "cell_type": "markdown",
   "metadata": {},
   "source": [
    "Model 2 Polynomial Regression"
   ]
  },
  {
   "cell_type": "code",
   "execution_count": null,
   "metadata": {},
   "outputs": [],
   "source": [
    "# This is showing what the fit transform method does\n",
    "# create an instance of polynomialfeautures class\n",
    "poly = PolynomialFeatures(degree=2, include_bias=False) # bias=False -> no to the zero power\n",
    "\n",
    "# use fit transform method and set to date variable\n",
    "data = poly.fit_transform(train_df[['time_since_retirement']])\n",
    "\n",
    "# create a dataframe from the array that fit transform returns\n",
    "pd.DataFrame(data, columns=poly.get_feature_names_out([\"time_since_retirement\"]))"
   ]
  },
  {
   "cell_type": "code",
   "execution_count": null,
   "metadata": {},
   "outputs": [],
   "source": [
    "# A pipeline will take a tranformer and an estimator\n",
    "m2 = Pipeline([\n",
    "            (\"poly\", PolynomialFeatures(degree=2, include_bias=False)), # Transformer\n",
    "            (\"lr\", LinearRegression()) # estimator\n",
    "])\n",
    "m2"
   ]
  },
  {
   "cell_type": "code",
   "execution_count": null,
   "metadata": {},
   "outputs": [],
   "source": [
    "# m2 is now our model and we can do all things we did with the previous models\n",
    "m2.fit(train_df[['time_since_retirement']], train_df['pct_appreciation'])\n",
    "scores2 = cross_val_score(m2, train_df[['time_since_retirement']], train_df['pct_appreciation'], cv=10)\n",
    "scores2.mean()"
   ]
  },
  {
   "cell_type": "markdown",
   "metadata": {},
   "source": [
    "Model 3 - Linear Regression with OneHotEncoder"
   ]
  },
  {
   "cell_type": "code",
   "execution_count": null,
   "metadata": {},
   "outputs": [],
   "source": [
    "# deomonstrate how onehot works\n",
    "\n",
    "# create a onehotencoder object\n",
    "oh = OneHotEncoder()\n",
    "data = oh.fit_transform(train_df[['theme_group']])\n",
    "pd.DataFrame(data.toarray(), columns=oh.get_feature_names_out())"
   ]
  },
  {
   "cell_type": "code",
   "execution_count": null,
   "metadata": {},
   "outputs": [],
   "source": [
    "# do the onehot as above, but incorporate into a pipepline\n",
    "m3 = Pipeline([\n",
    "            (\"onehot\", OneHotEncoder()),\n",
    "            (\"lr\", LinearRegression())\n",
    "])\n",
    "scores3 = cross_val_score(m3, train_df[['theme_group']], train_df['pct_appreciation'], cv=10)\n",
    "scores3.mean()"
   ]
  },
  {
   "cell_type": "code",
   "execution_count": null,
   "metadata": {},
   "outputs": [],
   "source": [
    "m3_1 = Pipeline([\n",
    "            (\"onehot4\", OneHotEncoder(handle_unknown='ignore')), # added handle arg because was getting ValueError: Found unknown categories\n",
    "            (\"lr4\", LinearRegression())\n",
    "])\n",
    "scores3_1 = cross_val_score(m3_1, train_df[['theme']], train_df['pct_appreciation'], cv=10)\n",
    "scores3_1.mean()\n",
    "\n",
    "# unknown categories error happens when the test data sees a value that wasnt in the train data.\n",
    "# would stratify help this?"
   ]
  },
  {
   "cell_type": "code",
   "execution_count": null,
   "metadata": {},
   "outputs": [],
   "source": [
    "m3_2 = Pipeline([\n",
    "            (\"onehot4\", OneHotEncoder(handle_unknown='ignore')),\n",
    "            (\"lr5\", LinearRegression())\n",
    "])\n",
    "scores3_2 = cross_val_score(m3_2, train_df[['subtheme']], train_df['pct_appreciation'], cv=10)\n",
    "scores3_2.mean()"
   ]
  },
  {
   "cell_type": "markdown",
   "metadata": {},
   "source": [
    "Model 4 - Combination of models using Pipeline and Column Transformer"
   ]
  },
  {
   "cell_type": "code",
   "execution_count": null,
   "metadata": {},
   "outputs": [],
   "source": [
    "# Using theme_group\n",
    "\n",
    "m4 = Pipeline([\n",
    "    ('both', make_column_transformer((OneHotEncoder(handle_unknown='ignore'), ['theme_group']),\n",
    "                                    (PolynomialFeatures(degree=2, include_bias=False), ['time_since_retirement']))),\n",
    "                                    ('lr', LinearRegression())\n",
    "])\n",
    "scores4 = cross_val_score(m4, train_df[['theme_group', 'time_since_retirement']], train_df['pct_appreciation'], cv=10)\n",
    "scores4.mean()"
   ]
  },
  {
   "cell_type": "code",
   "execution_count": null,
   "metadata": {},
   "outputs": [],
   "source": [
    "# Using theme\n",
    "\n",
    "m5 = Pipeline([\n",
    "    ('both', make_column_transformer((OneHotEncoder(handle_unknown='ignore'), ['theme']),\n",
    "                                    (PolynomialFeatures(degree=2, include_bias=False), ['time_since_retirement']))),\n",
    "                                    ('lr', LinearRegression())\n",
    "])\n",
    "score5 = cross_val_score(m5, train_df[['theme', 'time_since_retirement']], train_df['pct_appreciation'], cv=10)\n",
    "score5.mean()"
   ]
  },
  {
   "cell_type": "code",
   "execution_count": null,
   "metadata": {},
   "outputs": [],
   "source": [
    "# Using subtheme\n",
    "\n",
    "m6 = Pipeline([\n",
    "    ('both', make_column_transformer((OneHotEncoder(handle_unknown='ignore'), ['subtheme']),\n",
    "                                    (PolynomialFeatures(degree=2, include_bias=False), ['time_since_retirement']))),\n",
    "                                    ('lr', LinearRegression())\n",
    "])\n",
    "score6 = cross_val_score(m6, train_df[['subtheme', 'time_since_retirement']], train_df['pct_appreciation'], cv=10)\n",
    "score6.mean()"
   ]
  },
  {
   "cell_type": "code",
   "execution_count": null,
   "metadata": {},
   "outputs": [],
   "source": [
    "# using all the theme features\n",
    "\n",
    "m7 = Pipeline([\n",
    "    ('both', make_column_transformer((OneHotEncoder(handle_unknown='ignore'), ['theme_group', 'theme', 'subtheme']),\n",
    "                                    (PolynomialFeatures(degree=2, include_bias=False), ['time_since_retirement']))),\n",
    "                                    ('lr', LinearRegression())\n",
    "])\n",
    "score7 = cross_val_score(m7, train_df[['theme', 'theme_group', 'subtheme', 'time_since_retirement']], train_df['pct_appreciation'], cv=10)\n",
    "score7.mean()\n",
    "\n",
    "# our acuracy is going backwards"
   ]
  },
  {
   "cell_type": "code",
   "execution_count": null,
   "metadata": {},
   "outputs": [],
   "source": [
    "# using just theme_group and theme, not subtheme\n",
    "\n",
    "m8 = Pipeline([\n",
    "    ('both', make_column_transformer((OneHotEncoder(handle_unknown='ignore'), ['theme_group', 'theme']),\n",
    "                                    (PolynomialFeatures(degree=2, include_bias=False), ['time_since_retirement']))),\n",
    "                                    ('lr', LinearRegression())\n",
    "])\n",
    "score8 = cross_val_score(m8, train_df[['theme', 'theme_group', 'time_since_retirement']], train_df['pct_appreciation'], cv=10)\n",
    "score8.mean()\n",
    "\n",
    "# best model yet @ 22%"
   ]
  },
  {
   "cell_type": "code",
   "execution_count": null,
   "metadata": {},
   "outputs": [],
   "source": [
    "train_df"
   ]
  }
 ],
 "metadata": {
  "interpreter": {
   "hash": "a3d27a1262443bf81d956944ba39c319c9af5ff8c49c4c94a70ac22ee8a65b7d"
  },
  "kernelspec": {
   "display_name": "Python 3.8.12 ('Lego Data Analysis')",
   "language": "python",
   "name": "python3"
  },
  "language_info": {
   "codemirror_mode": {
    "name": "ipython",
    "version": 3
   },
   "file_extension": ".py",
   "mimetype": "text/x-python",
   "name": "python",
   "nbconvert_exporter": "python",
   "pygments_lexer": "ipython3",
   "version": "3.8.12"
  },
  "orig_nbformat": 4
 },
 "nbformat": 4,
 "nbformat_minor": 2
}
