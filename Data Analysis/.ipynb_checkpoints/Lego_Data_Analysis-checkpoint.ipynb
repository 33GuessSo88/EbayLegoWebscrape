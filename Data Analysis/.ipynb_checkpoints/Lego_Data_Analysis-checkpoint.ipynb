{
 "cells": [
  {
   "cell_type": "code",
   "execution_count": null,
   "id": "ec4427e4-5b86-4acb-ab51-a16a949df422",
   "metadata": {},
   "outputs": [],
   "source": [
    "import pandas as pd\n",
    "import numpy as np\n",
    "import sqlite3 as sql\n",
    "import matplotlib.pyplot as plt\n",
    "%matplotlib inline"
   ]
  },
  {
   "cell_type": "code",
   "execution_count": null,
   "id": "ed600996-7d01-427e-acc2-4e13e739343c",
   "metadata": {},
   "outputs": [],
   "source": [
    "# Create connection to database\n",
    "database = \"C:\\\\Users\\\\zubaz\\\\Documents\\\\Python\\\\EbayLegoWebscrape\\\\lego.db\"\n",
    "connection = sql.connect(database)"
   ]
  },
  {
   "cell_type": "code",
   "execution_count": null,
   "id": "eaa11ded-1896-460a-a34b-c09b0eb5b458",
   "metadata": {},
   "outputs": [],
   "source": [
    "query1 = '''SELECT * FROM ebay_prices'''\n",
    "query2 = '''SELECT * FROM set_details'''"
   ]
  },
  {
   "cell_type": "code",
   "execution_count": null,
   "id": "b170d110-226f-4440-b214-f4a9b5565fe9",
   "metadata": {},
   "outputs": [],
   "source": [
    "df = pd.read_sql_query(query1, connection)\n",
    "df.head()"
   ]
  },
  {
   "cell_type": "code",
   "execution_count": null,
   "id": "f2256680-7b74-4035-9782-c89be319e4e3",
   "metadata": {},
   "outputs": [],
   "source": [
    "df_set = pd.read_sql_query(query2, connection)\n",
    "df_set(head)"
   ]
  },
  {
   "cell_type": "code",
   "execution_count": null,
   "id": "b36ef20d-eb91-49ec-aa4a-cf3ac21a4622",
   "metadata": {},
   "outputs": [],
   "source": [
    "df.shape"
   ]
  },
  {
   "cell_type": "code",
   "execution_count": null,
   "id": "da1c37e1-7b88-4957-89aa-9a6fcdc815e6",
   "metadata": {},
   "outputs": [],
   "source": [
    "# we don't need link column, let's remove it\n",
    "df = df.drop(['link'], axis=1)"
   ]
  },
  {
   "cell_type": "code",
   "execution_count": null,
   "id": "dee50c08-2f7b-4705-9705-4d78ce4f4192",
   "metadata": {},
   "outputs": [],
   "source": [
    "df.info()"
   ]
  },
  {
   "cell_type": "code",
   "execution_count": null,
   "id": "d3459308-d765-4b91-9a00-53b906d4aaf3",
   "metadata": {},
   "outputs": [],
   "source": [
    "#change date column from text to datetime\n",
    "df['date'] = pd.to_datetime(df['date'])\n",
    "df.dtypes"
   ]
  },
  {
   "cell_type": "code",
   "execution_count": null,
   "id": "bb59636e-753a-4913-8917-1256d236da8f",
   "metadata": {},
   "outputs": [],
   "source": [
    "# find earliest and latest dates and how many days of data exists\n",
    "oldest_date = df['date'].min()\n",
    "recent_date = df['date'].max()\n",
    "date_difference = recent_date - oldest_date\n",
    "print(oldest_date)\n",
    "print(recent_date)\n",
    "print(date_difference)"
   ]
  },
  {
   "cell_type": "code",
   "execution_count": null,
   "id": "3010b99b-053a-4c70-9f34-6b2ee11d6a1c",
   "metadata": {},
   "outputs": [],
   "source": [
    "# Check if all values in price column are intergers\n",
    "all(x.is_integer() for x in df['price'])"
   ]
  },
  {
   "cell_type": "code",
   "execution_count": null,
   "id": "5d69cd7a-5186-46ee-8dc0-aa8d18a01e18",
   "metadata": {},
   "outputs": [],
   "source": [
    "print(df[pd.to_numeric(df['price'], errors='coerce').isnull()])"
   ]
  },
  {
   "cell_type": "code",
   "execution_count": null,
   "id": "ce96dd0d-fd06-4dab-abae-40a9b75fbf49",
   "metadata": {
    "tags": []
   },
   "outputs": [],
   "source": [
    "df.shape"
   ]
  },
  {
   "cell_type": "code",
   "execution_count": null,
   "id": "002bb4b5-fb7f-44b9-a996-7309b1bda54d",
   "metadata": {},
   "outputs": [],
   "source": [
    "# looks like the commas are bad, let's replace commas with nothing\n",
    "df['price'] = df['price'].replace(',','', regex=True)\n"
   ]
  },
  {
   "cell_type": "code",
   "execution_count": null,
   "id": "9e69ed67-f24f-49aa-8fa6-2a5155b5b009",
   "metadata": {},
   "outputs": [],
   "source": [
    "print(df['price'] [pd.to_numeric(df['price'], errors='coerce').isnull()])"
   ]
  },
  {
   "cell_type": "code",
   "execution_count": null,
   "id": "09393d11-d9d1-44a9-bc10-f78afb86649b",
   "metadata": {},
   "outputs": [],
   "source": [
    "df.shape"
   ]
  },
  {
   "cell_type": "code",
   "execution_count": null,
   "id": "10819568-01a3-468c-9702-6eac25573953",
   "metadata": {},
   "outputs": [],
   "source": [
    "# find the index of rows with 'to' in them\n",
    "# these values are too hard to deal with, probably not representative listings\n",
    "remove_rows = df[df['price'].str.contains(\"to\") == True].index\n",
    "\n",
    "print(remove_rows)\n"
   ]
  },
  {
   "cell_type": "code",
   "execution_count": null,
   "id": "483a5366-8a3e-424a-b481-13368ed98043",
   "metadata": {},
   "outputs": [],
   "source": [
    "# remove these rows\n",
    "df.drop(remove_rows, inplace=True)"
   ]
  },
  {
   "cell_type": "code",
   "execution_count": null,
   "id": "3efc7302-a7fd-4c3d-8ccc-c4e05424ff32",
   "metadata": {},
   "outputs": [],
   "source": [
    "df.shape"
   ]
  },
  {
   "cell_type": "code",
   "execution_count": null,
   "id": "f4d8b64a-89e3-4686-b9fc-095073ffa060",
   "metadata": {},
   "outputs": [],
   "source": [
    "print(df[pd.to_numeric(df['price'], errors='coerce').isnull()])"
   ]
  },
  {
   "cell_type": "code",
   "execution_count": null,
   "id": "814797ca-ff03-44b7-869a-382b99a29134",
   "metadata": {},
   "outputs": [],
   "source": [
    "# checks price column to make sure all rows are numeric\n",
    "pd.to_numeric(df['price'], errors='coerce').notnull().all()"
   ]
  },
  {
   "cell_type": "code",
   "execution_count": null,
   "id": "8e8ec799-2cdf-48a4-9bb4-6a1a21add39e",
   "metadata": {},
   "outputs": [],
   "source": [
    "df.dtypes"
   ]
  },
  {
   "cell_type": "code",
   "execution_count": null,
   "id": "f54a6eb7-bdff-4083-8dd8-261f5e933d24",
   "metadata": {},
   "outputs": [],
   "source": [
    "# now that all rows in price column are numeric, change column data type to numeric\n",
    "# will pick int64 if there are no decimals, float 64 if decimals are present, which they are\n",
    "df['price'] = pd.to_numeric(df['price'])\n",
    "df.dtypes"
   ]
  },
  {
   "cell_type": "code",
   "execution_count": null,
   "id": "6edbe419-17e5-4f7f-afc4-8cd54c4ca126",
   "metadata": {},
   "outputs": [],
   "source": [
    "# lets take a look at just the ghostbusters set data\n",
    "filt = (df['set_num'] == 75827)\n",
    "dffilt = df[filt].sort_values(by='price')\n",
    "dffilt['price'].describe()\n"
   ]
  },
  {
   "cell_type": "code",
   "execution_count": null,
   "id": "0f8525ab-d92f-4dea-bd9c-39dcba114b4b",
   "metadata": {},
   "outputs": [],
   "source": [
    "dffilt.boxplot(column=['price'])\n",
    "# looks like we've got some outlier prices"
   ]
  },
  {
   "cell_type": "code",
   "execution_count": null,
   "id": "549c2c76-3760-4cb9-87e2-d3d7cc96ab9a",
   "metadata": {},
   "outputs": [],
   "source": [
    "# This is Tukey's rule, know as the IQR rule\n",
    "# IQR is the Inter Quartile Range\n",
    "Q1 = dffilt['price'].quantile(0.25)\n",
    "Q3 = dffilt['price'].quantile(0.75)\n",
    "IQR = Q3 - Q1\n",
    "IQR"
   ]
  },
  {
   "cell_type": "code",
   "execution_count": null,
   "id": "b95e4290-31b8-4c48-94ac-3b350398571e",
   "metadata": {},
   "outputs": [],
   "source": [
    "# We will use 1.5*IQR for our limits, you can also use 2.5 or 2.0\n",
    "lower_lim = Q1 - 1.5*IQR\n",
    "upper_lim = Q3 + 1.5*IQR\n",
    "lower_lim"
   ]
  },
  {
   "cell_type": "code",
   "execution_count": null,
   "id": "a672ee32-baed-4f36-962f-b6648647dd75",
   "metadata": {},
   "outputs": [],
   "source": [
    "upper_lim"
   ]
  },
  {
   "cell_type": "code",
   "execution_count": null,
   "id": "397380aa-5521-4239-a0ee-af59bdd09ea4",
   "metadata": {},
   "outputs": [],
   "source": [
    "# how many rows below our low limit?\n",
    "outliers_15_low = ( dffilt['price'] < lower_lim)\n",
    "len(dffilt['price'][outliers_15_low])"
   ]
  },
  {
   "cell_type": "code",
   "execution_count": null,
   "id": "8ed7ba5f-9417-4967-b7ea-4c9fed45d65e",
   "metadata": {},
   "outputs": [],
   "source": [
    "# how many rows above high limit?\n",
    "outliers_15_high = ( dffilt['price'] > upper_lim)\n",
    "len(dffilt['price'][outliers_15_high])"
   ]
  },
  {
   "cell_type": "code",
   "execution_count": null,
   "id": "31a924bd-833c-4008-9f34-80902dbb39cb",
   "metadata": {},
   "outputs": [],
   "source": [
    "# the tilda ~ reverses the filtered indexes\n",
    "dffilt = dffilt[~(outliers_15_low | outliers_15_high)]\n"
   ]
  },
  {
   "cell_type": "code",
   "execution_count": null,
   "id": "d029a740-11b8-4ccb-873a-c22293a5f45c",
   "metadata": {},
   "outputs": [],
   "source": [
    "dffilt"
   ]
  },
  {
   "cell_type": "code",
   "execution_count": null,
   "id": "9469f74a-2775-43a6-9928-af8f019e873a",
   "metadata": {},
   "outputs": [],
   "source": [
    "dffilt.boxplot(column='price')"
   ]
  },
  {
   "cell_type": "code",
   "execution_count": null,
   "id": "a36f9d17-3d6f-4791-9645-70584c540da1",
   "metadata": {},
   "outputs": [],
   "source": [
    "dffilt_group = dffilt.groupby(['date']).mean()\n",
    "dffilt_group"
   ]
  },
  {
   "cell_type": "code",
   "execution_count": null,
   "id": "113d58e1-a91c-40d3-a32b-6b9096997714",
   "metadata": {},
   "outputs": [],
   "source": [
    "plt.rc('font', size=12)\n",
    "fig, ax = plt.subplots(figsize=(10, 6))\n",
    "\n",
    "ax.plot(dffilt_group.index, dffilt_group.price, label='Average Daily Price')\n",
    "\n",
    "ax.set_xlabel('date')\n",
    "ax.set_ylabel('Price')\n",
    "ax.set_title('Example')\n",
    "ax.grid(True)\n",
    "ax.legend(loc='upper left');"
   ]
  },
  {
   "cell_type": "code",
   "execution_count": null,
   "id": "2530b436-1575-4881-a8d9-f3d3196ffb91",
   "metadata": {},
   "outputs": [],
   "source": []
  }
 ],
 "metadata": {
  "kernelspec": {
   "display_name": "Python 3 (ipykernel)",
   "language": "python",
   "name": "python3"
  },
  "language_info": {
   "codemirror_mode": {
    "name": "ipython",
    "version": 3
   },
   "file_extension": ".py",
   "mimetype": "text/x-python",
   "name": "python",
   "nbconvert_exporter": "python",
   "pygments_lexer": "ipython3",
   "version": "3.8.12"
  }
 },
 "nbformat": 4,
 "nbformat_minor": 5
}
