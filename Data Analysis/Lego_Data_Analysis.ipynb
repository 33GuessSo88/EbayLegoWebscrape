{
 "cells": [
  {
   "cell_type": "code",
   "execution_count": 1,
   "id": "ec4427e4-5b86-4acb-ab51-a16a949df422",
   "metadata": {},
   "outputs": [],
   "source": [
    "import pandas as pd\n",
    "import numpy as np\n",
    "import sqlite3 as sql\n",
    "import matplotlib.pyplot as plt\n",
    "%matplotlib inline"
   ]
  },
  {
   "cell_type": "code",
   "execution_count": 2,
   "id": "ed600996-7d01-427e-acc2-4e13e739343c",
   "metadata": {},
   "outputs": [],
   "source": [
    "# Create connection to database\n",
    "database = \"C:\\\\Users\\\\zubaz\\\\Documents\\\\Python\\\\EbayLegoWebscrape\\\\lego.db\"\n",
    "connection = sql.connect(database)"
   ]
  },
  {
   "cell_type": "code",
   "execution_count": 3,
   "id": "eaa11ded-1896-460a-a34b-c09b0eb5b458",
   "metadata": {},
   "outputs": [],
   "source": [
    "query1 = '''SELECT set_num, date, price\n",
    "            FROM ebay_prices'''\n",
    "query2 = '''SELECT * FROM set_details'''"
   ]
  },
  {
   "cell_type": "code",
   "execution_count": 4,
   "id": "b170d110-226f-4440-b214-f4a9b5565fe9",
   "metadata": {},
   "outputs": [
    {
     "data": {
      "text/html": [
       "<div>\n",
       "<style scoped>\n",
       "    .dataframe tbody tr th:only-of-type {\n",
       "        vertical-align: middle;\n",
       "    }\n",
       "\n",
       "    .dataframe tbody tr th {\n",
       "        vertical-align: top;\n",
       "    }\n",
       "\n",
       "    .dataframe thead th {\n",
       "        text-align: right;\n",
       "    }\n",
       "</style>\n",
       "<table border=\"1\" class=\"dataframe\">\n",
       "  <thead>\n",
       "    <tr style=\"text-align: right;\">\n",
       "      <th></th>\n",
       "      <th>set_num</th>\n",
       "      <th>date</th>\n",
       "      <th>price</th>\n",
       "    </tr>\n",
       "  </thead>\n",
       "  <tbody>\n",
       "    <tr>\n",
       "      <th>0</th>\n",
       "      <td>10256</td>\n",
       "      <td>02-01-2022</td>\n",
       "      <td>20.0</td>\n",
       "    </tr>\n",
       "    <tr>\n",
       "      <th>1</th>\n",
       "      <td>70147</td>\n",
       "      <td>01-07-2022</td>\n",
       "      <td>158.99</td>\n",
       "    </tr>\n",
       "    <tr>\n",
       "      <th>2</th>\n",
       "      <td>70222</td>\n",
       "      <td>01-07-2022</td>\n",
       "      <td>119.99</td>\n",
       "    </tr>\n",
       "    <tr>\n",
       "      <th>3</th>\n",
       "      <td>70223</td>\n",
       "      <td>01-07-2022</td>\n",
       "      <td>184.98</td>\n",
       "    </tr>\n",
       "    <tr>\n",
       "      <th>4</th>\n",
       "      <td>41052</td>\n",
       "      <td>01-07-2022</td>\n",
       "      <td>185.98</td>\n",
       "    </tr>\n",
       "  </tbody>\n",
       "</table>\n",
       "</div>"
      ],
      "text/plain": [
       "  set_num        date   price\n",
       "0   10256  02-01-2022    20.0\n",
       "1   70147  01-07-2022  158.99\n",
       "2   70222  01-07-2022  119.99\n",
       "3   70223  01-07-2022  184.98\n",
       "4   41052  01-07-2022  185.98"
      ]
     },
     "execution_count": 4,
     "metadata": {},
     "output_type": "execute_result"
    }
   ],
   "source": [
    "df = pd.read_sql_query(query1, connection)\n",
    "df.head()"
   ]
  },
  {
   "cell_type": "code",
   "execution_count": 6,
   "id": "dee50c08-2f7b-4705-9705-4d78ce4f4192",
   "metadata": {},
   "outputs": [
    {
     "name": "stdout",
     "output_type": "stream",
     "text": [
      "<class 'pandas.core.frame.DataFrame'>\n",
      "RangeIndex: 55823 entries, 0 to 55822\n",
      "Data columns (total 3 columns):\n",
      " #   Column   Non-Null Count  Dtype \n",
      "---  ------   --------------  ----- \n",
      " 0   set_num  55823 non-null  object\n",
      " 1   date     55823 non-null  object\n",
      " 2   price    55823 non-null  object\n",
      "dtypes: object(3)\n",
      "memory usage: 1.3+ MB\n"
     ]
    }
   ],
   "source": [
    "df.info()"
   ]
  },
  {
   "cell_type": "code",
   "execution_count": 7,
   "id": "f2256680-7b74-4035-9782-c89be319e4e3",
   "metadata": {},
   "outputs": [
    {
     "data": {
      "text/html": [
       "<div>\n",
       "<style scoped>\n",
       "    .dataframe tbody tr th:only-of-type {\n",
       "        vertical-align: middle;\n",
       "    }\n",
       "\n",
       "    .dataframe tbody tr th {\n",
       "        vertical-align: top;\n",
       "    }\n",
       "\n",
       "    .dataframe thead th {\n",
       "        text-align: right;\n",
       "    }\n",
       "</style>\n",
       "<table border=\"1\" class=\"dataframe\">\n",
       "  <thead>\n",
       "    <tr style=\"text-align: right;\">\n",
       "      <th></th>\n",
       "      <th>set_num</th>\n",
       "      <th>set_name</th>\n",
       "      <th>theme_group</th>\n",
       "      <th>theme</th>\n",
       "      <th>subtheme</th>\n",
       "      <th>year_released</th>\n",
       "      <th>launch_exit</th>\n",
       "      <th>pieces</th>\n",
       "      <th>minifigs</th>\n",
       "      <th>designer</th>\n",
       "      <th>msrp</th>\n",
       "      <th>age_range</th>\n",
       "      <th>packaging</th>\n",
       "      <th>availability</th>\n",
       "      <th>rating</th>\n",
       "    </tr>\n",
       "  </thead>\n",
       "  <tbody>\n",
       "    <tr>\n",
       "      <th>0</th>\n",
       "      <td>60009-1</td>\n",
       "      <td>Helicopter Arrest</td>\n",
       "      <td>Modern day</td>\n",
       "      <td>City</td>\n",
       "      <td>Police</td>\n",
       "      <td>2013</td>\n",
       "      <td>None</td>\n",
       "      <td>352.0</td>\n",
       "      <td>5</td>\n",
       "      <td>Henrik Andersen</td>\n",
       "      <td>£39.99 / $49.99</td>\n",
       "      <td>5 - 12</td>\n",
       "      <td>Box</td>\n",
       "      <td>Retail - limited</td>\n",
       "      <td>✭✭✭✭✩ 3.8 52 ratings</td>\n",
       "    </tr>\n",
       "    <tr>\n",
       "      <th>1</th>\n",
       "      <td>60012-1</td>\n",
       "      <td>Coast Guard 4x4 &amp; Diving Boat</td>\n",
       "      <td>Modern day</td>\n",
       "      <td>City</td>\n",
       "      <td>Coast Guard</td>\n",
       "      <td>2013</td>\n",
       "      <td>01 Jun 2013 - 31 Jul 2015</td>\n",
       "      <td>128.0</td>\n",
       "      <td>2 (2 Unique to this set)</td>\n",
       "      <td>None</td>\n",
       "      <td>£9.99 / $19.99 / 12.99€</td>\n",
       "      <td>5 - 12</td>\n",
       "      <td>Box</td>\n",
       "      <td>Retail</td>\n",
       "      <td>✭✭✭✭✩ 3.8 145 ratings 4 Reviews Official Brick...</td>\n",
       "    </tr>\n",
       "    <tr>\n",
       "      <th>2</th>\n",
       "      <td>75975-1</td>\n",
       "      <td>Watchpoint: Gibraltar</td>\n",
       "      <td>Licensed</td>\n",
       "      <td>Overwatch</td>\n",
       "      <td>None</td>\n",
       "      <td>2019</td>\n",
       "      <td>01 Jan 2019 - 31 Jul 2020</td>\n",
       "      <td>730.0</td>\n",
       "      <td>4 (3 Unique to this set)</td>\n",
       "      <td>Mark Stafford</td>\n",
       "      <td>£79.99 / $89.99 / 87.72€</td>\n",
       "      <td>9+</td>\n",
       "      <td>Box</td>\n",
       "      <td>Retail</td>\n",
       "      <td>✭✭✭✭✩ 3.9 114 ratings 1 Review Official Bricks...</td>\n",
       "    </tr>\n",
       "    <tr>\n",
       "      <th>3</th>\n",
       "      <td>10155-1</td>\n",
       "      <td>Maersk Line Container Ship</td>\n",
       "      <td>Model making</td>\n",
       "      <td>Creator Expert</td>\n",
       "      <td>Maersk</td>\n",
       "      <td>2010</td>\n",
       "      <td>01 Aug 2010 - 31 Jul 2011</td>\n",
       "      <td>990.0</td>\n",
       "      <td>None</td>\n",
       "      <td>None</td>\n",
       "      <td>£102.99 / $119.99</td>\n",
       "      <td>8+</td>\n",
       "      <td>Box</td>\n",
       "      <td>LEGO exclusive</td>\n",
       "      <td>✭✭✭✭✩ 4.1 28 ratings 3 Reviews</td>\n",
       "    </tr>\n",
       "    <tr>\n",
       "      <th>4</th>\n",
       "      <td>10210-1</td>\n",
       "      <td>Imperial Flagship</td>\n",
       "      <td>Model making</td>\n",
       "      <td>Creator Expert</td>\n",
       "      <td>Miscellaneous</td>\n",
       "      <td>2010</td>\n",
       "      <td>01 Jan 2010 - 31 Dec 2011</td>\n",
       "      <td>1664.0</td>\n",
       "      <td>9 (6 Unique to this set)</td>\n",
       "      <td>Raphael Pretesacque</td>\n",
       "      <td>£142.99 / $179.99</td>\n",
       "      <td>14+</td>\n",
       "      <td>Box</td>\n",
       "      <td>Retail - limited</td>\n",
       "      <td>✭✭✭✭✭ 4.6 171 ratings 16 Reviews</td>\n",
       "    </tr>\n",
       "  </tbody>\n",
       "</table>\n",
       "</div>"
      ],
      "text/plain": [
       "   set_num                       set_name   theme_group           theme  \\\n",
       "0  60009-1              Helicopter Arrest    Modern day            City   \n",
       "1  60012-1  Coast Guard 4x4 & Diving Boat    Modern day            City   \n",
       "2  75975-1          Watchpoint: Gibraltar      Licensed       Overwatch   \n",
       "3  10155-1     Maersk Line Container Ship  Model making  Creator Expert   \n",
       "4  10210-1              Imperial Flagship  Model making  Creator Expert   \n",
       "\n",
       "        subtheme year_released                launch_exit  pieces  \\\n",
       "0         Police          2013                       None   352.0   \n",
       "1    Coast Guard          2013  01 Jun 2013 - 31 Jul 2015   128.0   \n",
       "2           None          2019  01 Jan 2019 - 31 Jul 2020   730.0   \n",
       "3         Maersk          2010  01 Aug 2010 - 31 Jul 2011   990.0   \n",
       "4  Miscellaneous          2010  01 Jan 2010 - 31 Dec 2011  1664.0   \n",
       "\n",
       "                   minifigs             designer                      msrp  \\\n",
       "0                         5      Henrik Andersen           £39.99 / $49.99   \n",
       "1  2 (2 Unique to this set)                 None   £9.99 / $19.99 / 12.99€   \n",
       "2  4 (3 Unique to this set)        Mark Stafford  £79.99 / $89.99 / 87.72€   \n",
       "3                      None                 None         £102.99 / $119.99   \n",
       "4  9 (6 Unique to this set)  Raphael Pretesacque         £142.99 / $179.99   \n",
       "\n",
       "  age_range packaging      availability  \\\n",
       "0    5 - 12       Box  Retail - limited   \n",
       "1    5 - 12       Box            Retail   \n",
       "2        9+       Box            Retail   \n",
       "3        8+       Box    LEGO exclusive   \n",
       "4       14+       Box  Retail - limited   \n",
       "\n",
       "                                              rating  \n",
       "0                               ✭✭✭✭✩ 3.8 52 ratings  \n",
       "1  ✭✭✭✭✩ 3.8 145 ratings 4 Reviews Official Brick...  \n",
       "2  ✭✭✭✭✩ 3.9 114 ratings 1 Review Official Bricks...  \n",
       "3                     ✭✭✭✭✩ 4.1 28 ratings 3 Reviews  \n",
       "4                   ✭✭✭✭✭ 4.6 171 ratings 16 Reviews  "
      ]
     },
     "execution_count": 7,
     "metadata": {},
     "output_type": "execute_result"
    }
   ],
   "source": [
    "df_set = pd.read_sql_query(query2, connection)\n",
    "df_set.head()"
   ]
  },
  {
   "cell_type": "code",
   "execution_count": 8,
   "id": "d3459308-d765-4b91-9a00-53b906d4aaf3",
   "metadata": {},
   "outputs": [],
   "source": [
    "#change date column from text to datetime\n",
    "df['date'] = pd.to_datetime(df['date'])"
   ]
  },
  {
   "cell_type": "code",
   "execution_count": 9,
   "id": "bb59636e-753a-4913-8917-1256d236da8f",
   "metadata": {},
   "outputs": [
    {
     "name": "stdout",
     "output_type": "stream",
     "text": [
      "2022-01-07 00:00:00\n",
      "2022-02-07 00:00:00\n",
      "31 days 00:00:00\n"
     ]
    }
   ],
   "source": [
    "# find earliest and latest dates and how many days of data exists\n",
    "oldest_date = df['date'].min()\n",
    "recent_date = df['date'].max()\n",
    "date_difference = recent_date - oldest_date\n",
    "print(oldest_date)\n",
    "print(recent_date)\n",
    "print(date_difference)"
   ]
  },
  {
   "cell_type": "code",
   "execution_count": 10,
   "id": "3010b99b-053a-4c70-9f34-6b2ee11d6a1c",
   "metadata": {},
   "outputs": [
    {
     "data": {
      "text/plain": [
       "False"
      ]
     },
     "execution_count": 10,
     "metadata": {},
     "output_type": "execute_result"
    }
   ],
   "source": [
    "# Check if all values in price column are intergers\n",
    "all(x.is_integer() for x in df['price'])"
   ]
  },
  {
   "cell_type": "code",
   "execution_count": 11,
   "id": "5d69cd7a-5186-46ee-8dc0-aa8d18a01e18",
   "metadata": {},
   "outputs": [
    {
     "name": "stdout",
     "output_type": "stream",
     "text": [
      "      set_num       date            price\n",
      "26      75523 2022-01-19  25.79 to 135.81\n",
      "38      10235 2022-02-06     3.29 to 4.98\n",
      "41      10695 2022-01-21  16.37 to 122.89\n",
      "95      21316 2022-01-11    9.89 to 13.89\n",
      "108     70321 2022-02-02  20.25 to 282.98\n",
      "...       ...        ...              ...\n",
      "54653   75252 2022-01-07         1,095.95\n",
      "55197   75827 2022-01-07         1,168.39\n",
      "55487   10251 2022-01-22         1,286.32\n",
      "55551   21137 2022-01-22         1,749.99\n",
      "55710   10251 2022-02-06         1,081.17\n",
      "\n",
      "[400 rows x 3 columns]\n"
     ]
    }
   ],
   "source": [
    "print(df[pd.to_numeric(df['price'], errors='coerce').isnull()])"
   ]
  },
  {
   "cell_type": "code",
   "execution_count": 12,
   "id": "ce96dd0d-fd06-4dab-abae-40a9b75fbf49",
   "metadata": {
    "tags": []
   },
   "outputs": [
    {
     "data": {
      "text/plain": [
       "(55823, 3)"
      ]
     },
     "execution_count": 12,
     "metadata": {},
     "output_type": "execute_result"
    }
   ],
   "source": [
    "df.shape"
   ]
  },
  {
   "cell_type": "code",
   "execution_count": 13,
   "id": "002bb4b5-fb7f-44b9-a996-7309b1bda54d",
   "metadata": {},
   "outputs": [],
   "source": [
    "# looks like the commas are bad, let's replace commas with nothing\n",
    "df['price'] = df['price'].replace(',','', regex=True)\n"
   ]
  },
  {
   "cell_type": "code",
   "execution_count": 14,
   "id": "9e69ed67-f24f-49aa-8fa6-2a5155b5b009",
   "metadata": {},
   "outputs": [
    {
     "name": "stdout",
     "output_type": "stream",
     "text": [
      "26       25.79 to 135.81\n",
      "38          3.29 to 4.98\n",
      "41       16.37 to 122.89\n",
      "95         9.89 to 13.89\n",
      "108      20.25 to 282.98\n",
      "2487     31.18 to 230.53\n",
      "2792        2.29 to 2.59\n",
      "9275     24.79 to 269.60\n",
      "11800      2.26 to 13.58\n",
      "14209     12.88 to 32.18\n",
      "22574     27.10 to 60.98\n",
      "28144     13.99 to 17.99\n",
      "28806     20.00 to 76.00\n",
      "40599     42.95 to 71.59\n",
      "40603     19.99 to 79.99\n",
      "42424    56.16 to 112.34\n",
      "42435     6.71 to 100.75\n",
      "43875     10.00 to 28.00\n",
      "44008     20.90 to 24.90\n",
      "44012     28.50 to 32.50\n",
      "44014     25.80 to 29.80\n",
      "44016     24.99 to 34.50\n",
      "44042     25.99 to 29.99\n",
      "44099     25.99 to 29.99\n",
      "44100     24.50 to 28.50\n",
      "44101     25.50 to 29.50\n",
      "44102     25.99 to 29.99\n",
      "44103     19.99 to 23.99\n",
      "44104     25.99 to 29.99\n",
      "44105     26.99 to 30.99\n",
      "44106     22.99 to 26.99\n",
      "44110     23.99 to 27.99\n",
      "44111     24.99 to 28.99\n",
      "44114     20.99 to 24.99\n",
      "44115     22.50 to 26.50\n",
      "44116     25.47 to 29.63\n",
      "44117     27.36 to 31.47\n",
      "44118     20.95 to 25.15\n",
      "44119     24.19 to 28.40\n",
      "44120     28.37 to 32.57\n",
      "44121     25.23 to 29.44\n",
      "44122     21.82 to 25.98\n",
      "44124     31.34 to 41.28\n",
      "44153     2.99 to 899.99\n",
      "50551     17.14 to 57.17\n",
      "Name: price, dtype: object\n"
     ]
    }
   ],
   "source": [
    "print(df['price'] [pd.to_numeric(df['price'], errors='coerce').isnull()])"
   ]
  },
  {
   "cell_type": "code",
   "execution_count": 15,
   "id": "09393d11-d9d1-44a9-bc10-f78afb86649b",
   "metadata": {},
   "outputs": [
    {
     "data": {
      "text/plain": [
       "(55823, 3)"
      ]
     },
     "execution_count": 15,
     "metadata": {},
     "output_type": "execute_result"
    }
   ],
   "source": [
    "df.shape"
   ]
  },
  {
   "cell_type": "code",
   "execution_count": 16,
   "id": "10819568-01a3-468c-9702-6eac25573953",
   "metadata": {},
   "outputs": [
    {
     "name": "stdout",
     "output_type": "stream",
     "text": [
      "Int64Index([   26,    38,    41,    95,   108,  2487,  2792,  9275, 11800,\n",
      "            14209, 22574, 28144, 28806, 40599, 40603, 42424, 42435, 43875,\n",
      "            44008, 44012, 44014, 44016, 44042, 44099, 44100, 44101, 44102,\n",
      "            44103, 44104, 44105, 44106, 44110, 44111, 44114, 44115, 44116,\n",
      "            44117, 44118, 44119, 44120, 44121, 44122, 44124, 44153, 50551],\n",
      "           dtype='int64')\n"
     ]
    }
   ],
   "source": [
    "# find the index of rows with 'to' in them\n",
    "# these values are too hard to deal with, probably not representative listings\n",
    "remove_rows = df[df['price'].str.contains(\"to\") == True].index\n",
    "\n",
    "print(remove_rows)\n"
   ]
  },
  {
   "cell_type": "code",
   "execution_count": 17,
   "id": "483a5366-8a3e-424a-b481-13368ed98043",
   "metadata": {},
   "outputs": [],
   "source": [
    "# remove these rows\n",
    "df.drop(remove_rows, inplace=True)"
   ]
  },
  {
   "cell_type": "code",
   "execution_count": 18,
   "id": "3efc7302-a7fd-4c3d-8ccc-c4e05424ff32",
   "metadata": {},
   "outputs": [
    {
     "data": {
      "text/plain": [
       "(55778, 3)"
      ]
     },
     "execution_count": 18,
     "metadata": {},
     "output_type": "execute_result"
    }
   ],
   "source": [
    "df.shape"
   ]
  },
  {
   "cell_type": "code",
   "execution_count": 19,
   "id": "f4d8b64a-89e3-4686-b9fc-095073ffa060",
   "metadata": {},
   "outputs": [
    {
     "name": "stdout",
     "output_type": "stream",
     "text": [
      "Empty DataFrame\n",
      "Columns: [set_num, date, price]\n",
      "Index: []\n"
     ]
    }
   ],
   "source": [
    "print(df[pd.to_numeric(df['price'], errors='coerce').isnull()])"
   ]
  },
  {
   "cell_type": "code",
   "execution_count": 20,
   "id": "814797ca-ff03-44b7-869a-382b99a29134",
   "metadata": {},
   "outputs": [
    {
     "data": {
      "text/plain": [
       "True"
      ]
     },
     "execution_count": 20,
     "metadata": {},
     "output_type": "execute_result"
    }
   ],
   "source": [
    "# checks price column to make sure all rows are numeric\n",
    "pd.to_numeric(df['price'], errors='coerce').notnull().all()"
   ]
  },
  {
   "cell_type": "code",
   "execution_count": 21,
   "id": "8e8ec799-2cdf-48a4-9bb4-6a1a21add39e",
   "metadata": {},
   "outputs": [
    {
     "data": {
      "text/plain": [
       "set_num            object\n",
       "date       datetime64[ns]\n",
       "price              object\n",
       "dtype: object"
      ]
     },
     "execution_count": 21,
     "metadata": {},
     "output_type": "execute_result"
    }
   ],
   "source": [
    "df.dtypes"
   ]
  },
  {
   "cell_type": "code",
   "execution_count": 22,
   "id": "f54a6eb7-bdff-4083-8dd8-261f5e933d24",
   "metadata": {},
   "outputs": [
    {
     "data": {
      "text/plain": [
       "set_num            object\n",
       "date       datetime64[ns]\n",
       "price             float64\n",
       "dtype: object"
      ]
     },
     "execution_count": 22,
     "metadata": {},
     "output_type": "execute_result"
    }
   ],
   "source": [
    "# now that all rows in price column are numeric, change column data type to numeric\n",
    "# pandas will pick int64 if there are no decimals, float 64 if decimals are present, which there are\n",
    "df['price'] = pd.to_numeric(df['price'])\n",
    "df.dtypes"
   ]
  },
  {
   "cell_type": "code",
   "execution_count": 23,
   "id": "6edbe419-17e5-4f7f-afc4-8cd54c4ca126",
   "metadata": {},
   "outputs": [
    {
     "data": {
      "text/plain": [
       "count      47.000000\n",
       "mean      901.214043\n",
       "std       259.450454\n",
       "min         2.750000\n",
       "25%       870.000000\n",
       "50%       945.000000\n",
       "75%       999.000000\n",
       "max      1290.000000\n",
       "Name: price, dtype: float64"
      ]
     },
     "execution_count": 23,
     "metadata": {},
     "output_type": "execute_result"
    }
   ],
   "source": [
    "# lets take a look at just the ghostbusters set data\n",
    "filt = (df['set_num'] == 75827)\n",
    "dffilt = df[filt].sort_values(by='price')\n",
    "dffilt['price'].describe()\n"
   ]
  },
  {
   "cell_type": "code",
   "execution_count": 24,
   "id": "0f8525ab-d92f-4dea-bd9c-39dcba114b4b",
   "metadata": {},
   "outputs": [
    {
     "data": {
      "text/plain": [
       "<AxesSubplot:>"
      ]
     },
     "execution_count": 24,
     "metadata": {},
     "output_type": "execute_result"
    },
    {
     "data": {
      "image/png": "[encoded data removed]",
      "text/plain": [
       "<Figure size 432x288 with 1 Axes>"
      ]
     },
     "metadata": {
      "needs_background": "light"
     },
     "output_type": "display_data"
    }
   ],
   "source": [
    "dffilt.boxplot(column=['price'])\n",
    "# looks like we've got some outlier prices"
   ]
  },
  {
   "cell_type": "code",
   "execution_count": 25,
   "id": "549c2c76-3760-4cb9-87e2-d3d7cc96ab9a",
   "metadata": {},
   "outputs": [
    {
     "data": {
      "text/plain": [
       "129.0"
      ]
     },
     "execution_count": 25,
     "metadata": {},
     "output_type": "execute_result"
    }
   ],
   "source": [
    "# This is Tukey's rule, known as the IQR rule\n",
    "# IQR = Inter Quartile Range\n",
    "Q1 = dffilt['price'].quantile(0.25)\n",
    "Q3 = dffilt['price'].quantile(0.75)\n",
    "IQR = Q3 - Q1\n",
    "IQR"
   ]
  },
  {
   "cell_type": "code",
   "execution_count": 26,
   "id": "b95e4290-31b8-4c48-94ac-3b350398571e",
   "metadata": {},
   "outputs": [
    {
     "data": {
      "text/plain": [
       "676.5"
      ]
     },
     "execution_count": 26,
     "metadata": {},
     "output_type": "execute_result"
    }
   ],
   "source": [
    "# We will use 1.5*IQR for our limits, you can also use 2.5 or 2.0\n",
    "lower_lim = Q1 - 1.5*IQR\n",
    "upper_lim = Q3 + 1.5*IQR\n",
    "lower_lim"
   ]
  },
  {
   "cell_type": "code",
   "execution_count": 27,
   "id": "a672ee32-baed-4f36-962f-b6648647dd75",
   "metadata": {},
   "outputs": [
    {
     "data": {
      "text/plain": [
       "1192.5"
      ]
     },
     "execution_count": 27,
     "metadata": {},
     "output_type": "execute_result"
    }
   ],
   "source": [
    "upper_lim"
   ]
  },
  {
   "cell_type": "code",
   "execution_count": 28,
   "id": "397380aa-5521-4239-a0ee-af59bdd09ea4",
   "metadata": {},
   "outputs": [
    {
     "data": {
      "text/plain": [
       "4"
      ]
     },
     "execution_count": 28,
     "metadata": {},
     "output_type": "execute_result"
    }
   ],
   "source": [
    "# how many rows below our low limit?\n",
    "outliers_15_low = ( dffilt['price'] < lower_lim)\n",
    "len(dffilt['price'][outliers_15_low])"
   ]
  },
  {
   "cell_type": "code",
   "execution_count": 29,
   "id": "8ed7ba5f-9417-4967-b7ea-4c9fed45d65e",
   "metadata": {},
   "outputs": [
    {
     "data": {
      "text/plain": [
       "4"
      ]
     },
     "execution_count": 29,
     "metadata": {},
     "output_type": "execute_result"
    }
   ],
   "source": [
    "# how many rows above high limit?\n",
    "outliers_15_high = ( dffilt['price'] > upper_lim)\n",
    "len(dffilt['price'][outliers_15_high])"
   ]
  },
  {
   "cell_type": "code",
   "execution_count": 30,
   "id": "31a924bd-833c-4008-9f34-80902dbb39cb",
   "metadata": {},
   "outputs": [],
   "source": [
    "# the tilda ~ reverses the filtered indexes\n",
    "dffilt = dffilt[~(outliers_15_low | outliers_15_high)]\n"
   ]
  },
  {
   "cell_type": "code",
   "execution_count": 31,
   "id": "d029a740-11b8-4ccb-873a-c22293a5f45c",
   "metadata": {},
   "outputs": [
    {
     "data": {
      "text/html": [
       "<div>\n",
       "<style scoped>\n",
       "    .dataframe tbody tr th:only-of-type {\n",
       "        vertical-align: middle;\n",
       "    }\n",
       "\n",
       "    .dataframe tbody tr th {\n",
       "        vertical-align: top;\n",
       "    }\n",
       "\n",
       "    .dataframe thead th {\n",
       "        text-align: right;\n",
       "    }\n",
       "</style>\n",
       "<table border=\"1\" class=\"dataframe\">\n",
       "  <thead>\n",
       "    <tr style=\"text-align: right;\">\n",
       "      <th></th>\n",
       "      <th>set_num</th>\n",
       "      <th>date</th>\n",
       "      <th>price</th>\n",
       "    </tr>\n",
       "  </thead>\n",
       "  <tbody>\n",
       "    <tr>\n",
       "      <th>48714</th>\n",
       "      <td>75827</td>\n",
       "      <td>2022-01-07</td>\n",
       "      <td>789.99</td>\n",
       "    </tr>\n",
       "    <tr>\n",
       "      <th>53327</th>\n",
       "      <td>75827</td>\n",
       "      <td>2022-01-07</td>\n",
       "      <td>798.00</td>\n",
       "    </tr>\n",
       "    <tr>\n",
       "      <th>51259</th>\n",
       "      <td>75827</td>\n",
       "      <td>2022-01-18</td>\n",
       "      <td>799.00</td>\n",
       "    </tr>\n",
       "    <tr>\n",
       "      <th>19239</th>\n",
       "      <td>75827</td>\n",
       "      <td>2022-01-07</td>\n",
       "      <td>799.00</td>\n",
       "    </tr>\n",
       "    <tr>\n",
       "      <th>45737</th>\n",
       "      <td>75827</td>\n",
       "      <td>2022-01-26</td>\n",
       "      <td>800.00</td>\n",
       "    </tr>\n",
       "    <tr>\n",
       "      <th>48178</th>\n",
       "      <td>75827</td>\n",
       "      <td>2022-01-07</td>\n",
       "      <td>839.00</td>\n",
       "    </tr>\n",
       "    <tr>\n",
       "      <th>32310</th>\n",
       "      <td>75827</td>\n",
       "      <td>2022-01-14</td>\n",
       "      <td>844.64</td>\n",
       "    </tr>\n",
       "    <tr>\n",
       "      <th>50122</th>\n",
       "      <td>75827</td>\n",
       "      <td>2022-01-26</td>\n",
       "      <td>865.00</td>\n",
       "    </tr>\n",
       "    <tr>\n",
       "      <th>2035</th>\n",
       "      <td>75827</td>\n",
       "      <td>2022-01-22</td>\n",
       "      <td>875.00</td>\n",
       "    </tr>\n",
       "    <tr>\n",
       "      <th>33892</th>\n",
       "      <td>75827</td>\n",
       "      <td>2022-01-07</td>\n",
       "      <td>894.81</td>\n",
       "    </tr>\n",
       "    <tr>\n",
       "      <th>45133</th>\n",
       "      <td>75827</td>\n",
       "      <td>2022-01-07</td>\n",
       "      <td>895.99</td>\n",
       "    </tr>\n",
       "    <tr>\n",
       "      <th>37499</th>\n",
       "      <td>75827</td>\n",
       "      <td>2022-01-07</td>\n",
       "      <td>898.99</td>\n",
       "    </tr>\n",
       "    <tr>\n",
       "      <th>33157</th>\n",
       "      <td>75827</td>\n",
       "      <td>2022-01-07</td>\n",
       "      <td>899.00</td>\n",
       "    </tr>\n",
       "    <tr>\n",
       "      <th>52335</th>\n",
       "      <td>75827</td>\n",
       "      <td>2022-01-07</td>\n",
       "      <td>899.99</td>\n",
       "    </tr>\n",
       "    <tr>\n",
       "      <th>53919</th>\n",
       "      <td>75827</td>\n",
       "      <td>2022-01-07</td>\n",
       "      <td>900.00</td>\n",
       "    </tr>\n",
       "    <tr>\n",
       "      <th>49946</th>\n",
       "      <td>75827</td>\n",
       "      <td>2022-01-11</td>\n",
       "      <td>906.03</td>\n",
       "    </tr>\n",
       "    <tr>\n",
       "      <th>55782</th>\n",
       "      <td>75827</td>\n",
       "      <td>2022-02-06</td>\n",
       "      <td>927.00</td>\n",
       "    </tr>\n",
       "    <tr>\n",
       "      <th>14692</th>\n",
       "      <td>75827</td>\n",
       "      <td>2022-01-14</td>\n",
       "      <td>932.54</td>\n",
       "    </tr>\n",
       "    <tr>\n",
       "      <th>11324</th>\n",
       "      <td>75827</td>\n",
       "      <td>2022-01-31</td>\n",
       "      <td>937.64</td>\n",
       "    </tr>\n",
       "    <tr>\n",
       "      <th>21987</th>\n",
       "      <td>75827</td>\n",
       "      <td>2022-01-13</td>\n",
       "      <td>945.00</td>\n",
       "    </tr>\n",
       "    <tr>\n",
       "      <th>6162</th>\n",
       "      <td>75827</td>\n",
       "      <td>2022-01-07</td>\n",
       "      <td>949.95</td>\n",
       "    </tr>\n",
       "    <tr>\n",
       "      <th>4259</th>\n",
       "      <td>75827</td>\n",
       "      <td>2022-01-07</td>\n",
       "      <td>949.99</td>\n",
       "    </tr>\n",
       "    <tr>\n",
       "      <th>14591</th>\n",
       "      <td>75827</td>\n",
       "      <td>2022-01-07</td>\n",
       "      <td>950.00</td>\n",
       "    </tr>\n",
       "    <tr>\n",
       "      <th>10916</th>\n",
       "      <td>75827</td>\n",
       "      <td>2022-01-17</td>\n",
       "      <td>956.48</td>\n",
       "    </tr>\n",
       "    <tr>\n",
       "      <th>30002</th>\n",
       "      <td>75827</td>\n",
       "      <td>2022-01-28</td>\n",
       "      <td>976.92</td>\n",
       "    </tr>\n",
       "    <tr>\n",
       "      <th>52261</th>\n",
       "      <td>75827</td>\n",
       "      <td>2022-01-07</td>\n",
       "      <td>989.00</td>\n",
       "    </tr>\n",
       "    <tr>\n",
       "      <th>29552</th>\n",
       "      <td>75827</td>\n",
       "      <td>2022-01-19</td>\n",
       "      <td>990.82</td>\n",
       "    </tr>\n",
       "    <tr>\n",
       "      <th>36303</th>\n",
       "      <td>75827</td>\n",
       "      <td>2022-01-07</td>\n",
       "      <td>995.00</td>\n",
       "    </tr>\n",
       "    <tr>\n",
       "      <th>38606</th>\n",
       "      <td>75827</td>\n",
       "      <td>2022-02-06</td>\n",
       "      <td>995.00</td>\n",
       "    </tr>\n",
       "    <tr>\n",
       "      <th>14822</th>\n",
       "      <td>75827</td>\n",
       "      <td>2022-01-07</td>\n",
       "      <td>998.00</td>\n",
       "    </tr>\n",
       "    <tr>\n",
       "      <th>3484</th>\n",
       "      <td>75827</td>\n",
       "      <td>2022-01-07</td>\n",
       "      <td>999.00</td>\n",
       "    </tr>\n",
       "    <tr>\n",
       "      <th>22982</th>\n",
       "      <td>75827</td>\n",
       "      <td>2022-01-07</td>\n",
       "      <td>999.00</td>\n",
       "    </tr>\n",
       "    <tr>\n",
       "      <th>49320</th>\n",
       "      <td>75827</td>\n",
       "      <td>2022-02-06</td>\n",
       "      <td>999.99</td>\n",
       "    </tr>\n",
       "    <tr>\n",
       "      <th>48560</th>\n",
       "      <td>75827</td>\n",
       "      <td>2022-01-07</td>\n",
       "      <td>1000.00</td>\n",
       "    </tr>\n",
       "    <tr>\n",
       "      <th>9915</th>\n",
       "      <td>75827</td>\n",
       "      <td>2022-01-07</td>\n",
       "      <td>1020.00</td>\n",
       "    </tr>\n",
       "    <tr>\n",
       "      <th>21495</th>\n",
       "      <td>75827</td>\n",
       "      <td>2022-01-07</td>\n",
       "      <td>1099.99</td>\n",
       "    </tr>\n",
       "    <tr>\n",
       "      <th>19435</th>\n",
       "      <td>75827</td>\n",
       "      <td>2022-01-07</td>\n",
       "      <td>1119.00</td>\n",
       "    </tr>\n",
       "    <tr>\n",
       "      <th>55197</th>\n",
       "      <td>75827</td>\n",
       "      <td>2022-01-07</td>\n",
       "      <td>1168.39</td>\n",
       "    </tr>\n",
       "    <tr>\n",
       "      <th>2621</th>\n",
       "      <td>75827</td>\n",
       "      <td>2022-01-07</td>\n",
       "      <td>1168.49</td>\n",
       "    </tr>\n",
       "  </tbody>\n",
       "</table>\n",
       "</div>"
      ],
      "text/plain": [
       "      set_num       date    price\n",
       "48714   75827 2022-01-07   789.99\n",
       "53327   75827 2022-01-07   798.00\n",
       "51259   75827 2022-01-18   799.00\n",
       "19239   75827 2022-01-07   799.00\n",
       "45737   75827 2022-01-26   800.00\n",
       "48178   75827 2022-01-07   839.00\n",
       "32310   75827 2022-01-14   844.64\n",
       "50122   75827 2022-01-26   865.00\n",
       "2035    75827 2022-01-22   875.00\n",
       "33892   75827 2022-01-07   894.81\n",
       "45133   75827 2022-01-07   895.99\n",
       "37499   75827 2022-01-07   898.99\n",
       "33157   75827 2022-01-07   899.00\n",
       "52335   75827 2022-01-07   899.99\n",
       "53919   75827 2022-01-07   900.00\n",
       "49946   75827 2022-01-11   906.03\n",
       "55782   75827 2022-02-06   927.00\n",
       "14692   75827 2022-01-14   932.54\n",
       "11324   75827 2022-01-31   937.64\n",
       "21987   75827 2022-01-13   945.00\n",
       "6162    75827 2022-01-07   949.95\n",
       "4259    75827 2022-01-07   949.99\n",
       "14591   75827 2022-01-07   950.00\n",
       "10916   75827 2022-01-17   956.48\n",
       "30002   75827 2022-01-28   976.92\n",
       "52261   75827 2022-01-07   989.00\n",
       "29552   75827 2022-01-19   990.82\n",
       "36303   75827 2022-01-07   995.00\n",
       "38606   75827 2022-02-06   995.00\n",
       "14822   75827 2022-01-07   998.00\n",
       "3484    75827 2022-01-07   999.00\n",
       "22982   75827 2022-01-07   999.00\n",
       "49320   75827 2022-02-06   999.99\n",
       "48560   75827 2022-01-07  1000.00\n",
       "9915    75827 2022-01-07  1020.00\n",
       "21495   75827 2022-01-07  1099.99\n",
       "19435   75827 2022-01-07  1119.00\n",
       "55197   75827 2022-01-07  1168.39\n",
       "2621    75827 2022-01-07  1168.49"
      ]
     },
     "execution_count": 31,
     "metadata": {},
     "output_type": "execute_result"
    }
   ],
   "source": [
    "dffilt"
   ]
  },
  {
   "cell_type": "code",
   "execution_count": 32,
   "id": "9469f74a-2775-43a6-9928-af8f019e873a",
   "metadata": {},
   "outputs": [
    {
     "data": {
      "text/plain": [
       "<AxesSubplot:>"
      ]
     },
     "execution_count": 32,
     "metadata": {},
     "output_type": "execute_result"
    },
    {
     "data": {
      "image/png": "[encoded data removed]",
      "text/plain": [
       "<Figure size 432x288 with 1 Axes>"
      ]
     },
     "metadata": {
      "needs_background": "light"
     },
     "output_type": "display_data"
    }
   ],
   "source": [
    "dffilt.boxplot(column='price')"
   ]
  },
  {
   "cell_type": "code",
   "execution_count": null,
   "id": "a36f9d17-3d6f-4791-9645-70584c540da1",
   "metadata": {},
   "outputs": [],
   "source": [
    "# Group the price data by date and calculate the mean\n",
    "# i.e. create a new dataframe with one date per row and the average sales price\n",
    "dffilt_group = dffilt.groupby(['date']).mean()\n",
    "dffilt_group"
   ]
  },
  {
   "cell_type": "code",
   "execution_count": 54,
   "id": "113d58e1-a91c-40d3-a32b-6b9096997714",
   "metadata": {},
   "outputs": [
    {
     "data": {
      "image/png": "[encoded data removed]",
      "text/plain": [
       "<Figure size 720x432 with 1 Axes>"
      ]
     },
     "metadata": {
      "needs_background": "light"
     },
     "output_type": "display_data"
    }
   ],
   "source": [
    "plt.rc('font', size=12)\n",
    "fig, ax = plt.subplots(figsize=(10, 6))\n",
    "\n",
    "ax.plot(dffilt_group.index, dffilt_group.price, label='Average Daily Price')\n",
    "\n",
    "fig.autofmt_xdate()\n",
    "ax.set_xlabel('Date')\n",
    "ax.set_ylabel('Price')\n",
    "ax.set_title('Average Daily Price of Ghostbusters Set')\n",
    "ax.grid(True);"
   ]
  },
  {
   "cell_type": "code",
   "execution_count": 35,
   "id": "2530b436-1575-4881-a8d9-f3d3196ffb91",
   "metadata": {},
   "outputs": [
    {
     "data": {
      "text/html": [
       "<div>\n",
       "<style scoped>\n",
       "    .dataframe tbody tr th:only-of-type {\n",
       "        vertical-align: middle;\n",
       "    }\n",
       "\n",
       "    .dataframe tbody tr th {\n",
       "        vertical-align: top;\n",
       "    }\n",
       "\n",
       "    .dataframe thead th {\n",
       "        text-align: right;\n",
       "    }\n",
       "</style>\n",
       "<table border=\"1\" class=\"dataframe\">\n",
       "  <thead>\n",
       "    <tr style=\"text-align: right;\">\n",
       "      <th></th>\n",
       "      <th>set_num</th>\n",
       "      <th>set_name</th>\n",
       "      <th>theme_group</th>\n",
       "      <th>theme</th>\n",
       "      <th>subtheme</th>\n",
       "      <th>year_released</th>\n",
       "      <th>launch_exit</th>\n",
       "      <th>pieces</th>\n",
       "      <th>minifigs</th>\n",
       "      <th>designer</th>\n",
       "      <th>msrp</th>\n",
       "      <th>age_range</th>\n",
       "      <th>packaging</th>\n",
       "      <th>availability</th>\n",
       "      <th>rating</th>\n",
       "    </tr>\n",
       "  </thead>\n",
       "  <tbody>\n",
       "    <tr>\n",
       "      <th>0</th>\n",
       "      <td>60009-1</td>\n",
       "      <td>Helicopter Arrest</td>\n",
       "      <td>Modern day</td>\n",
       "      <td>City</td>\n",
       "      <td>Police</td>\n",
       "      <td>2013</td>\n",
       "      <td>None</td>\n",
       "      <td>352.0</td>\n",
       "      <td>5</td>\n",
       "      <td>Henrik Andersen</td>\n",
       "      <td>£39.99 / $49.99</td>\n",
       "      <td>5 - 12</td>\n",
       "      <td>Box</td>\n",
       "      <td>Retail - limited</td>\n",
       "      <td>✭✭✭✭✩ 3.8 52 ratings</td>\n",
       "    </tr>\n",
       "    <tr>\n",
       "      <th>1</th>\n",
       "      <td>60012-1</td>\n",
       "      <td>Coast Guard 4x4 &amp; Diving Boat</td>\n",
       "      <td>Modern day</td>\n",
       "      <td>City</td>\n",
       "      <td>Coast Guard</td>\n",
       "      <td>2013</td>\n",
       "      <td>01 Jun 2013 - 31 Jul 2015</td>\n",
       "      <td>128.0</td>\n",
       "      <td>2 (2 Unique to this set)</td>\n",
       "      <td>None</td>\n",
       "      <td>£9.99 / $19.99 / 12.99€</td>\n",
       "      <td>5 - 12</td>\n",
       "      <td>Box</td>\n",
       "      <td>Retail</td>\n",
       "      <td>✭✭✭✭✩ 3.8 145 ratings 4 Reviews Official Brick...</td>\n",
       "    </tr>\n",
       "    <tr>\n",
       "      <th>2</th>\n",
       "      <td>75975-1</td>\n",
       "      <td>Watchpoint: Gibraltar</td>\n",
       "      <td>Licensed</td>\n",
       "      <td>Overwatch</td>\n",
       "      <td>None</td>\n",
       "      <td>2019</td>\n",
       "      <td>01 Jan 2019 - 31 Jul 2020</td>\n",
       "      <td>730.0</td>\n",
       "      <td>4 (3 Unique to this set)</td>\n",
       "      <td>Mark Stafford</td>\n",
       "      <td>£79.99 / $89.99 / 87.72€</td>\n",
       "      <td>9+</td>\n",
       "      <td>Box</td>\n",
       "      <td>Retail</td>\n",
       "      <td>✭✭✭✭✩ 3.9 114 ratings 1 Review Official Bricks...</td>\n",
       "    </tr>\n",
       "    <tr>\n",
       "      <th>3</th>\n",
       "      <td>10155-1</td>\n",
       "      <td>Maersk Line Container Ship</td>\n",
       "      <td>Model making</td>\n",
       "      <td>Creator Expert</td>\n",
       "      <td>Maersk</td>\n",
       "      <td>2010</td>\n",
       "      <td>01 Aug 2010 - 31 Jul 2011</td>\n",
       "      <td>990.0</td>\n",
       "      <td>None</td>\n",
       "      <td>None</td>\n",
       "      <td>£102.99 / $119.99</td>\n",
       "      <td>8+</td>\n",
       "      <td>Box</td>\n",
       "      <td>LEGO exclusive</td>\n",
       "      <td>✭✭✭✭✩ 4.1 28 ratings 3 Reviews</td>\n",
       "    </tr>\n",
       "    <tr>\n",
       "      <th>4</th>\n",
       "      <td>10210-1</td>\n",
       "      <td>Imperial Flagship</td>\n",
       "      <td>Model making</td>\n",
       "      <td>Creator Expert</td>\n",
       "      <td>Miscellaneous</td>\n",
       "      <td>2010</td>\n",
       "      <td>01 Jan 2010 - 31 Dec 2011</td>\n",
       "      <td>1664.0</td>\n",
       "      <td>9 (6 Unique to this set)</td>\n",
       "      <td>Raphael Pretesacque</td>\n",
       "      <td>£142.99 / $179.99</td>\n",
       "      <td>14+</td>\n",
       "      <td>Box</td>\n",
       "      <td>Retail - limited</td>\n",
       "      <td>✭✭✭✭✭ 4.6 171 ratings 16 Reviews</td>\n",
       "    </tr>\n",
       "  </tbody>\n",
       "</table>\n",
       "</div>"
      ],
      "text/plain": [
       "   set_num                       set_name   theme_group           theme  \\\n",
       "0  60009-1              Helicopter Arrest    Modern day            City   \n",
       "1  60012-1  Coast Guard 4x4 & Diving Boat    Modern day            City   \n",
       "2  75975-1          Watchpoint: Gibraltar      Licensed       Overwatch   \n",
       "3  10155-1     Maersk Line Container Ship  Model making  Creator Expert   \n",
       "4  10210-1              Imperial Flagship  Model making  Creator Expert   \n",
       "\n",
       "        subtheme year_released                launch_exit  pieces  \\\n",
       "0         Police          2013                       None   352.0   \n",
       "1    Coast Guard          2013  01 Jun 2013 - 31 Jul 2015   128.0   \n",
       "2           None          2019  01 Jan 2019 - 31 Jul 2020   730.0   \n",
       "3         Maersk          2010  01 Aug 2010 - 31 Jul 2011   990.0   \n",
       "4  Miscellaneous          2010  01 Jan 2010 - 31 Dec 2011  1664.0   \n",
       "\n",
       "                   minifigs             designer                      msrp  \\\n",
       "0                         5      Henrik Andersen           £39.99 / $49.99   \n",
       "1  2 (2 Unique to this set)                 None   £9.99 / $19.99 / 12.99€   \n",
       "2  4 (3 Unique to this set)        Mark Stafford  £79.99 / $89.99 / 87.72€   \n",
       "3                      None                 None         £102.99 / $119.99   \n",
       "4  9 (6 Unique to this set)  Raphael Pretesacque         £142.99 / $179.99   \n",
       "\n",
       "  age_range packaging      availability  \\\n",
       "0    5 - 12       Box  Retail - limited   \n",
       "1    5 - 12       Box            Retail   \n",
       "2        9+       Box            Retail   \n",
       "3        8+       Box    LEGO exclusive   \n",
       "4       14+       Box  Retail - limited   \n",
       "\n",
       "                                              rating  \n",
       "0                               ✭✭✭✭✩ 3.8 52 ratings  \n",
       "1  ✭✭✭✭✩ 3.8 145 ratings 4 Reviews Official Brick...  \n",
       "2  ✭✭✭✭✩ 3.9 114 ratings 1 Review Official Bricks...  \n",
       "3                     ✭✭✭✭✩ 4.1 28 ratings 3 Reviews  \n",
       "4                   ✭✭✭✭✭ 4.6 171 ratings 16 Reviews  "
      ]
     },
     "execution_count": 35,
     "metadata": {},
     "output_type": "execute_result"
    }
   ],
   "source": [
    "# time to clean the set_details data\n",
    "df_set.head()"
   ]
  },
  {
   "cell_type": "code",
   "execution_count": 36,
   "id": "37950b96-21a1-44b8-a8d2-68d4cd479fa8",
   "metadata": {},
   "outputs": [],
   "source": [
    "# remove -1 from set_num\n",
    "df_set['set_num'] = df_set['set_num'].str.split('-', n=1).str[0]"
   ]
  },
  {
   "cell_type": "code",
   "execution_count": 37,
   "id": "6b346fec-e209-423b-b716-23334fba7494",
   "metadata": {},
   "outputs": [],
   "source": [
    "# split launch_exit column into 2 columns\n",
    "df_set[['launch_date', 'retirement_date']] = df_set['launch_exit'].str.split(' - ', expand=True)"
   ]
  },
  {
   "cell_type": "code",
   "execution_count": 38,
   "id": "d356c47a-9fb8-43a6-a4d7-37a7c0c9e82a",
   "metadata": {},
   "outputs": [],
   "source": [
    "df_set.drop('launch_exit', axis=1, inplace=True)"
   ]
  },
  {
   "cell_type": "code",
   "execution_count": 39,
   "id": "da09bb60-6f59-405f-8838-1c3cb6a25aa6",
   "metadata": {},
   "outputs": [],
   "source": [
    "# need to plit the minifigs column into total and unique\n",
    "df_set[['minifigs_total', 'minifigs_unique']] = df_set['minifigs'].str.split(' ', n=1, expand=True)"
   ]
  },
  {
   "cell_type": "code",
   "execution_count": 40,
   "id": "e0f74f95-c51c-4bc0-b5d6-0ac218f39ac7",
   "metadata": {},
   "outputs": [],
   "source": [
    "# parse the minifig value from minifigs_unique\n",
    "df_set['minifigs_unique'] = df_set['minifigs_unique'].str.split(' ', n=1).str[0].str.replace('(', '', regex=True)"
   ]
  },
  {
   "cell_type": "code",
   "execution_count": 41,
   "id": "ba1d7413-e9e9-49b7-8858-8264a8ac67da",
   "metadata": {},
   "outputs": [],
   "source": [
    "df_set.drop('minifigs', axis=1, inplace=True)"
   ]
  },
  {
   "cell_type": "code",
   "execution_count": 42,
   "id": "28f04852-b4fd-4462-a137-9cd950211e14",
   "metadata": {},
   "outputs": [],
   "source": [
    "# parse rating column to get the text after the stars, this grabs non numeric values for rows with no rating\n",
    "df_set['rating'] = df_set['rating'].str.split(' ', n=2).str[1].str.strip()"
   ]
  },
  {
   "cell_type": "code",
   "execution_count": 43,
   "id": "396d7887-213b-46a6-9194-f1cb1a0260fa",
   "metadata": {},
   "outputs": [],
   "source": [
    "# a good way to replace non-numeric rows is to_numeric method, must use coerce to force NaN values for non-numerics\n",
    "df_set['rating'] = pd.to_numeric(df_set['rating'], errors='coerce')"
   ]
  },
  {
   "cell_type": "code",
   "execution_count": 44,
   "id": "821e92b2-8d56-4d05-8890-4013773ba544",
   "metadata": {},
   "outputs": [],
   "source": [
    "# change launch retirement date columns to date\n",
    "# first need to remove spaces\n",
    "df_set['launch_date'] = df_set['launch_date'].str.replace(' ', '')\n",
    "df_set['launch_date'] = pd.to_datetime(df_set['launch_date'], format='%d%b%Y', errors='coerce')"
   ]
  },
  {
   "cell_type": "code",
   "execution_count": 45,
   "id": "588760cb-948a-4d4d-9de8-d561a21f0420",
   "metadata": {},
   "outputs": [],
   "source": [
    "# had some t.b.a text for some rows, they threw an error, added errors=coerce and seemed to fix it\n",
    "df_set['retirement_date'] = df_set['retirement_date'].str.replace(' ', '')\n",
    "df_set['retirement_date'] = pd.to_datetime(df_set['retirement_date'], format='%d%b%Y', errors='coerce')"
   ]
  },
  {
   "cell_type": "code",
   "execution_count": 46,
   "id": "2c20e8d2-912d-4b72-b64f-e54cc2e8796f",
   "metadata": {},
   "outputs": [],
   "source": [
    "# clean up msrp column and grab USD values only - drop pounds and euro values if present\n",
    "# use regex to extract everything after the $, the dot, and the remaining digits\n",
    "# REGEX sucks. But remember to use regex101.com, it's a life saver\n",
    "df_set['msrp'] = df_set['msrp'].str.extract(r\"\\$(\\d+\\.\\d+)\")"
   ]
  },
  {
   "cell_type": "code",
   "execution_count": 47,
   "id": "08311c27-9f31-41e7-a52a-a8dad9348219",
   "metadata": {},
   "outputs": [],
   "source": [
    "# if launch_date is empty add the value from year released date column, \n",
    "df_set['launch_date'] = df_set['launch_date'].fillna(df_set['year_released'])\n",
    "# very cool, it added jan 1 to the year automatically."
   ]
  },
  {
   "cell_type": "code",
   "execution_count": 48,
   "id": "f2664d39-5eb0-4f01-bea6-dfdbde50b63a",
   "metadata": {},
   "outputs": [],
   "source": [
    "df_set['year_released'] = df_set['year_released'].astype(int)"
   ]
  },
  {
   "cell_type": "code",
   "execution_count": 49,
   "id": "59af894a-a0c7-4b38-9005-70ccebd2ea33",
   "metadata": {},
   "outputs": [],
   "source": [
    "df_set['msrp'] = df_set['msrp'].astype(float)"
   ]
  },
  {
   "cell_type": "code",
   "execution_count": 50,
   "id": "a32ac3ed-0b41-43fa-93a8-9ade303781f9",
   "metadata": {},
   "outputs": [],
   "source": [
    "df_set['minifigs_total'] = df_set['minifigs_total'].astype(float)\n",
    "df_set['minifigs_unique'] = df_set['minifigs_unique'].astype(float)"
   ]
  },
  {
   "cell_type": "code",
   "execution_count": 51,
   "id": "d7a66251-5d24-4032-9e2d-fa30d9a5181f",
   "metadata": {},
   "outputs": [
    {
     "data": {
      "text/plain": [
       "set_num                    object\n",
       "set_name                   object\n",
       "theme_group                object\n",
       "theme                      object\n",
       "subtheme                   object\n",
       "year_released               int32\n",
       "pieces                    float64\n",
       "designer                   object\n",
       "msrp                      float64\n",
       "age_range                  object\n",
       "packaging                  object\n",
       "availability               object\n",
       "rating                    float64\n",
       "launch_date        datetime64[ns]\n",
       "retirement_date    datetime64[ns]\n",
       "minifigs_total            float64\n",
       "minifigs_unique           float64\n",
       "dtype: object"
      ]
     },
     "execution_count": 51,
     "metadata": {},
     "output_type": "execute_result"
    }
   ],
   "source": [
    "df_set.dtypes"
   ]
  },
  {
   "cell_type": "code",
   "execution_count": null,
   "id": "7bcb77eb-a741-4dfe-848d-0cc18128095d",
   "metadata": {},
   "outputs": [],
   "source": []
  }
 ],
 "metadata": {
  "kernelspec": {
   "display_name": "Python 3 (ipykernel)",
   "language": "python",
   "name": "python3"
  },
  "language_info": {
   "codemirror_mode": {
    "name": "ipython",
    "version": 3
   },
   "file_extension": ".py",
   "mimetype": "text/x-python",
   "name": "python",
   "nbconvert_exporter": "python",
   "pygments_lexer": "ipython3",
   "version": "3.8.12"
  }
 },
 "nbformat": 4,
 "nbformat_minor": 5
}
