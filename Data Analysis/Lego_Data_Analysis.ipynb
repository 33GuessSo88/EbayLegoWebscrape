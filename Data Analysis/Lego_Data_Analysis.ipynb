{
 "cells": [
  {
   "cell_type": "markdown",
   "id": "c083cdd4",
   "metadata": {},
   "source": [
    "# Lego Ebay Project\n",
    "## Data analysis and cleaning"
   ]
  },
  {
   "cell_type": "code",
   "execution_count": 28,
   "id": "ec4427e4-5b86-4acb-ab51-a16a949df422",
   "metadata": {},
   "outputs": [
    {
     "ename": "ImportError",
     "evalue": "cannot import name 'removeOutliers' from 'helper' (c:\\Users\\zubaz\\Documents\\Python\\EbayLegoWebscrape\\Data Analysis\\helper.py)",
     "output_type": "error",
     "traceback": [
      "\u001b[1;31m---------------------------------------------------------------------------\u001b[0m",
      "\u001b[1;31mImportError\u001b[0m                               Traceback (most recent call last)",
      "\u001b[1;32m~\\AppData\\Local\\Temp/ipykernel_9520/603003710.py\u001b[0m in \u001b[0;36m<module>\u001b[1;34m\u001b[0m\n\u001b[0;32m      4\u001b[0m \u001b[1;32mimport\u001b[0m \u001b[0mmatplotlib\u001b[0m\u001b[1;33m.\u001b[0m\u001b[0mpyplot\u001b[0m \u001b[1;32mas\u001b[0m \u001b[0mplt\u001b[0m\u001b[1;33m\u001b[0m\u001b[1;33m\u001b[0m\u001b[0m\n\u001b[0;32m      5\u001b[0m \u001b[0mget_ipython\u001b[0m\u001b[1;33m(\u001b[0m\u001b[1;33m)\u001b[0m\u001b[1;33m.\u001b[0m\u001b[0mrun_line_magic\u001b[0m\u001b[1;33m(\u001b[0m\u001b[1;34m'matplotlib'\u001b[0m\u001b[1;33m,\u001b[0m \u001b[1;34m'inline'\u001b[0m\u001b[1;33m)\u001b[0m\u001b[1;33m\u001b[0m\u001b[1;33m\u001b[0m\u001b[0m\n\u001b[1;32m----> 6\u001b[1;33m \u001b[1;32mfrom\u001b[0m \u001b[0mhelper\u001b[0m \u001b[1;32mimport\u001b[0m \u001b[0mremoveOutliers\u001b[0m\u001b[1;33m\u001b[0m\u001b[1;33m\u001b[0m\u001b[0m\n\u001b[0m",
      "\u001b[1;31mImportError\u001b[0m: cannot import name 'removeOutliers' from 'helper' (c:\\Users\\zubaz\\Documents\\Python\\EbayLegoWebscrape\\Data Analysis\\helper.py)"
     ]
    }
   ],
   "source": [
    "import pandas as pd\n",
    "import numpy as np\n",
    "import sqlite3 as sql\n",
    "import matplotlib.pyplot as plt\n",
    "%matplotlib inline\n",
    "from helper import removeOutliers"
   ]
  },
  {
   "cell_type": "markdown",
   "id": "10311682-291a-4e05-90be-cb6a5fd8a343",
   "metadata": {
    "tags": []
   },
   "source": [
    "# **********   Injest   **********"
   ]
  },
  {
   "cell_type": "markdown",
   "id": "d1095ee1-b80b-42a6-aaad-9dcf8f20b5a6",
   "metadata": {},
   "source": [
    "## Create a connection to the database and save SQL queries as variables"
   ]
  },
  {
   "cell_type": "code",
   "execution_count": 2,
   "id": "ed600996-7d01-427e-acc2-4e13e739343c",
   "metadata": {},
   "outputs": [],
   "source": [
    "# Create connection to database\n",
    "database = \"C:\\\\Users\\\\zubaz\\\\Documents\\\\Python\\\\EbayLegoWebscrape\\\\lego.db\"\n",
    "connection = sql.connect(database)"
   ]
  },
  {
   "cell_type": "code",
   "execution_count": 3,
   "id": "eaa11ded-1896-460a-a34b-c09b0eb5b458",
   "metadata": {},
   "outputs": [],
   "source": [
    "query1 = '''SELECT set_num, date, price\n",
    "            FROM ebay_prices'''\n",
    "query2 = '''SELECT * FROM set_details'''"
   ]
  },
  {
   "cell_type": "markdown",
   "id": "df6991f4-65d8-45f9-a28a-1bb34608324b",
   "metadata": {
    "tags": []
   },
   "source": [
    "## Create dataframe for query1\n",
    "### This dataframe contains the ebay prices data"
   ]
  },
  {
   "cell_type": "code",
   "execution_count": 4,
   "id": "b170d110-226f-4440-b214-f4a9b5565fe9",
   "metadata": {},
   "outputs": [
    {
     "data": {
      "text/html": [
       "<div>\n",
       "<style scoped>\n",
       "    .dataframe tbody tr th:only-of-type {\n",
       "        vertical-align: middle;\n",
       "    }\n",
       "\n",
       "    .dataframe tbody tr th {\n",
       "        vertical-align: top;\n",
       "    }\n",
       "\n",
       "    .dataframe thead th {\n",
       "        text-align: right;\n",
       "    }\n",
       "</style>\n",
       "<table border=\"1\" class=\"dataframe\">\n",
       "  <thead>\n",
       "    <tr style=\"text-align: right;\">\n",
       "      <th></th>\n",
       "      <th>set_num</th>\n",
       "      <th>date</th>\n",
       "      <th>price</th>\n",
       "    </tr>\n",
       "  </thead>\n",
       "  <tbody>\n",
       "    <tr>\n",
       "      <th>0</th>\n",
       "      <td>10256</td>\n",
       "      <td>02-01-2022</td>\n",
       "      <td>20.0</td>\n",
       "    </tr>\n",
       "    <tr>\n",
       "      <th>1</th>\n",
       "      <td>70147</td>\n",
       "      <td>01-07-2022</td>\n",
       "      <td>158.99</td>\n",
       "    </tr>\n",
       "    <tr>\n",
       "      <th>2</th>\n",
       "      <td>70222</td>\n",
       "      <td>01-07-2022</td>\n",
       "      <td>119.99</td>\n",
       "    </tr>\n",
       "    <tr>\n",
       "      <th>3</th>\n",
       "      <td>70223</td>\n",
       "      <td>01-07-2022</td>\n",
       "      <td>184.98</td>\n",
       "    </tr>\n",
       "    <tr>\n",
       "      <th>4</th>\n",
       "      <td>41052</td>\n",
       "      <td>01-07-2022</td>\n",
       "      <td>185.98</td>\n",
       "    </tr>\n",
       "  </tbody>\n",
       "</table>\n",
       "</div>"
      ],
      "text/plain": [
       "  set_num        date   price\n",
       "0   10256  02-01-2022    20.0\n",
       "1   70147  01-07-2022  158.99\n",
       "2   70222  01-07-2022  119.99\n",
       "3   70223  01-07-2022  184.98\n",
       "4   41052  01-07-2022  185.98"
      ]
     },
     "execution_count": 4,
     "metadata": {},
     "output_type": "execute_result"
    }
   ],
   "source": [
    "df = pd.read_sql_query(query1, connection)\n",
    "df.head()"
   ]
  },
  {
   "cell_type": "code",
   "execution_count": 5,
   "id": "dee50c08-2f7b-4705-9705-4d78ce4f4192",
   "metadata": {},
   "outputs": [
    {
     "name": "stdout",
     "output_type": "stream",
     "text": [
      "<class 'pandas.core.frame.DataFrame'>\n",
      "RangeIndex: 57876 entries, 0 to 57875\n",
      "Data columns (total 3 columns):\n",
      " #   Column   Non-Null Count  Dtype \n",
      "---  ------   --------------  ----- \n",
      " 0   set_num  57876 non-null  object\n",
      " 1   date     57876 non-null  object\n",
      " 2   price    57876 non-null  object\n",
      "dtypes: object(3)\n",
      "memory usage: 1.3+ MB\n"
     ]
    }
   ],
   "source": [
    "df.info()"
   ]
  },
  {
   "cell_type": "markdown",
   "id": "4218057e-b1ea-4ab1-9419-6a6c41376ba7",
   "metadata": {},
   "source": [
    "## Create a dataframe for query2\n",
    "### This dataframe contains the set dimension data"
   ]
  },
  {
   "cell_type": "code",
   "execution_count": 6,
   "id": "f2256680-7b74-4035-9782-c89be319e4e3",
   "metadata": {},
   "outputs": [
    {
     "data": {
      "text/html": [
       "<div>\n",
       "<style scoped>\n",
       "    .dataframe tbody tr th:only-of-type {\n",
       "        vertical-align: middle;\n",
       "    }\n",
       "\n",
       "    .dataframe tbody tr th {\n",
       "        vertical-align: top;\n",
       "    }\n",
       "\n",
       "    .dataframe thead th {\n",
       "        text-align: right;\n",
       "    }\n",
       "</style>\n",
       "<table border=\"1\" class=\"dataframe\">\n",
       "  <thead>\n",
       "    <tr style=\"text-align: right;\">\n",
       "      <th></th>\n",
       "      <th>set_num</th>\n",
       "      <th>set_name</th>\n",
       "      <th>theme_group</th>\n",
       "      <th>theme</th>\n",
       "      <th>subtheme</th>\n",
       "      <th>year_released</th>\n",
       "      <th>launch_exit</th>\n",
       "      <th>pieces</th>\n",
       "      <th>minifigs</th>\n",
       "      <th>designer</th>\n",
       "      <th>msrp</th>\n",
       "      <th>age_range</th>\n",
       "      <th>packaging</th>\n",
       "      <th>availability</th>\n",
       "      <th>rating</th>\n",
       "    </tr>\n",
       "  </thead>\n",
       "  <tbody>\n",
       "    <tr>\n",
       "      <th>0</th>\n",
       "      <td>60009-1</td>\n",
       "      <td>Helicopter Arrest</td>\n",
       "      <td>Modern day</td>\n",
       "      <td>City</td>\n",
       "      <td>Police</td>\n",
       "      <td>2013</td>\n",
       "      <td>None</td>\n",
       "      <td>352.0</td>\n",
       "      <td>5</td>\n",
       "      <td>Henrik Andersen</td>\n",
       "      <td>£39.99 / $49.99</td>\n",
       "      <td>5 - 12</td>\n",
       "      <td>Box</td>\n",
       "      <td>Retail - limited</td>\n",
       "      <td>✭✭✭✭✩ 3.8 52 ratings</td>\n",
       "    </tr>\n",
       "    <tr>\n",
       "      <th>1</th>\n",
       "      <td>60012-1</td>\n",
       "      <td>Coast Guard 4x4 &amp; Diving Boat</td>\n",
       "      <td>Modern day</td>\n",
       "      <td>City</td>\n",
       "      <td>Coast Guard</td>\n",
       "      <td>2013</td>\n",
       "      <td>01 Jun 2013 - 31 Jul 2015</td>\n",
       "      <td>128.0</td>\n",
       "      <td>2 (2 Unique to this set)</td>\n",
       "      <td>None</td>\n",
       "      <td>£9.99 / $19.99 / 12.99€</td>\n",
       "      <td>5 - 12</td>\n",
       "      <td>Box</td>\n",
       "      <td>Retail</td>\n",
       "      <td>✭✭✭✭✩ 3.8 145 ratings 4 Reviews Official Brick...</td>\n",
       "    </tr>\n",
       "    <tr>\n",
       "      <th>2</th>\n",
       "      <td>75975-1</td>\n",
       "      <td>Watchpoint: Gibraltar</td>\n",
       "      <td>Licensed</td>\n",
       "      <td>Overwatch</td>\n",
       "      <td>None</td>\n",
       "      <td>2019</td>\n",
       "      <td>01 Jan 2019 - 31 Jul 2020</td>\n",
       "      <td>730.0</td>\n",
       "      <td>4 (3 Unique to this set)</td>\n",
       "      <td>Mark Stafford</td>\n",
       "      <td>£79.99 / $89.99 / 87.72€</td>\n",
       "      <td>9+</td>\n",
       "      <td>Box</td>\n",
       "      <td>Retail</td>\n",
       "      <td>✭✭✭✭✩ 3.9 114 ratings 1 Review Official Bricks...</td>\n",
       "    </tr>\n",
       "    <tr>\n",
       "      <th>3</th>\n",
       "      <td>10155-1</td>\n",
       "      <td>Maersk Line Container Ship</td>\n",
       "      <td>Model making</td>\n",
       "      <td>Creator Expert</td>\n",
       "      <td>Maersk</td>\n",
       "      <td>2010</td>\n",
       "      <td>01 Aug 2010 - 31 Jul 2011</td>\n",
       "      <td>990.0</td>\n",
       "      <td>None</td>\n",
       "      <td>None</td>\n",
       "      <td>£102.99 / $119.99</td>\n",
       "      <td>8+</td>\n",
       "      <td>Box</td>\n",
       "      <td>LEGO exclusive</td>\n",
       "      <td>✭✭✭✭✩ 4.1 28 ratings 3 Reviews</td>\n",
       "    </tr>\n",
       "    <tr>\n",
       "      <th>4</th>\n",
       "      <td>10210-1</td>\n",
       "      <td>Imperial Flagship</td>\n",
       "      <td>Model making</td>\n",
       "      <td>Creator Expert</td>\n",
       "      <td>Miscellaneous</td>\n",
       "      <td>2010</td>\n",
       "      <td>01 Jan 2010 - 31 Dec 2011</td>\n",
       "      <td>1664.0</td>\n",
       "      <td>9 (6 Unique to this set)</td>\n",
       "      <td>Raphael Pretesacque</td>\n",
       "      <td>£142.99 / $179.99</td>\n",
       "      <td>14+</td>\n",
       "      <td>Box</td>\n",
       "      <td>Retail - limited</td>\n",
       "      <td>✭✭✭✭✭ 4.6 171 ratings 16 Reviews</td>\n",
       "    </tr>\n",
       "  </tbody>\n",
       "</table>\n",
       "</div>"
      ],
      "text/plain": [
       "   set_num                       set_name   theme_group           theme  \\\n",
       "0  60009-1              Helicopter Arrest    Modern day            City   \n",
       "1  60012-1  Coast Guard 4x4 & Diving Boat    Modern day            City   \n",
       "2  75975-1          Watchpoint: Gibraltar      Licensed       Overwatch   \n",
       "3  10155-1     Maersk Line Container Ship  Model making  Creator Expert   \n",
       "4  10210-1              Imperial Flagship  Model making  Creator Expert   \n",
       "\n",
       "        subtheme year_released                launch_exit  pieces  \\\n",
       "0         Police          2013                       None   352.0   \n",
       "1    Coast Guard          2013  01 Jun 2013 - 31 Jul 2015   128.0   \n",
       "2           None          2019  01 Jan 2019 - 31 Jul 2020   730.0   \n",
       "3         Maersk          2010  01 Aug 2010 - 31 Jul 2011   990.0   \n",
       "4  Miscellaneous          2010  01 Jan 2010 - 31 Dec 2011  1664.0   \n",
       "\n",
       "                   minifigs             designer                      msrp  \\\n",
       "0                         5      Henrik Andersen           £39.99 / $49.99   \n",
       "1  2 (2 Unique to this set)                 None   £9.99 / $19.99 / 12.99€   \n",
       "2  4 (3 Unique to this set)        Mark Stafford  £79.99 / $89.99 / 87.72€   \n",
       "3                      None                 None         £102.99 / $119.99   \n",
       "4  9 (6 Unique to this set)  Raphael Pretesacque         £142.99 / $179.99   \n",
       "\n",
       "  age_range packaging      availability  \\\n",
       "0    5 - 12       Box  Retail - limited   \n",
       "1    5 - 12       Box            Retail   \n",
       "2        9+       Box            Retail   \n",
       "3        8+       Box    LEGO exclusive   \n",
       "4       14+       Box  Retail - limited   \n",
       "\n",
       "                                              rating  \n",
       "0                               ✭✭✭✭✩ 3.8 52 ratings  \n",
       "1  ✭✭✭✭✩ 3.8 145 ratings 4 Reviews Official Brick...  \n",
       "2  ✭✭✭✭✩ 3.9 114 ratings 1 Review Official Bricks...  \n",
       "3                     ✭✭✭✭✩ 4.1 28 ratings 3 Reviews  \n",
       "4                   ✭✭✭✭✭ 4.6 171 ratings 16 Reviews  "
      ]
     },
     "execution_count": 6,
     "metadata": {},
     "output_type": "execute_result"
    }
   ],
   "source": [
    "df_set = pd.read_sql_query(query2, connection)\n",
    "df_set.head()"
   ]
  },
  {
   "cell_type": "code",
   "execution_count": 7,
   "id": "d3459308-d765-4b91-9a00-53b906d4aaf3",
   "metadata": {},
   "outputs": [],
   "source": [
    "#change date column from text to datetime\n",
    "df['date'] = pd.to_datetime(df['date'])"
   ]
  },
  {
   "cell_type": "code",
   "execution_count": 8,
   "id": "bb59636e-753a-4913-8917-1256d236da8f",
   "metadata": {},
   "outputs": [
    {
     "name": "stdout",
     "output_type": "stream",
     "text": [
      "2022-01-07 00:00:00\n",
      "2022-02-10 00:00:00\n",
      "34 days 00:00:00\n"
     ]
    }
   ],
   "source": [
    "# find earliest and latest dates and how many days of data exists\n",
    "oldest_date = df['date'].min()\n",
    "recent_date = df['date'].max()\n",
    "date_difference = recent_date - oldest_date\n",
    "print(oldest_date)\n",
    "print(recent_date)\n",
    "print(date_difference)"
   ]
  },
  {
   "cell_type": "markdown",
   "id": "fff340f4-4bbd-47f7-8755-f00f5cd3c0c5",
   "metadata": {},
   "source": [
    "## Examine the 'price' column and do some cleaning"
   ]
  },
  {
   "cell_type": "code",
   "execution_count": 9,
   "id": "3010b99b-053a-4c70-9f34-6b2ee11d6a1c",
   "metadata": {},
   "outputs": [
    {
     "data": {
      "text/plain": [
       "False"
      ]
     },
     "execution_count": 9,
     "metadata": {},
     "output_type": "execute_result"
    }
   ],
   "source": [
    "# Check if all values in price column are intergers\n",
    "all(x.is_integer() for x in df['price'])"
   ]
  },
  {
   "cell_type": "code",
   "execution_count": 10,
   "id": "5d69cd7a-5186-46ee-8dc0-aa8d18a01e18",
   "metadata": {},
   "outputs": [
    {
     "name": "stdout",
     "output_type": "stream",
     "text": [
      "      set_num       date            price\n",
      "26      75523 2022-01-19  25.79 to 135.81\n",
      "38      10235 2022-02-06     3.29 to 4.98\n",
      "41      10695 2022-01-21  16.37 to 122.89\n",
      "96      21316 2022-01-11    9.89 to 13.89\n",
      "109     70321 2022-02-02  20.25 to 282.98\n",
      "...       ...        ...              ...\n",
      "57209   75827 2022-01-07         1,168.39\n",
      "57456   75192 2022-02-10         1,168.83\n",
      "57501   10251 2022-01-22         1,286.32\n",
      "57565   21137 2022-01-22         1,749.99\n",
      "57726   10251 2022-02-06         1,081.17\n",
      "\n",
      "[411 rows x 3 columns]\n"
     ]
    }
   ],
   "source": [
    "print(df[pd.to_numeric(df['price'], errors='coerce').isnull()])"
   ]
  },
  {
   "cell_type": "code",
   "execution_count": 11,
   "id": "002bb4b5-fb7f-44b9-a996-7309b1bda54d",
   "metadata": {},
   "outputs": [],
   "source": [
    "# looks like the commas are bad, let's replace commas with nothing\n",
    "df['price'] = df['price'].replace(',','', regex=True)"
   ]
  },
  {
   "cell_type": "code",
   "execution_count": 12,
   "id": "9e69ed67-f24f-49aa-8fa6-2a5155b5b009",
   "metadata": {},
   "outputs": [],
   "source": [
    "# check to see what the rest of the non numeric values look like\n",
    "# print(df['price'] [pd.to_numeric(df['price'], errors='coerce').isnull()])"
   ]
  },
  {
   "cell_type": "code",
   "execution_count": 13,
   "id": "09393d11-d9d1-44a9-bc10-f78afb86649b",
   "metadata": {},
   "outputs": [
    {
     "data": {
      "text/plain": [
       "(57876, 3)"
      ]
     },
     "execution_count": 13,
     "metadata": {},
     "output_type": "execute_result"
    }
   ],
   "source": [
    "df.shape"
   ]
  },
  {
   "cell_type": "code",
   "execution_count": 14,
   "id": "10819568-01a3-468c-9702-6eac25573953",
   "metadata": {},
   "outputs": [
    {
     "name": "stdout",
     "output_type": "stream",
     "text": [
      "Int64Index([   26,    38,    41,    96,   109,  2553,  2858,  9561, 12170,\n",
      "            14668, 23364, 29125, 29793, 41994, 41999, 43914, 43925, 45377,\n",
      "            45593, 45597, 45599, 45601, 45602, 45628, 45685, 45686, 45687,\n",
      "            45688, 45689, 45690, 45691, 45692, 45696, 45697, 45700, 45701,\n",
      "            45702, 45703, 45704, 45705, 45706, 45707, 45708, 45710, 45728,\n",
      "            45740, 52384],\n",
      "           dtype='int64')\n"
     ]
    }
   ],
   "source": [
    "# find the index of rows with 'to' in them\n",
    "# these values are too hard to deal with, probably not representative listings\n",
    "remove_rows = df[df['price'].str.contains(\"to\") == True].index\n",
    "\n",
    "print(remove_rows)"
   ]
  },
  {
   "cell_type": "code",
   "execution_count": 15,
   "id": "483a5366-8a3e-424a-b481-13368ed98043",
   "metadata": {},
   "outputs": [],
   "source": [
    "# remove these rows\n",
    "df.drop(remove_rows, inplace=True)"
   ]
  },
  {
   "cell_type": "code",
   "execution_count": 16,
   "id": "3efc7302-a7fd-4c3d-8ccc-c4e05424ff32",
   "metadata": {},
   "outputs": [
    {
     "data": {
      "text/plain": [
       "(57829, 3)"
      ]
     },
     "execution_count": 16,
     "metadata": {},
     "output_type": "execute_result"
    }
   ],
   "source": [
    "df.shape"
   ]
  },
  {
   "cell_type": "code",
   "execution_count": 17,
   "id": "f4d8b64a-89e3-4686-b9fc-095073ffa060",
   "metadata": {},
   "outputs": [
    {
     "name": "stdout",
     "output_type": "stream",
     "text": [
      "Empty DataFrame\n",
      "Columns: [set_num, date, price]\n",
      "Index: []\n"
     ]
    }
   ],
   "source": [
    "print(df[pd.to_numeric(df['price'], errors='coerce').isnull()])"
   ]
  },
  {
   "cell_type": "code",
   "execution_count": 18,
   "id": "814797ca-ff03-44b7-869a-382b99a29134",
   "metadata": {},
   "outputs": [
    {
     "data": {
      "text/plain": [
       "True"
      ]
     },
     "execution_count": 18,
     "metadata": {},
     "output_type": "execute_result"
    }
   ],
   "source": [
    "# checks price column to make sure all rows are numeric\n",
    "pd.to_numeric(df['price'], errors='coerce').notnull().all()"
   ]
  },
  {
   "cell_type": "code",
   "execution_count": 19,
   "id": "8e8ec799-2cdf-48a4-9bb4-6a1a21add39e",
   "metadata": {},
   "outputs": [
    {
     "data": {
      "text/plain": [
       "set_num            object\n",
       "date       datetime64[ns]\n",
       "price              object\n",
       "dtype: object"
      ]
     },
     "execution_count": 19,
     "metadata": {},
     "output_type": "execute_result"
    }
   ],
   "source": [
    "df.dtypes"
   ]
  },
  {
   "cell_type": "code",
   "execution_count": 20,
   "id": "f54a6eb7-bdff-4083-8dd8-261f5e933d24",
   "metadata": {},
   "outputs": [
    {
     "data": {
      "text/plain": [
       "set_num            object\n",
       "date       datetime64[ns]\n",
       "price             float64\n",
       "dtype: object"
      ]
     },
     "execution_count": 20,
     "metadata": {},
     "output_type": "execute_result"
    }
   ],
   "source": [
    "# now that all rows in price column are numeric, change column data type to numeric\n",
    "# pandas will pick int64 if there are no decimals, float 64 if decimals are present, which there are\n",
    "df['price'] = pd.to_numeric(df['price'])\n",
    "df.dtypes"
   ]
  },
  {
   "cell_type": "code",
   "execution_count": null,
   "id": "0f61505c-6d3f-48a4-a510-a5c1b2969816",
   "metadata": {},
   "outputs": [],
   "source": [
    "def remove_outliers(dataframe):\n",
    "    Q1 = dataframe['price'].quantile(0.25)\n",
    "    Q3 = dataframe['price'].quantile(0.75)\n",
    "    IQR = Q3 - Q1\n",
    "    lower_lim = Q1 - 1.5*IQR\n",
    "    upper_lim = Q3 + 1.5*IQR\n",
    "    outliers_15_low = ( dataframe['price'] < lower_lim)\n",
    "    outliers_15_high = ( dataframe['price'] > upper_lim)\n",
    "    df_outliers_removed = dataframe[~(outliers_15_low | outliers_15_high)]\n",
    "    return df_outliers_removed"
   ]
  },
  {
   "cell_type": "code",
   "execution_count": 24,
   "id": "50b624a6-1c34-4ec3-81f2-e54dd64517cc",
   "metadata": {},
   "outputs": [
    {
     "data": {
      "text/plain": [
       "0        False\n",
       "1        False\n",
       "2        False\n",
       "3        False\n",
       "4        False\n",
       "         ...  \n",
       "57871    False\n",
       "57872    False\n",
       "57873    False\n",
       "57874    False\n",
       "57875    False\n",
       "Name: set_num, Length: 57829, dtype: bool"
      ]
     },
     "execution_count": 24,
     "metadata": {},
     "output_type": "execute_result"
    }
   ],
   "source": [
    "# returns a boolean series of just set num 75827\n",
    "filt = (df['set_num'] == 75827)\n",
    "filt"
   ]
  },
  {
   "cell_type": "code",
   "execution_count": 25,
   "id": "caff330c-18c5-4b25-a763-4ed79d5b9c02",
   "metadata": {},
   "outputs": [
    {
     "data": {
      "text/html": [
       "<div>\n",
       "<style scoped>\n",
       "    .dataframe tbody tr th:only-of-type {\n",
       "        vertical-align: middle;\n",
       "    }\n",
       "\n",
       "    .dataframe tbody tr th {\n",
       "        vertical-align: top;\n",
       "    }\n",
       "\n",
       "    .dataframe thead th {\n",
       "        text-align: right;\n",
       "    }\n",
       "</style>\n",
       "<table border=\"1\" class=\"dataframe\">\n",
       "  <thead>\n",
       "    <tr style=\"text-align: right;\">\n",
       "      <th></th>\n",
       "      <th>set_num</th>\n",
       "      <th>date</th>\n",
       "      <th>price</th>\n",
       "    </tr>\n",
       "  </thead>\n",
       "  <tbody>\n",
       "    <tr>\n",
       "      <th>40132</th>\n",
       "      <td>75827</td>\n",
       "      <td>2022-01-14</td>\n",
       "      <td>2.75</td>\n",
       "    </tr>\n",
       "    <tr>\n",
       "      <th>11111</th>\n",
       "      <td>75827</td>\n",
       "      <td>2022-01-11</td>\n",
       "      <td>10.00</td>\n",
       "    </tr>\n",
       "    <tr>\n",
       "      <th>33415</th>\n",
       "      <td>75827</td>\n",
       "      <td>2022-01-14</td>\n",
       "      <td>274.68</td>\n",
       "    </tr>\n",
       "    <tr>\n",
       "      <th>21097</th>\n",
       "      <td>75827</td>\n",
       "      <td>2022-01-29</td>\n",
       "      <td>389.01</td>\n",
       "    </tr>\n",
       "    <tr>\n",
       "      <th>50466</th>\n",
       "      <td>75827</td>\n",
       "      <td>2022-01-07</td>\n",
       "      <td>789.99</td>\n",
       "    </tr>\n",
       "    <tr>\n",
       "      <th>55285</th>\n",
       "      <td>75827</td>\n",
       "      <td>2022-01-07</td>\n",
       "      <td>798.00</td>\n",
       "    </tr>\n",
       "    <tr>\n",
       "      <th>53095</th>\n",
       "      <td>75827</td>\n",
       "      <td>2022-01-18</td>\n",
       "      <td>799.00</td>\n",
       "    </tr>\n",
       "    <tr>\n",
       "      <th>19896</th>\n",
       "      <td>75827</td>\n",
       "      <td>2022-01-07</td>\n",
       "      <td>799.00</td>\n",
       "    </tr>\n",
       "    <tr>\n",
       "      <th>47334</th>\n",
       "      <td>75827</td>\n",
       "      <td>2022-01-26</td>\n",
       "      <td>800.00</td>\n",
       "    </tr>\n",
       "    <tr>\n",
       "      <th>49922</th>\n",
       "      <td>75827</td>\n",
       "      <td>2022-01-07</td>\n",
       "      <td>839.00</td>\n",
       "    </tr>\n",
       "    <tr>\n",
       "      <th>33414</th>\n",
       "      <td>75827</td>\n",
       "      <td>2022-01-14</td>\n",
       "      <td>844.64</td>\n",
       "    </tr>\n",
       "    <tr>\n",
       "      <th>51928</th>\n",
       "      <td>75827</td>\n",
       "      <td>2022-01-26</td>\n",
       "      <td>865.00</td>\n",
       "    </tr>\n",
       "    <tr>\n",
       "      <th>2046</th>\n",
       "      <td>75827</td>\n",
       "      <td>2022-01-22</td>\n",
       "      <td>875.00</td>\n",
       "    </tr>\n",
       "    <tr>\n",
       "      <th>35087</th>\n",
       "      <td>75827</td>\n",
       "      <td>2022-01-07</td>\n",
       "      <td>894.81</td>\n",
       "    </tr>\n",
       "    <tr>\n",
       "      <th>46730</th>\n",
       "      <td>75827</td>\n",
       "      <td>2022-01-07</td>\n",
       "      <td>895.99</td>\n",
       "    </tr>\n",
       "    <tr>\n",
       "      <th>38772</th>\n",
       "      <td>75827</td>\n",
       "      <td>2022-01-07</td>\n",
       "      <td>898.99</td>\n",
       "    </tr>\n",
       "    <tr>\n",
       "      <th>34342</th>\n",
       "      <td>75827</td>\n",
       "      <td>2022-01-07</td>\n",
       "      <td>899.00</td>\n",
       "    </tr>\n",
       "    <tr>\n",
       "      <th>54232</th>\n",
       "      <td>75827</td>\n",
       "      <td>2022-01-07</td>\n",
       "      <td>899.99</td>\n",
       "    </tr>\n",
       "    <tr>\n",
       "      <th>55880</th>\n",
       "      <td>75827</td>\n",
       "      <td>2022-01-07</td>\n",
       "      <td>900.00</td>\n",
       "    </tr>\n",
       "    <tr>\n",
       "      <th>51750</th>\n",
       "      <td>75827</td>\n",
       "      <td>2022-01-11</td>\n",
       "      <td>906.03</td>\n",
       "    </tr>\n",
       "    <tr>\n",
       "      <th>57798</th>\n",
       "      <td>75827</td>\n",
       "      <td>2022-02-06</td>\n",
       "      <td>927.00</td>\n",
       "    </tr>\n",
       "    <tr>\n",
       "      <th>15153</th>\n",
       "      <td>75827</td>\n",
       "      <td>2022-01-14</td>\n",
       "      <td>932.54</td>\n",
       "    </tr>\n",
       "    <tr>\n",
       "      <th>11617</th>\n",
       "      <td>75827</td>\n",
       "      <td>2022-01-31</td>\n",
       "      <td>937.64</td>\n",
       "    </tr>\n",
       "    <tr>\n",
       "      <th>22722</th>\n",
       "      <td>75827</td>\n",
       "      <td>2022-01-13</td>\n",
       "      <td>945.00</td>\n",
       "    </tr>\n",
       "    <tr>\n",
       "      <th>6324</th>\n",
       "      <td>75827</td>\n",
       "      <td>2022-01-07</td>\n",
       "      <td>949.95</td>\n",
       "    </tr>\n",
       "    <tr>\n",
       "      <th>4344</th>\n",
       "      <td>75827</td>\n",
       "      <td>2022-01-07</td>\n",
       "      <td>949.99</td>\n",
       "    </tr>\n",
       "    <tr>\n",
       "      <th>15051</th>\n",
       "      <td>75827</td>\n",
       "      <td>2022-01-07</td>\n",
       "      <td>950.00</td>\n",
       "    </tr>\n",
       "    <tr>\n",
       "      <th>11209</th>\n",
       "      <td>75827</td>\n",
       "      <td>2022-01-17</td>\n",
       "      <td>956.48</td>\n",
       "    </tr>\n",
       "    <tr>\n",
       "      <th>30995</th>\n",
       "      <td>75827</td>\n",
       "      <td>2022-01-28</td>\n",
       "      <td>976.92</td>\n",
       "    </tr>\n",
       "    <tr>\n",
       "      <th>54157</th>\n",
       "      <td>75827</td>\n",
       "      <td>2022-01-07</td>\n",
       "      <td>989.00</td>\n",
       "    </tr>\n",
       "    <tr>\n",
       "      <th>30542</th>\n",
       "      <td>75827</td>\n",
       "      <td>2022-01-19</td>\n",
       "      <td>990.82</td>\n",
       "    </tr>\n",
       "    <tr>\n",
       "      <th>37566</th>\n",
       "      <td>75827</td>\n",
       "      <td>2022-01-07</td>\n",
       "      <td>995.00</td>\n",
       "    </tr>\n",
       "    <tr>\n",
       "      <th>39884</th>\n",
       "      <td>75827</td>\n",
       "      <td>2022-02-06</td>\n",
       "      <td>995.00</td>\n",
       "    </tr>\n",
       "    <tr>\n",
       "      <th>15284</th>\n",
       "      <td>75827</td>\n",
       "      <td>2022-01-07</td>\n",
       "      <td>998.00</td>\n",
       "    </tr>\n",
       "    <tr>\n",
       "      <th>3559</th>\n",
       "      <td>75827</td>\n",
       "      <td>2022-01-07</td>\n",
       "      <td>999.00</td>\n",
       "    </tr>\n",
       "    <tr>\n",
       "      <th>23777</th>\n",
       "      <td>75827</td>\n",
       "      <td>2022-01-07</td>\n",
       "      <td>999.00</td>\n",
       "    </tr>\n",
       "    <tr>\n",
       "      <th>51077</th>\n",
       "      <td>75827</td>\n",
       "      <td>2022-02-06</td>\n",
       "      <td>999.99</td>\n",
       "    </tr>\n",
       "    <tr>\n",
       "      <th>50311</th>\n",
       "      <td>75827</td>\n",
       "      <td>2022-01-07</td>\n",
       "      <td>1000.00</td>\n",
       "    </tr>\n",
       "    <tr>\n",
       "      <th>10205</th>\n",
       "      <td>75827</td>\n",
       "      <td>2022-01-07</td>\n",
       "      <td>1020.00</td>\n",
       "    </tr>\n",
       "    <tr>\n",
       "      <th>22230</th>\n",
       "      <td>75827</td>\n",
       "      <td>2022-01-07</td>\n",
       "      <td>1099.99</td>\n",
       "    </tr>\n",
       "    <tr>\n",
       "      <th>20095</th>\n",
       "      <td>75827</td>\n",
       "      <td>2022-01-07</td>\n",
       "      <td>1119.00</td>\n",
       "    </tr>\n",
       "    <tr>\n",
       "      <th>57209</th>\n",
       "      <td>75827</td>\n",
       "      <td>2022-01-07</td>\n",
       "      <td>1168.39</td>\n",
       "    </tr>\n",
       "    <tr>\n",
       "      <th>2687</th>\n",
       "      <td>75827</td>\n",
       "      <td>2022-01-07</td>\n",
       "      <td>1168.49</td>\n",
       "    </tr>\n",
       "    <tr>\n",
       "      <th>35571</th>\n",
       "      <td>75827</td>\n",
       "      <td>2022-01-07</td>\n",
       "      <td>1199.00</td>\n",
       "    </tr>\n",
       "    <tr>\n",
       "      <th>7020</th>\n",
       "      <td>75827</td>\n",
       "      <td>2022-01-21</td>\n",
       "      <td>1199.99</td>\n",
       "    </tr>\n",
       "    <tr>\n",
       "      <th>5172</th>\n",
       "      <td>75827</td>\n",
       "      <td>2022-01-31</td>\n",
       "      <td>1219.99</td>\n",
       "    </tr>\n",
       "    <tr>\n",
       "      <th>39829</th>\n",
       "      <td>75827</td>\n",
       "      <td>2022-02-03</td>\n",
       "      <td>1290.00</td>\n",
       "    </tr>\n",
       "  </tbody>\n",
       "</table>\n",
       "</div>"
      ],
      "text/plain": [
       "      set_num       date    price\n",
       "40132   75827 2022-01-14     2.75\n",
       "11111   75827 2022-01-11    10.00\n",
       "33415   75827 2022-01-14   274.68\n",
       "21097   75827 2022-01-29   389.01\n",
       "50466   75827 2022-01-07   789.99\n",
       "55285   75827 2022-01-07   798.00\n",
       "53095   75827 2022-01-18   799.00\n",
       "19896   75827 2022-01-07   799.00\n",
       "47334   75827 2022-01-26   800.00\n",
       "49922   75827 2022-01-07   839.00\n",
       "33414   75827 2022-01-14   844.64\n",
       "51928   75827 2022-01-26   865.00\n",
       "2046    75827 2022-01-22   875.00\n",
       "35087   75827 2022-01-07   894.81\n",
       "46730   75827 2022-01-07   895.99\n",
       "38772   75827 2022-01-07   898.99\n",
       "34342   75827 2022-01-07   899.00\n",
       "54232   75827 2022-01-07   899.99\n",
       "55880   75827 2022-01-07   900.00\n",
       "51750   75827 2022-01-11   906.03\n",
       "57798   75827 2022-02-06   927.00\n",
       "15153   75827 2022-01-14   932.54\n",
       "11617   75827 2022-01-31   937.64\n",
       "22722   75827 2022-01-13   945.00\n",
       "6324    75827 2022-01-07   949.95\n",
       "4344    75827 2022-01-07   949.99\n",
       "15051   75827 2022-01-07   950.00\n",
       "11209   75827 2022-01-17   956.48\n",
       "30995   75827 2022-01-28   976.92\n",
       "54157   75827 2022-01-07   989.00\n",
       "30542   75827 2022-01-19   990.82\n",
       "37566   75827 2022-01-07   995.00\n",
       "39884   75827 2022-02-06   995.00\n",
       "15284   75827 2022-01-07   998.00\n",
       "3559    75827 2022-01-07   999.00\n",
       "23777   75827 2022-01-07   999.00\n",
       "51077   75827 2022-02-06   999.99\n",
       "50311   75827 2022-01-07  1000.00\n",
       "10205   75827 2022-01-07  1020.00\n",
       "22230   75827 2022-01-07  1099.99\n",
       "20095   75827 2022-01-07  1119.00\n",
       "57209   75827 2022-01-07  1168.39\n",
       "2687    75827 2022-01-07  1168.49\n",
       "35571   75827 2022-01-07  1199.00\n",
       "7020    75827 2022-01-21  1199.99\n",
       "5172    75827 2022-01-31  1219.99\n",
       "39829   75827 2022-02-03  1290.00"
      ]
     },
     "execution_count": 25,
     "metadata": {},
     "output_type": "execute_result"
    }
   ],
   "source": [
    "# returns a data frame that has had filt boolean mask applied\n",
    "dffilt = df[filt].sort_values(by='price')\n",
    "dffilt"
   ]
  },
  {
   "cell_type": "code",
   "execution_count": 27,
   "id": "6081cd12-3589-4b82-af37-5d70f5f9319a",
   "metadata": {},
   "outputs": [
    {
     "ename": "AttributeError",
     "evalue": "module 'helper' has no attribute 'remove_outliers'",
     "output_type": "error",
     "traceback": [
      "\u001b[1;31m---------------------------------------------------------------------------\u001b[0m",
      "\u001b[1;31mAttributeError\u001b[0m                            Traceback (most recent call last)",
      "\u001b[1;32m~\\AppData\\Local\\Temp/ipykernel_9520/2023884382.py\u001b[0m in \u001b[0;36m<module>\u001b[1;34m\u001b[0m\n\u001b[0;32m      1\u001b[0m \u001b[1;31m# apply remove_outliers function to dffilt dataframe\u001b[0m\u001b[1;33m\u001b[0m\u001b[1;33m\u001b[0m\u001b[1;33m\u001b[0m\u001b[0m\n\u001b[0;32m      2\u001b[0m \u001b[1;31m# assign to new df\u001b[0m\u001b[1;33m\u001b[0m\u001b[1;33m\u001b[0m\u001b[1;33m\u001b[0m\u001b[0m\n\u001b[1;32m----> 3\u001b[1;33m \u001b[0mdf_no_outliers\u001b[0m \u001b[1;33m=\u001b[0m \u001b[0mhelper\u001b[0m\u001b[1;33m.\u001b[0m\u001b[0mremove_outliers\u001b[0m\u001b[1;33m(\u001b[0m\u001b[0mdffilt\u001b[0m\u001b[1;33m)\u001b[0m\u001b[1;33m\u001b[0m\u001b[1;33m\u001b[0m\u001b[0m\n\u001b[0m\u001b[0;32m      4\u001b[0m \u001b[0mdf_no_outliers\u001b[0m\u001b[1;33m\u001b[0m\u001b[1;33m\u001b[0m\u001b[0m\n",
      "\u001b[1;31mAttributeError\u001b[0m: module 'helper' has no attribute 'remove_outliers'"
     ]
    }
   ],
   "source": [
    "# apply remove_outliers function to dffilt dataframe\n",
    "# assign to new df\n",
    "df_no_outliers = helper.remove_outliers(dffilt)\n",
    "df_no_outliers"
   ]
  },
  {
   "cell_type": "code",
   "execution_count": null,
   "id": "69a4236a-09f0-4a8e-92ed-72d9d3f3640c",
   "metadata": {},
   "outputs": [],
   "source": [
    "filt = (df['set_num'] == 75827)\n",
    "dffilt = df[filt].sort_values(by='price')\n",
    "remove_outliers(dffilt)"
   ]
  },
  {
   "cell_type": "code",
   "execution_count": null,
   "id": "6edbe419-17e5-4f7f-afc4-8cd54c4ca126",
   "metadata": {},
   "outputs": [],
   "source": [
    "# lets take a look at just the ghostbusters set data\n",
    "filt = (df['set_num'] == 75827)\n",
    "dffilt = df[filt].sort_values(by='price')\n",
    "dffilt['price'].describe()\n"
   ]
  },
  {
   "cell_type": "code",
   "execution_count": null,
   "id": "0f8525ab-d92f-4dea-bd9c-39dcba114b4b",
   "metadata": {},
   "outputs": [],
   "source": [
    "dffilt.boxplot(column=['price'])\n",
    "# looks like we've got some outlier prices"
   ]
  },
  {
   "cell_type": "code",
   "execution_count": null,
   "id": "549c2c76-3760-4cb9-87e2-d3d7cc96ab9a",
   "metadata": {},
   "outputs": [],
   "source": [
    "# This is Tukey's rule, known as the IQR rule\n",
    "# IQR = Inter Quartile Range\n",
    "Q1 = dffilt['price'].quantile(0.25)\n",
    "Q3 = dffilt['price'].quantile(0.75)\n",
    "IQR = Q3 - Q1\n",
    "IQR"
   ]
  },
  {
   "cell_type": "code",
   "execution_count": null,
   "id": "b95e4290-31b8-4c48-94ac-3b350398571e",
   "metadata": {},
   "outputs": [],
   "source": [
    "# We will use 1.5*IQR for our limits, you can also use 2.5 or 2.0\n",
    "lower_lim = Q1 - 1.5*IQR\n",
    "upper_lim = Q3 + 1.5*IQR\n",
    "lower_lim"
   ]
  },
  {
   "cell_type": "code",
   "execution_count": null,
   "id": "a672ee32-baed-4f36-962f-b6648647dd75",
   "metadata": {},
   "outputs": [],
   "source": [
    "upper_lim"
   ]
  },
  {
   "cell_type": "code",
   "execution_count": null,
   "id": "397380aa-5521-4239-a0ee-af59bdd09ea4",
   "metadata": {},
   "outputs": [],
   "source": [
    "# how many rows below our low limit?\n",
    "outliers_15_low = ( dffilt['price'] < lower_lim)\n",
    "len(dffilt['price'][outliers_15_low])"
   ]
  },
  {
   "cell_type": "code",
   "execution_count": null,
   "id": "8ed7ba5f-9417-4967-b7ea-4c9fed45d65e",
   "metadata": {},
   "outputs": [],
   "source": [
    "# how many rows above high limit?\n",
    "outliers_15_high = ( dffilt['price'] > upper_lim)\n",
    "len(dffilt['price'][outliers_15_high])"
   ]
  },
  {
   "cell_type": "code",
   "execution_count": null,
   "id": "31a924bd-833c-4008-9f34-80902dbb39cb",
   "metadata": {},
   "outputs": [],
   "source": [
    "# the tilda ~ reverses the filtered indexes\n",
    "dffilt = dffilt[~(outliers_15_low | outliers_15_high)]\n"
   ]
  },
  {
   "cell_type": "code",
   "execution_count": null,
   "id": "d029a740-11b8-4ccb-873a-c22293a5f45c",
   "metadata": {},
   "outputs": [],
   "source": [
    "dffilt"
   ]
  },
  {
   "cell_type": "code",
   "execution_count": null,
   "id": "9469f74a-2775-43a6-9928-af8f019e873a",
   "metadata": {},
   "outputs": [],
   "source": [
    "dffilt.boxplot(column='price')"
   ]
  },
  {
   "cell_type": "code",
   "execution_count": null,
   "id": "a36f9d17-3d6f-4791-9645-70584c540da1",
   "metadata": {},
   "outputs": [],
   "source": [
    "# Group the price data by date and calculate the mean\n",
    "# i.e. create a new dataframe with one date per row and the average sales price\n",
    "dffilt_group = dffilt.groupby(['date']).mean()\n",
    "dffilt_group"
   ]
  },
  {
   "cell_type": "code",
   "execution_count": null,
   "id": "113d58e1-a91c-40d3-a32b-6b9096997714",
   "metadata": {},
   "outputs": [],
   "source": [
    "plt.rc('font', size=12)\n",
    "fig, ax = plt.subplots(figsize=(10, 6))\n",
    "\n",
    "ax.plot(dffilt_group.index, dffilt_group.price, label='Average Daily Price')\n",
    "\n",
    "fig.autofmt_xdate()\n",
    "ax.set_xlabel('Date')\n",
    "ax.set_ylabel('Price')\n",
    "ax.set_title('Average Daily Price of Ghostbusters Set')\n",
    "ax.grid(True);"
   ]
  },
  {
   "cell_type": "code",
   "execution_count": null,
   "id": "2530b436-1575-4881-a8d9-f3d3196ffb91",
   "metadata": {},
   "outputs": [],
   "source": [
    "# time to clean the set_details data\n",
    "df_set.head()"
   ]
  },
  {
   "cell_type": "code",
   "execution_count": null,
   "id": "37950b96-21a1-44b8-a8d2-68d4cd479fa8",
   "metadata": {},
   "outputs": [],
   "source": [
    "# remove -1 from set_num\n",
    "df_set['set_num'] = df_set['set_num'].str.split('-', n=1).str[0]"
   ]
  },
  {
   "cell_type": "code",
   "execution_count": null,
   "id": "6b346fec-e209-423b-b716-23334fba7494",
   "metadata": {},
   "outputs": [],
   "source": [
    "# split launch_exit column into 2 columns\n",
    "df_set[['launch_date', 'retirement_date']] = df_set['launch_exit'].str.split(' - ', expand=True)"
   ]
  },
  {
   "cell_type": "code",
   "execution_count": null,
   "id": "d356c47a-9fb8-43a6-a4d7-37a7c0c9e82a",
   "metadata": {},
   "outputs": [],
   "source": [
    "df_set.drop('launch_exit', axis=1, inplace=True)"
   ]
  },
  {
   "cell_type": "code",
   "execution_count": null,
   "id": "da09bb60-6f59-405f-8838-1c3cb6a25aa6",
   "metadata": {},
   "outputs": [],
   "source": [
    "# need to plit the minifigs column into total and unique\n",
    "df_set[['minifigs_total', 'minifigs_unique']] = df_set['minifigs'].str.split(' ', n=1, expand=True)"
   ]
  },
  {
   "cell_type": "code",
   "execution_count": null,
   "id": "e0f74f95-c51c-4bc0-b5d6-0ac218f39ac7",
   "metadata": {},
   "outputs": [],
   "source": [
    "# parse the minifig value from minifigs_unique\n",
    "df_set['minifigs_unique'] = df_set['minifigs_unique'].str.split(' ', n=1).str[0].str.replace('(', '', regex=True)"
   ]
  },
  {
   "cell_type": "code",
   "execution_count": null,
   "id": "ba1d7413-e9e9-49b7-8858-8264a8ac67da",
   "metadata": {},
   "outputs": [],
   "source": [
    "df_set.drop('minifigs', axis=1, inplace=True)"
   ]
  },
  {
   "cell_type": "code",
   "execution_count": null,
   "id": "28f04852-b4fd-4462-a137-9cd950211e14",
   "metadata": {},
   "outputs": [],
   "source": [
    "# parse rating column to get the text after the stars, this grabs non numeric values for rows with no rating\n",
    "df_set['rating'] = df_set['rating'].str.split(' ', n=2).str[1].str.strip()"
   ]
  },
  {
   "cell_type": "code",
   "execution_count": null,
   "id": "396d7887-213b-46a6-9194-f1cb1a0260fa",
   "metadata": {},
   "outputs": [],
   "source": [
    "# a good way to replace non-numeric rows is to_numeric method, must use coerce to force NaN values for non-numerics\n",
    "df_set['rating'] = pd.to_numeric(df_set['rating'], errors='coerce')"
   ]
  },
  {
   "cell_type": "code",
   "execution_count": null,
   "id": "821e92b2-8d56-4d05-8890-4013773ba544",
   "metadata": {},
   "outputs": [],
   "source": [
    "# change launch retirement date columns to date\n",
    "# first need to remove spaces\n",
    "df_set['launch_date'] = df_set['launch_date'].str.replace(' ', '')\n",
    "df_set['launch_date'] = pd.to_datetime(df_set['launch_date'], format='%d%b%Y', errors='coerce')"
   ]
  },
  {
   "cell_type": "code",
   "execution_count": null,
   "id": "588760cb-948a-4d4d-9de8-d561a21f0420",
   "metadata": {},
   "outputs": [],
   "source": [
    "# had some t.b.a text for some rows, they threw an error, added errors=coerce and seemed to fix it\n",
    "df_set['retirement_date'] = df_set['retirement_date'].str.replace(' ', '')\n",
    "df_set['retirement_date'] = pd.to_datetime(df_set['retirement_date'], format='%d%b%Y', errors='coerce')"
   ]
  },
  {
   "cell_type": "code",
   "execution_count": null,
   "id": "2c20e8d2-912d-4b72-b64f-e54cc2e8796f",
   "metadata": {},
   "outputs": [],
   "source": [
    "# clean up msrp column and grab USD values only - drop pounds and euro values if present\n",
    "# use regex to extract everything after the $, the dot, and the remaining digits\n",
    "# REGEX sucks. But remember to use regex101.com, it's a life saver\n",
    "df_set['msrp'] = df_set['msrp'].str.extract(r\"\\$(\\d+\\.\\d+)\")"
   ]
  },
  {
   "cell_type": "code",
   "execution_count": null,
   "id": "08311c27-9f31-41e7-a52a-a8dad9348219",
   "metadata": {},
   "outputs": [],
   "source": [
    "# if launch_date is empty add the value from year released date column, \n",
    "df_set['launch_date'] = df_set['launch_date'].fillna(df_set['year_released'])\n",
    "# very cool, it added jan 1 to the year automatically."
   ]
  },
  {
   "cell_type": "code",
   "execution_count": null,
   "id": "f2664d39-5eb0-4f01-bea6-dfdbde50b63a",
   "metadata": {},
   "outputs": [],
   "source": [
    "df_set['year_released'] = df_set['year_released'].astype(int)"
   ]
  },
  {
   "cell_type": "code",
   "execution_count": null,
   "id": "59af894a-a0c7-4b38-9005-70ccebd2ea33",
   "metadata": {},
   "outputs": [],
   "source": [
    "df_set['msrp'] = df_set['msrp'].astype(float)"
   ]
  },
  {
   "cell_type": "code",
   "execution_count": null,
   "id": "a32ac3ed-0b41-43fa-93a8-9ade303781f9",
   "metadata": {},
   "outputs": [],
   "source": [
    "df_set['minifigs_total'] = df_set['minifigs_total'].astype(float)\n",
    "df_set['minifigs_unique'] = df_set['minifigs_unique'].astype(float)"
   ]
  },
  {
   "cell_type": "code",
   "execution_count": null,
   "id": "d7a66251-5d24-4032-9e2d-fa30d9a5181f",
   "metadata": {},
   "outputs": [],
   "source": [
    "df_set.dtypes"
   ]
  },
  {
   "cell_type": "code",
   "execution_count": null,
   "id": "7bcb77eb-a741-4dfe-848d-0cc18128095d",
   "metadata": {},
   "outputs": [],
   "source": [
    "df_set.sort_values(by=['msrp'])"
   ]
  },
  {
   "cell_type": "code",
   "execution_count": null,
   "id": "6c68dfe6-eb7c-4e4e-9970-93de39e99c59",
   "metadata": {},
   "outputs": [],
   "source": []
  }
 ],
 "metadata": {
  "kernelspec": {
   "display_name": "Python 3 (ipykernel)",
   "language": "python",
   "name": "python3"
  },
  "language_info": {
   "codemirror_mode": {
    "name": "ipython",
    "version": 3
   },
   "file_extension": ".py",
   "mimetype": "text/x-python",
   "name": "python",
   "nbconvert_exporter": "python",
   "pygments_lexer": "ipython3",
   "version": "3.8.12"
  }
 },
 "nbformat": 4,
 "nbformat_minor": 5
}
