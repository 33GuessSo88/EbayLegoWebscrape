{
 "cells": [
  {
   "cell_type": "markdown",
   "id": "c083cdd4",
   "metadata": {},
   "source": [
    "# Lego Ebay Project"
   ]
  },
  {
   "cell_type": "code",
   "execution_count": 1,
   "id": "ec4427e4-5b86-4acb-ab51-a16a949df422",
   "metadata": {},
   "outputs": [],
   "source": [
    "import pandas as pd\n",
    "import numpy as np\n",
    "import sqlite3 as sql\n",
    "import matplotlib.pyplot as plt\n",
    "import datetime\n",
    "import scipy.stats as stats\n",
    "%matplotlib inline"
   ]
  },
  {
   "cell_type": "markdown",
   "id": "10311682-291a-4e05-90be-cb6a5fd8a343",
   "metadata": {
    "tags": []
   },
   "source": [
    "# **********   INJEST   **********\n",
    "Create a connection to the database and save SQL queries as variables"
   ]
  },
  {
   "cell_type": "code",
   "execution_count": 2,
   "id": "ed600996-7d01-427e-acc2-4e13e739343c",
   "metadata": {},
   "outputs": [],
   "source": [
    "# Create connection to database\n",
    "database = \"C:\\\\Users\\\\zubaz\\\\Documents\\\\Python\\\\EbayLegoWebscrape\\\\lego.db\"\n",
    "connection = sql.connect(database)"
   ]
  },
  {
   "cell_type": "code",
   "execution_count": 3,
   "id": "eaa11ded-1896-460a-a34b-c09b0eb5b458",
   "metadata": {},
   "outputs": [],
   "source": [
    "# 2 queries for 2 tables, one with price data, one with set metadata\n",
    "query1 = '''SELECT item_num, set_num, date, price\n",
    "            FROM ebay_prices'''\n",
    "query2 = '''SELECT * FROM set_details'''"
   ]
  },
  {
   "cell_type": "markdown",
   "id": "df6991f4-65d8-45f9-a28a-1bb34608324b",
   "metadata": {
    "tags": []
   },
   "source": [
    "### Create dataframe for query1\n",
    "This dataframe contains the ebay prices data"
   ]
  },
  {
   "cell_type": "code",
   "execution_count": 4,
   "id": "b170d110-226f-4440-b214-f4a9b5565fe9",
   "metadata": {},
   "outputs": [],
   "source": [
    "df = pd.read_sql_query(query1, connection)"
   ]
  },
  {
   "cell_type": "code",
   "execution_count": 5,
   "id": "39b9dbed",
   "metadata": {},
   "outputs": [
    {
     "data": {
      "text/html": [
       "<div>\n",
       "<style scoped>\n",
       "    .dataframe tbody tr th:only-of-type {\n",
       "        vertical-align: middle;\n",
       "    }\n",
       "\n",
       "    .dataframe tbody tr th {\n",
       "        vertical-align: top;\n",
       "    }\n",
       "\n",
       "    .dataframe thead th {\n",
       "        text-align: right;\n",
       "    }\n",
       "</style>\n",
       "<table border=\"1\" class=\"dataframe\">\n",
       "  <thead>\n",
       "    <tr style=\"text-align: right;\">\n",
       "      <th></th>\n",
       "      <th>item_num</th>\n",
       "      <th>set_num</th>\n",
       "      <th>date</th>\n",
       "      <th>price</th>\n",
       "    </tr>\n",
       "  </thead>\n",
       "  <tbody>\n",
       "    <tr>\n",
       "      <th>0</th>\n",
       "      <td>123456</td>\n",
       "      <td>10256</td>\n",
       "      <td>02-01-2022</td>\n",
       "      <td>20.0</td>\n",
       "    </tr>\n",
       "    <tr>\n",
       "      <th>1</th>\n",
       "      <td>111440626278</td>\n",
       "      <td>70147</td>\n",
       "      <td>01-07-2022</td>\n",
       "      <td>158.99</td>\n",
       "    </tr>\n",
       "    <tr>\n",
       "      <th>2</th>\n",
       "      <td>111567758032</td>\n",
       "      <td>70222</td>\n",
       "      <td>01-07-2022</td>\n",
       "      <td>119.99</td>\n",
       "    </tr>\n",
       "    <tr>\n",
       "      <th>3</th>\n",
       "      <td>111567758519</td>\n",
       "      <td>70223</td>\n",
       "      <td>01-07-2022</td>\n",
       "      <td>184.98</td>\n",
       "    </tr>\n",
       "    <tr>\n",
       "      <th>4</th>\n",
       "      <td>111567807708</td>\n",
       "      <td>41052</td>\n",
       "      <td>01-07-2022</td>\n",
       "      <td>185.98</td>\n",
       "    </tr>\n",
       "  </tbody>\n",
       "</table>\n",
       "</div>"
      ],
      "text/plain": [
       "       item_num set_num        date   price\n",
       "0        123456   10256  02-01-2022    20.0\n",
       "1  111440626278   70147  01-07-2022  158.99\n",
       "2  111567758032   70222  01-07-2022  119.99\n",
       "3  111567758519   70223  01-07-2022  184.98\n",
       "4  111567807708   41052  01-07-2022  185.98"
      ]
     },
     "execution_count": 5,
     "metadata": {},
     "output_type": "execute_result"
    }
   ],
   "source": [
    "df.head()"
   ]
  },
  {
   "cell_type": "code",
   "execution_count": 6,
   "id": "dee50c08-2f7b-4705-9705-4d78ce4f4192",
   "metadata": {},
   "outputs": [
    {
     "name": "stdout",
     "output_type": "stream",
     "text": [
      "<class 'pandas.core.frame.DataFrame'>\n",
      "RangeIndex: 102098 entries, 0 to 102097\n",
      "Data columns (total 4 columns):\n",
      " #   Column    Non-Null Count   Dtype \n",
      "---  ------    --------------   ----- \n",
      " 0   item_num  102098 non-null  int64 \n",
      " 1   set_num   102098 non-null  object\n",
      " 2   date      102098 non-null  object\n",
      " 3   price     102098 non-null  object\n",
      "dtypes: int64(1), object(3)\n",
      "memory usage: 3.1+ MB\n"
     ]
    }
   ],
   "source": [
    "df.info()"
   ]
  },
  {
   "cell_type": "markdown",
   "id": "4218057e-b1ea-4ab1-9419-6a6c41376ba7",
   "metadata": {},
   "source": [
    "### Create a dataframe for query2\n",
    "This dataframe contains the set dimension data"
   ]
  },
  {
   "cell_type": "code",
   "execution_count": 7,
   "id": "f2256680-7b74-4035-9782-c89be319e4e3",
   "metadata": {},
   "outputs": [
    {
     "data": {
      "text/html": [
       "<div>\n",
       "<style scoped>\n",
       "    .dataframe tbody tr th:only-of-type {\n",
       "        vertical-align: middle;\n",
       "    }\n",
       "\n",
       "    .dataframe tbody tr th {\n",
       "        vertical-align: top;\n",
       "    }\n",
       "\n",
       "    .dataframe thead th {\n",
       "        text-align: right;\n",
       "    }\n",
       "</style>\n",
       "<table border=\"1\" class=\"dataframe\">\n",
       "  <thead>\n",
       "    <tr style=\"text-align: right;\">\n",
       "      <th></th>\n",
       "      <th>set_num</th>\n",
       "      <th>set_name</th>\n",
       "      <th>theme_group</th>\n",
       "      <th>theme</th>\n",
       "      <th>subtheme</th>\n",
       "      <th>year_released</th>\n",
       "      <th>launch_exit</th>\n",
       "      <th>pieces</th>\n",
       "      <th>minifigs</th>\n",
       "      <th>designer</th>\n",
       "      <th>msrp</th>\n",
       "      <th>age_range</th>\n",
       "      <th>packaging</th>\n",
       "      <th>availability</th>\n",
       "      <th>rating</th>\n",
       "    </tr>\n",
       "  </thead>\n",
       "  <tbody>\n",
       "    <tr>\n",
       "      <th>0</th>\n",
       "      <td>60009-1</td>\n",
       "      <td>Helicopter Arrest</td>\n",
       "      <td>Modern day</td>\n",
       "      <td>City</td>\n",
       "      <td>Police</td>\n",
       "      <td>2013</td>\n",
       "      <td>None</td>\n",
       "      <td>352.0</td>\n",
       "      <td>5</td>\n",
       "      <td>Henrik Andersen</td>\n",
       "      <td>£39.99 / $49.99</td>\n",
       "      <td>5 - 12</td>\n",
       "      <td>Box</td>\n",
       "      <td>Retail - limited</td>\n",
       "      <td>✭✭✭✭✩ 3.8 52 ratings</td>\n",
       "    </tr>\n",
       "    <tr>\n",
       "      <th>1</th>\n",
       "      <td>60012-1</td>\n",
       "      <td>Coast Guard 4x4 &amp; Diving Boat</td>\n",
       "      <td>Modern day</td>\n",
       "      <td>City</td>\n",
       "      <td>Coast Guard</td>\n",
       "      <td>2013</td>\n",
       "      <td>01 Jun 2013 - 31 Jul 2015</td>\n",
       "      <td>128.0</td>\n",
       "      <td>2 (2 Unique to this set)</td>\n",
       "      <td>None</td>\n",
       "      <td>£9.99 / $19.99 / 12.99€</td>\n",
       "      <td>5 - 12</td>\n",
       "      <td>Box</td>\n",
       "      <td>Retail</td>\n",
       "      <td>✭✭✭✭✩ 3.8 145 ratings 4 Reviews Official Brick...</td>\n",
       "    </tr>\n",
       "    <tr>\n",
       "      <th>2</th>\n",
       "      <td>75975-1</td>\n",
       "      <td>Watchpoint: Gibraltar</td>\n",
       "      <td>Licensed</td>\n",
       "      <td>Overwatch</td>\n",
       "      <td>None</td>\n",
       "      <td>2019</td>\n",
       "      <td>01 Jan 2019 - 31 Jul 2020</td>\n",
       "      <td>730.0</td>\n",
       "      <td>4 (3 Unique to this set)</td>\n",
       "      <td>Mark Stafford</td>\n",
       "      <td>£79.99 / $89.99 / 87.72€</td>\n",
       "      <td>9+</td>\n",
       "      <td>Box</td>\n",
       "      <td>Retail</td>\n",
       "      <td>✭✭✭✭✩ 3.9 114 ratings 1 Review Official Bricks...</td>\n",
       "    </tr>\n",
       "    <tr>\n",
       "      <th>3</th>\n",
       "      <td>10155-1</td>\n",
       "      <td>Maersk Line Container Ship</td>\n",
       "      <td>Model making</td>\n",
       "      <td>Creator Expert</td>\n",
       "      <td>Maersk</td>\n",
       "      <td>2010</td>\n",
       "      <td>01 Aug 2010 - 31 Jul 2011</td>\n",
       "      <td>990.0</td>\n",
       "      <td>None</td>\n",
       "      <td>None</td>\n",
       "      <td>£102.99 / $119.99</td>\n",
       "      <td>8+</td>\n",
       "      <td>Box</td>\n",
       "      <td>LEGO exclusive</td>\n",
       "      <td>✭✭✭✭✩ 4.1 28 ratings 3 Reviews</td>\n",
       "    </tr>\n",
       "    <tr>\n",
       "      <th>4</th>\n",
       "      <td>10210-1</td>\n",
       "      <td>Imperial Flagship</td>\n",
       "      <td>Model making</td>\n",
       "      <td>Creator Expert</td>\n",
       "      <td>Miscellaneous</td>\n",
       "      <td>2010</td>\n",
       "      <td>01 Jan 2010 - 31 Dec 2011</td>\n",
       "      <td>1664.0</td>\n",
       "      <td>9 (6 Unique to this set)</td>\n",
       "      <td>Raphael Pretesacque</td>\n",
       "      <td>£142.99 / $179.99</td>\n",
       "      <td>14+</td>\n",
       "      <td>Box</td>\n",
       "      <td>Retail - limited</td>\n",
       "      <td>✭✭✭✭✭ 4.6 171 ratings 16 Reviews</td>\n",
       "    </tr>\n",
       "  </tbody>\n",
       "</table>\n",
       "</div>"
      ],
      "text/plain": [
       "   set_num                       set_name   theme_group           theme  \\\n",
       "0  60009-1              Helicopter Arrest    Modern day            City   \n",
       "1  60012-1  Coast Guard 4x4 & Diving Boat    Modern day            City   \n",
       "2  75975-1          Watchpoint: Gibraltar      Licensed       Overwatch   \n",
       "3  10155-1     Maersk Line Container Ship  Model making  Creator Expert   \n",
       "4  10210-1              Imperial Flagship  Model making  Creator Expert   \n",
       "\n",
       "        subtheme year_released                launch_exit  pieces  \\\n",
       "0         Police          2013                       None   352.0   \n",
       "1    Coast Guard          2013  01 Jun 2013 - 31 Jul 2015   128.0   \n",
       "2           None          2019  01 Jan 2019 - 31 Jul 2020   730.0   \n",
       "3         Maersk          2010  01 Aug 2010 - 31 Jul 2011   990.0   \n",
       "4  Miscellaneous          2010  01 Jan 2010 - 31 Dec 2011  1664.0   \n",
       "\n",
       "                   minifigs             designer                      msrp  \\\n",
       "0                         5      Henrik Andersen           £39.99 / $49.99   \n",
       "1  2 (2 Unique to this set)                 None   £9.99 / $19.99 / 12.99€   \n",
       "2  4 (3 Unique to this set)        Mark Stafford  £79.99 / $89.99 / 87.72€   \n",
       "3                      None                 None         £102.99 / $119.99   \n",
       "4  9 (6 Unique to this set)  Raphael Pretesacque         £142.99 / $179.99   \n",
       "\n",
       "  age_range packaging      availability  \\\n",
       "0    5 - 12       Box  Retail - limited   \n",
       "1    5 - 12       Box            Retail   \n",
       "2        9+       Box            Retail   \n",
       "3        8+       Box    LEGO exclusive   \n",
       "4       14+       Box  Retail - limited   \n",
       "\n",
       "                                              rating  \n",
       "0                               ✭✭✭✭✩ 3.8 52 ratings  \n",
       "1  ✭✭✭✭✩ 3.8 145 ratings 4 Reviews Official Brick...  \n",
       "2  ✭✭✭✭✩ 3.9 114 ratings 1 Review Official Bricks...  \n",
       "3                     ✭✭✭✭✩ 4.1 28 ratings 3 Reviews  \n",
       "4                   ✭✭✭✭✭ 4.6 171 ratings 16 Reviews  "
      ]
     },
     "execution_count": 7,
     "metadata": {},
     "output_type": "execute_result"
    }
   ],
   "source": [
    "df_set = pd.read_sql_query(query2, connection)\n",
    "df_set.head()"
   ]
  },
  {
   "cell_type": "code",
   "execution_count": 8,
   "metadata": {},
   "outputs": [
    {
     "name": "stdout",
     "output_type": "stream",
     "text": [
      "<class 'pandas.core.frame.DataFrame'>\n",
      "RangeIndex: 1863 entries, 0 to 1862\n",
      "Data columns (total 15 columns):\n",
      " #   Column         Non-Null Count  Dtype  \n",
      "---  ------         --------------  -----  \n",
      " 0   set_num        1863 non-null   object \n",
      " 1   set_name       1863 non-null   object \n",
      " 2   theme_group    1863 non-null   object \n",
      " 3   theme          1863 non-null   object \n",
      " 4   subtheme       1429 non-null   object \n",
      " 5   year_released  1863 non-null   object \n",
      " 6   launch_exit    1578 non-null   object \n",
      " 7   pieces         1723 non-null   float64\n",
      " 8   minifigs       1392 non-null   object \n",
      " 9   designer       680 non-null    object \n",
      " 10  msrp           1862 non-null   object \n",
      " 11  age_range      1541 non-null   object \n",
      " 12  packaging      1683 non-null   object \n",
      " 13  availability   1597 non-null   object \n",
      " 14  rating         1862 non-null   object \n",
      "dtypes: float64(1), object(14)\n",
      "memory usage: 218.4+ KB\n"
     ]
    }
   ],
   "source": [
    "df_set.info()"
   ]
  },
  {
   "cell_type": "code",
   "execution_count": 9,
   "id": "b87a62dd",
   "metadata": {},
   "outputs": [],
   "source": [
    "# close connection to database\n",
    "connection.close()"
   ]
  },
  {
   "cell_type": "markdown",
   "id": "aea1e16c",
   "metadata": {},
   "source": [
    "Get some basic date and set data"
   ]
  },
  {
   "cell_type": "code",
   "execution_count": 10,
   "id": "d3459308-d765-4b91-9a00-53b906d4aaf3",
   "metadata": {},
   "outputs": [],
   "source": [
    "#change date column from text to datetime\n",
    "df['date'] = pd.to_datetime(df['date'])"
   ]
  },
  {
   "cell_type": "code",
   "execution_count": 11,
   "id": "bb59636e-753a-4913-8917-1256d236da8f",
   "metadata": {},
   "outputs": [
    {
     "name": "stdout",
     "output_type": "stream",
     "text": [
      "Earliest price data: 2022-01-07 00:00:00\n",
      "Latest price data: 2022-03-22 00:00:00\n",
      "Days of data: 74 days 00:00:00\n",
      "Price data for 1936 Lego sets\n",
      "Total rows: 102098\n",
      "Total unique listings: 102098\n"
     ]
    }
   ],
   "source": [
    "# find earliest and latest dates and how many days of data exists\n",
    "oldest_date = df['date'].min()\n",
    "recent_date = df['date'].max()\n",
    "date_difference = recent_date - oldest_date\n",
    "num_of_rows = len(df.index)\n",
    "num_of_sets = len(pd.unique(df['set_num']))\n",
    "num_of_items = len(pd.unique(df['item_num']))\n",
    "\n",
    "print(f'Earliest price data: {oldest_date}')\n",
    "print(f'Latest price data: {recent_date}')\n",
    "print(f'Days of data: {date_difference}')\n",
    "print(f\"Price data for {num_of_sets} Lego sets\")\n",
    "print(f'Total rows: {num_of_rows}')\n",
    "print(f\"Total unique listings: {num_of_items}\")"
   ]
  },
  {
   "cell_type": "markdown",
   "id": "fff340f4-4bbd-47f7-8755-f00f5cd3c0c5",
   "metadata": {},
   "source": [
    "# **********  EXPLORE & CLEAN  **********"
   ]
  },
  {
   "cell_type": "markdown",
   "id": "3be0113b",
   "metadata": {},
   "source": [
    "## Price Dataframe\n",
    "Examine the 'price' column and do some cleaning"
   ]
  },
  {
   "cell_type": "code",
   "execution_count": 12,
   "id": "3010b99b-053a-4c70-9f34-6b2ee11d6a1c",
   "metadata": {},
   "outputs": [
    {
     "data": {
      "text/plain": [
       "False"
      ]
     },
     "execution_count": 12,
     "metadata": {},
     "output_type": "execute_result"
    }
   ],
   "source": [
    "# Check if all values in price column are integers\n",
    "all(x.is_integer() for x in df['price'])"
   ]
  },
  {
   "cell_type": "code",
   "execution_count": 13,
   "id": "5d69cd7a-5186-46ee-8dc0-aa8d18a01e18",
   "metadata": {},
   "outputs": [
    {
     "name": "stdout",
     "output_type": "stream",
     "text": [
      "            item_num set_num       date            price\n",
      "30      112575971218   75523 2022-01-19  25.79 to 135.81\n",
      "42      112919829075   41231 2022-02-23    4.98 to 16.59\n",
      "43      112939172066   10235 2022-02-06     3.29 to 4.98\n",
      "44      113052454430   60153 2022-03-07     4.39 to 5.98\n",
      "49      113301537932   10695 2022-01-21  16.37 to 122.89\n",
      "...              ...     ...        ...              ...\n",
      "100897  403415685071   10251 2022-01-22         1,286.32\n",
      "100971  403424279876   21137 2022-01-22         1,749.99\n",
      "101163  403443532968   10251 2022-02-06         1,081.17\n",
      "101580  403496025853   70618 2022-02-24         2,000.00\n",
      "101969  403538479899   10294 2022-03-15         1,000.00\n",
      "\n",
      "[772 rows x 4 columns]\n"
     ]
    }
   ],
   "source": [
    "print(df[pd.to_numeric(df['price'], errors='coerce').isnull()])"
   ]
  },
  {
   "cell_type": "code",
   "execution_count": 14,
   "id": "002bb4b5-fb7f-44b9-a996-7309b1bda54d",
   "metadata": {},
   "outputs": [],
   "source": [
    "# looks like the commas are bad, let's replace commas with nothing\n",
    "df['price'] = df['price'].replace(',','', regex=True)"
   ]
  },
  {
   "cell_type": "code",
   "execution_count": 15,
   "id": "9e69ed67-f24f-49aa-8fa6-2a5155b5b009",
   "metadata": {},
   "outputs": [],
   "source": [
    "# check to see what the rest of the non numeric values look like\n",
    "# print(df['price'] [pd.to_numeric(df['price'], errors='coerce').isnull()])"
   ]
  },
  {
   "cell_type": "code",
   "execution_count": 16,
   "id": "09393d11-d9d1-44a9-bc10-f78afb86649b",
   "metadata": {},
   "outputs": [
    {
     "data": {
      "text/plain": [
       "(102098, 4)"
      ]
     },
     "execution_count": 16,
     "metadata": {},
     "output_type": "execute_result"
    }
   ],
   "source": [
    "df.shape"
   ]
  },
  {
   "cell_type": "code",
   "execution_count": 17,
   "id": "10819568-01a3-468c-9702-6eac25573953",
   "metadata": {},
   "outputs": [
    {
     "name": "stdout",
     "output_type": "stream",
     "text": [
      "Int64Index([   30,    42,    43,    44,    49,   115,   131,  4322,  4338,\n",
      "             4344,\n",
      "            ...\n",
      "            80026, 80041, 83615, 91613, 91615, 91616, 91617, 91948, 94487,\n",
      "            94491],\n",
      "           dtype='int64', length=105)\n"
     ]
    }
   ],
   "source": [
    "# find the index of rows with 'to' in them\n",
    "# these values are too hard to deal with, probably not representative listings\n",
    "remove_rows = df[df['price'].str.contains(\"to\") == True].index\n",
    "\n",
    "print(remove_rows)"
   ]
  },
  {
   "cell_type": "code",
   "execution_count": 18,
   "id": "483a5366-8a3e-424a-b481-13368ed98043",
   "metadata": {},
   "outputs": [
    {
     "data": {
      "text/plain": [
       "(101993, 4)"
      ]
     },
     "execution_count": 18,
     "metadata": {},
     "output_type": "execute_result"
    }
   ],
   "source": [
    "# remove these rows\n",
    "df.drop(remove_rows, inplace=True)\n",
    "df.shape"
   ]
  },
  {
   "cell_type": "code",
   "execution_count": 19,
   "id": "f4d8b64a-89e3-4686-b9fc-095073ffa060",
   "metadata": {},
   "outputs": [
    {
     "name": "stdout",
     "output_type": "stream",
     "text": [
      "           item_num set_num       date       price\n",
      "4748   124363674943   75828 2022-03-14   AU 189.99\n",
      "11331  134013007163   10229 2022-03-07  GBP 353.27\n",
      "12219  134041978929   75042 2022-03-04   GBP 40.00\n",
      "12220  134042010356   75042 2022-03-04   GBP 35.00\n",
      "12228  134042241968   21146 2022-03-04  EUR 320.22\n",
      "12237  134042440562   75042 2022-03-04   GBP 25.00\n",
      "12932  143686166949   10760 2022-03-14   EUR 34.99\n",
      "16279  153758043579   10760 2022-03-14   EUR 34.99\n",
      "29584  184057069459   10760 2022-03-14   EUR 27.95\n",
      "30755  185182410200   10760 2022-03-14   EUR 49.99\n",
      "33739  193414589158   42108 2022-03-14   AU 250.00\n",
      "34040  193904131315   10760 2022-03-14    AU 94.99\n",
      "43784  224806801000   42108 2022-03-14    EUR 8.90\n",
      "45631  224884348131   75828 2022-03-14  EUR 119.00\n",
      "45953  232017437466   75828 2022-03-14   GBP 24.99\n",
      "49975  254382734541   10760 2022-03-14   EUR 44.44\n",
      "50005  254486995919   75828 2022-03-14  EUR 166.66\n",
      "50209  254753688791   42108 2022-03-14  EUR 155.55\n",
      "50266  254789090411   75828 2022-03-14  EUR 933.33\n",
      "51813  255279815227   42108 2022-03-14  EUR 134.95\n",
      "52658  255341315391   10760 2022-03-14   EUR 57.90\n",
      "54708  255434430715   42037 2022-03-14  GBP 107.48\n",
      "54715  255434432877   42037 2022-03-14   GBP 89.48\n",
      "55801  265214482547   10760 2022-03-14   GBP 39.99\n",
      "56601  265438287183   75828 2022-03-14    C 179.00\n",
      "59410  265595696183   70677 2022-03-15  GBP 137.00\n",
      "63256  275189958745   60132 2022-03-03   GBP 89.95\n",
      "68567  284676598902   10246 2022-03-06  GBP 109.99\n",
      "69584  293318228300   42108 2022-03-14    EUR 1.79\n",
      "69653  293463326895   42108 2022-03-14    EUR 1.29\n",
      "69670  293530040661   42108 2022-03-14   EUR 16.70\n",
      "70024  293942654403   42108 2022-03-14    EUR 2.19\n",
      "70025  293945592987   42108 2022-03-14    EUR 2.69\n",
      "70115  294024416032   42108 2022-03-14    EUR 2.35\n",
      "70170  294062927272   75828 2022-03-14    EUR 1.69\n",
      "70423  294370538319   42108 2022-03-14    EUR 3.39\n",
      "70434  294379413270   42108 2022-03-14    EUR 1.45\n",
      "71515  294726461996   75828 2022-03-14    EUR 1.65\n",
      "72876  294862674811   21039 2022-03-14    C 139.00\n",
      "73381  303897724542   10760 2022-03-14   EUR 46.00\n",
      "75797  304370325642   42108 2022-03-14  EUR 129.90\n",
      "83563  332705819590   10760 2022-03-14    EUR 8.99\n",
      "86052  334325404970   75828 2022-03-14  EUR 129.90\n",
      "91255  363746879895   10246 2022-03-06  GBP 449.95\n",
      "91667  373063234331   75828 2022-03-14  AU 1595.00\n",
      "91898  373559101625   42108 2022-03-14      C 1.00\n",
      "96464  384760965057   10246 2022-03-06  GBP 399.99\n",
      "96604  384770802227   10760 2022-03-14   GBP 10.00\n"
     ]
    }
   ],
   "source": [
    "print(df[pd.to_numeric(df['price'], errors='coerce').isnull()])"
   ]
  },
  {
   "cell_type": "code",
   "execution_count": 20,
   "id": "5907625c",
   "metadata": {},
   "outputs": [
    {
     "data": {
      "text/html": [
       "<div>\n",
       "<style scoped>\n",
       "    .dataframe tbody tr th:only-of-type {\n",
       "        vertical-align: middle;\n",
       "    }\n",
       "\n",
       "    .dataframe tbody tr th {\n",
       "        vertical-align: top;\n",
       "    }\n",
       "\n",
       "    .dataframe thead th {\n",
       "        text-align: right;\n",
       "    }\n",
       "</style>\n",
       "<table border=\"1\" class=\"dataframe\">\n",
       "  <thead>\n",
       "    <tr style=\"text-align: right;\">\n",
       "      <th></th>\n",
       "      <th>item_num</th>\n",
       "      <th>set_num</th>\n",
       "      <th>date</th>\n",
       "      <th>price</th>\n",
       "    </tr>\n",
       "  </thead>\n",
       "  <tbody>\n",
       "    <tr>\n",
       "      <th>0</th>\n",
       "      <td>123456</td>\n",
       "      <td>10256</td>\n",
       "      <td>2022-02-01</td>\n",
       "      <td>20.0</td>\n",
       "    </tr>\n",
       "    <tr>\n",
       "      <th>1</th>\n",
       "      <td>111440626278</td>\n",
       "      <td>70147</td>\n",
       "      <td>2022-01-07</td>\n",
       "      <td>158.99</td>\n",
       "    </tr>\n",
       "    <tr>\n",
       "      <th>2</th>\n",
       "      <td>111567758032</td>\n",
       "      <td>70222</td>\n",
       "      <td>2022-01-07</td>\n",
       "      <td>119.99</td>\n",
       "    </tr>\n",
       "    <tr>\n",
       "      <th>3</th>\n",
       "      <td>111567758519</td>\n",
       "      <td>70223</td>\n",
       "      <td>2022-01-07</td>\n",
       "      <td>184.98</td>\n",
       "    </tr>\n",
       "    <tr>\n",
       "      <th>4</th>\n",
       "      <td>111567807708</td>\n",
       "      <td>41052</td>\n",
       "      <td>2022-01-07</td>\n",
       "      <td>185.98</td>\n",
       "    </tr>\n",
       "  </tbody>\n",
       "</table>\n",
       "</div>"
      ],
      "text/plain": [
       "       item_num set_num       date   price\n",
       "0        123456   10256 2022-02-01    20.0\n",
       "1  111440626278   70147 2022-01-07  158.99\n",
       "2  111567758032   70222 2022-01-07  119.99\n",
       "3  111567758519   70223 2022-01-07  184.98\n",
       "4  111567807708   41052 2022-01-07  185.98"
      ]
     },
     "execution_count": 20,
     "metadata": {},
     "output_type": "execute_result"
    }
   ],
   "source": [
    "# there is a problem with my scraping, it's collecting GBP and EUR values\n",
    "# I will need to check on this, for now just filter non-digit rows out\n",
    "df = df[pd.to_numeric(df['price'], errors='coerce').notnull()]\n",
    "df.head()"
   ]
  },
  {
   "cell_type": "code",
   "execution_count": 21,
   "id": "814797ca-ff03-44b7-869a-382b99a29134",
   "metadata": {},
   "outputs": [
    {
     "data": {
      "text/plain": [
       "True"
      ]
     },
     "execution_count": 21,
     "metadata": {},
     "output_type": "execute_result"
    }
   ],
   "source": [
    "# checks price column to make sure all rows are numeric\n",
    "pd.to_numeric(df['price'], errors='coerce').notnull().all()"
   ]
  },
  {
   "cell_type": "code",
   "execution_count": 22,
   "id": "214f90a5",
   "metadata": {},
   "outputs": [
    {
     "data": {
      "text/plain": [
       "(101945, 4)"
      ]
     },
     "execution_count": 22,
     "metadata": {},
     "output_type": "execute_result"
    }
   ],
   "source": [
    "df.shape"
   ]
  },
  {
   "cell_type": "code",
   "execution_count": 23,
   "id": "8e8ec799-2cdf-48a4-9bb4-6a1a21add39e",
   "metadata": {},
   "outputs": [
    {
     "data": {
      "text/plain": [
       "item_num             int64\n",
       "set_num             object\n",
       "date        datetime64[ns]\n",
       "price               object\n",
       "dtype: object"
      ]
     },
     "execution_count": 23,
     "metadata": {},
     "output_type": "execute_result"
    }
   ],
   "source": [
    "df.dtypes"
   ]
  },
  {
   "cell_type": "code",
   "execution_count": 24,
   "id": "f54a6eb7-bdff-4083-8dd8-261f5e933d24",
   "metadata": {},
   "outputs": [],
   "source": [
    "# now that all rows in price column are numeric, change column data type to numeric\n",
    "# pandas will pick int64 if there are no decimals, float 64 if decimals are present, which there are\n",
    "df['price'] = pd.to_numeric(df['price'])\n"
   ]
  },
  {
   "cell_type": "markdown",
   "id": "8f8a25cd",
   "metadata": {},
   "source": [
    "## Metadata Dataframe"
   ]
  },
  {
   "cell_type": "code",
   "execution_count": 25,
   "id": "2530b436-1575-4881-a8d9-f3d3196ffb91",
   "metadata": {},
   "outputs": [
    {
     "data": {
      "text/html": [
       "<div>\n",
       "<style scoped>\n",
       "    .dataframe tbody tr th:only-of-type {\n",
       "        vertical-align: middle;\n",
       "    }\n",
       "\n",
       "    .dataframe tbody tr th {\n",
       "        vertical-align: top;\n",
       "    }\n",
       "\n",
       "    .dataframe thead th {\n",
       "        text-align: right;\n",
       "    }\n",
       "</style>\n",
       "<table border=\"1\" class=\"dataframe\">\n",
       "  <thead>\n",
       "    <tr style=\"text-align: right;\">\n",
       "      <th></th>\n",
       "      <th>set_num</th>\n",
       "      <th>set_name</th>\n",
       "      <th>theme_group</th>\n",
       "      <th>theme</th>\n",
       "      <th>subtheme</th>\n",
       "      <th>year_released</th>\n",
       "      <th>launch_exit</th>\n",
       "      <th>pieces</th>\n",
       "      <th>minifigs</th>\n",
       "      <th>designer</th>\n",
       "      <th>msrp</th>\n",
       "      <th>age_range</th>\n",
       "      <th>packaging</th>\n",
       "      <th>availability</th>\n",
       "      <th>rating</th>\n",
       "    </tr>\n",
       "  </thead>\n",
       "  <tbody>\n",
       "    <tr>\n",
       "      <th>0</th>\n",
       "      <td>60009-1</td>\n",
       "      <td>Helicopter Arrest</td>\n",
       "      <td>Modern day</td>\n",
       "      <td>City</td>\n",
       "      <td>Police</td>\n",
       "      <td>2013</td>\n",
       "      <td>None</td>\n",
       "      <td>352.0</td>\n",
       "      <td>5</td>\n",
       "      <td>Henrik Andersen</td>\n",
       "      <td>£39.99 / $49.99</td>\n",
       "      <td>5 - 12</td>\n",
       "      <td>Box</td>\n",
       "      <td>Retail - limited</td>\n",
       "      <td>✭✭✭✭✩ 3.8 52 ratings</td>\n",
       "    </tr>\n",
       "    <tr>\n",
       "      <th>1</th>\n",
       "      <td>60012-1</td>\n",
       "      <td>Coast Guard 4x4 &amp; Diving Boat</td>\n",
       "      <td>Modern day</td>\n",
       "      <td>City</td>\n",
       "      <td>Coast Guard</td>\n",
       "      <td>2013</td>\n",
       "      <td>01 Jun 2013 - 31 Jul 2015</td>\n",
       "      <td>128.0</td>\n",
       "      <td>2 (2 Unique to this set)</td>\n",
       "      <td>None</td>\n",
       "      <td>£9.99 / $19.99 / 12.99€</td>\n",
       "      <td>5 - 12</td>\n",
       "      <td>Box</td>\n",
       "      <td>Retail</td>\n",
       "      <td>✭✭✭✭✩ 3.8 145 ratings 4 Reviews Official Brick...</td>\n",
       "    </tr>\n",
       "    <tr>\n",
       "      <th>2</th>\n",
       "      <td>75975-1</td>\n",
       "      <td>Watchpoint: Gibraltar</td>\n",
       "      <td>Licensed</td>\n",
       "      <td>Overwatch</td>\n",
       "      <td>None</td>\n",
       "      <td>2019</td>\n",
       "      <td>01 Jan 2019 - 31 Jul 2020</td>\n",
       "      <td>730.0</td>\n",
       "      <td>4 (3 Unique to this set)</td>\n",
       "      <td>Mark Stafford</td>\n",
       "      <td>£79.99 / $89.99 / 87.72€</td>\n",
       "      <td>9+</td>\n",
       "      <td>Box</td>\n",
       "      <td>Retail</td>\n",
       "      <td>✭✭✭✭✩ 3.9 114 ratings 1 Review Official Bricks...</td>\n",
       "    </tr>\n",
       "    <tr>\n",
       "      <th>3</th>\n",
       "      <td>10155-1</td>\n",
       "      <td>Maersk Line Container Ship</td>\n",
       "      <td>Model making</td>\n",
       "      <td>Creator Expert</td>\n",
       "      <td>Maersk</td>\n",
       "      <td>2010</td>\n",
       "      <td>01 Aug 2010 - 31 Jul 2011</td>\n",
       "      <td>990.0</td>\n",
       "      <td>None</td>\n",
       "      <td>None</td>\n",
       "      <td>£102.99 / $119.99</td>\n",
       "      <td>8+</td>\n",
       "      <td>Box</td>\n",
       "      <td>LEGO exclusive</td>\n",
       "      <td>✭✭✭✭✩ 4.1 28 ratings 3 Reviews</td>\n",
       "    </tr>\n",
       "    <tr>\n",
       "      <th>4</th>\n",
       "      <td>10210-1</td>\n",
       "      <td>Imperial Flagship</td>\n",
       "      <td>Model making</td>\n",
       "      <td>Creator Expert</td>\n",
       "      <td>Miscellaneous</td>\n",
       "      <td>2010</td>\n",
       "      <td>01 Jan 2010 - 31 Dec 2011</td>\n",
       "      <td>1664.0</td>\n",
       "      <td>9 (6 Unique to this set)</td>\n",
       "      <td>Raphael Pretesacque</td>\n",
       "      <td>£142.99 / $179.99</td>\n",
       "      <td>14+</td>\n",
       "      <td>Box</td>\n",
       "      <td>Retail - limited</td>\n",
       "      <td>✭✭✭✭✭ 4.6 171 ratings 16 Reviews</td>\n",
       "    </tr>\n",
       "  </tbody>\n",
       "</table>\n",
       "</div>"
      ],
      "text/plain": [
       "   set_num                       set_name   theme_group           theme  \\\n",
       "0  60009-1              Helicopter Arrest    Modern day            City   \n",
       "1  60012-1  Coast Guard 4x4 & Diving Boat    Modern day            City   \n",
       "2  75975-1          Watchpoint: Gibraltar      Licensed       Overwatch   \n",
       "3  10155-1     Maersk Line Container Ship  Model making  Creator Expert   \n",
       "4  10210-1              Imperial Flagship  Model making  Creator Expert   \n",
       "\n",
       "        subtheme year_released                launch_exit  pieces  \\\n",
       "0         Police          2013                       None   352.0   \n",
       "1    Coast Guard          2013  01 Jun 2013 - 31 Jul 2015   128.0   \n",
       "2           None          2019  01 Jan 2019 - 31 Jul 2020   730.0   \n",
       "3         Maersk          2010  01 Aug 2010 - 31 Jul 2011   990.0   \n",
       "4  Miscellaneous          2010  01 Jan 2010 - 31 Dec 2011  1664.0   \n",
       "\n",
       "                   minifigs             designer                      msrp  \\\n",
       "0                         5      Henrik Andersen           £39.99 / $49.99   \n",
       "1  2 (2 Unique to this set)                 None   £9.99 / $19.99 / 12.99€   \n",
       "2  4 (3 Unique to this set)        Mark Stafford  £79.99 / $89.99 / 87.72€   \n",
       "3                      None                 None         £102.99 / $119.99   \n",
       "4  9 (6 Unique to this set)  Raphael Pretesacque         £142.99 / $179.99   \n",
       "\n",
       "  age_range packaging      availability  \\\n",
       "0    5 - 12       Box  Retail - limited   \n",
       "1    5 - 12       Box            Retail   \n",
       "2        9+       Box            Retail   \n",
       "3        8+       Box    LEGO exclusive   \n",
       "4       14+       Box  Retail - limited   \n",
       "\n",
       "                                              rating  \n",
       "0                               ✭✭✭✭✩ 3.8 52 ratings  \n",
       "1  ✭✭✭✭✩ 3.8 145 ratings 4 Reviews Official Brick...  \n",
       "2  ✭✭✭✭✩ 3.9 114 ratings 1 Review Official Bricks...  \n",
       "3                     ✭✭✭✭✩ 4.1 28 ratings 3 Reviews  \n",
       "4                   ✭✭✭✭✭ 4.6 171 ratings 16 Reviews  "
      ]
     },
     "execution_count": 25,
     "metadata": {},
     "output_type": "execute_result"
    }
   ],
   "source": [
    "# time to clean the set_details data\n",
    "df_set.head()"
   ]
  },
  {
   "cell_type": "code",
   "execution_count": 26,
   "id": "e48c1a1e",
   "metadata": {},
   "outputs": [
    {
     "data": {
      "text/plain": [
       "(1863, 15)"
      ]
     },
     "execution_count": 26,
     "metadata": {},
     "output_type": "execute_result"
    }
   ],
   "source": [
    "df_set.shape"
   ]
  },
  {
   "cell_type": "code",
   "execution_count": 27,
   "id": "37950b96-21a1-44b8-a8d2-68d4cd479fa8",
   "metadata": {},
   "outputs": [],
   "source": [
    "# remove -1 from set_num\n",
    "df_set['set_num'] = df_set['set_num'].str.split('-', n=1).str[0]"
   ]
  },
  {
   "cell_type": "code",
   "execution_count": 28,
   "id": "6b346fec-e209-423b-b716-23334fba7494",
   "metadata": {},
   "outputs": [],
   "source": [
    "# split launch_exit column into 2 columns\n",
    "df_set[['launch_date', 'retirement_date']] = df_set['launch_exit'].str.split(' - ', expand=True)"
   ]
  },
  {
   "cell_type": "code",
   "execution_count": 29,
   "id": "d356c47a-9fb8-43a6-a4d7-37a7c0c9e82a",
   "metadata": {},
   "outputs": [],
   "source": [
    "df_set.drop('launch_exit', axis=1, inplace=True)"
   ]
  },
  {
   "cell_type": "code",
   "execution_count": 30,
   "id": "da09bb60-6f59-405f-8838-1c3cb6a25aa6",
   "metadata": {},
   "outputs": [],
   "source": [
    "# need to plit the minifigs column into total and unique\n",
    "df_set[['minifigs_total', 'minifigs_unique']] = df_set['minifigs'].str.split(' ', n=1, expand=True)"
   ]
  },
  {
   "cell_type": "code",
   "execution_count": 31,
   "id": "e0f74f95-c51c-4bc0-b5d6-0ac218f39ac7",
   "metadata": {},
   "outputs": [],
   "source": [
    "# parse the minifig value from minifigs_unique\n",
    "df_set['minifigs_unique'] = df_set['minifigs_unique'].str.split(' ', n=1).str[0].str.replace('(', '', regex=True)"
   ]
  },
  {
   "cell_type": "code",
   "execution_count": 32,
   "id": "ba1d7413-e9e9-49b7-8858-8264a8ac67da",
   "metadata": {},
   "outputs": [],
   "source": [
    "df_set.drop('minifigs', axis=1, inplace=True)"
   ]
  },
  {
   "cell_type": "code",
   "execution_count": 33,
   "id": "28f04852-b4fd-4462-a137-9cd950211e14",
   "metadata": {},
   "outputs": [],
   "source": [
    "# parse rating column to get the text after the stars, this grabs non numeric values for rows with no rating\n",
    "df_set['rating'] = df_set['rating'].str.split(' ', n=2).str[1].str.strip()"
   ]
  },
  {
   "cell_type": "code",
   "execution_count": 34,
   "id": "396d7887-213b-46a6-9194-f1cb1a0260fa",
   "metadata": {},
   "outputs": [],
   "source": [
    "# a good way to replace non-numeric rows is to_numeric method, \n",
    "# must use coerce to force NaN values for non-numerics\n",
    "df_set['rating'] = pd.to_numeric(df_set['rating'], errors='coerce')"
   ]
  },
  {
   "cell_type": "code",
   "execution_count": 35,
   "id": "821e92b2-8d56-4d05-8890-4013773ba544",
   "metadata": {},
   "outputs": [],
   "source": [
    "# change launch retirement date columns to date\n",
    "# first need to remove spaces\n",
    "df_set['launch_date'] = df_set['launch_date'].str.replace(' ', '')\n",
    "df_set['launch_date'] = pd.to_datetime(df_set['launch_date'], format='%d%b%Y', errors='coerce')"
   ]
  },
  {
   "cell_type": "code",
   "execution_count": 36,
   "id": "588760cb-948a-4d4d-9de8-d561a21f0420",
   "metadata": {},
   "outputs": [],
   "source": [
    "# had some t.b.a text for some rows, they threw an error, added errors=coerce and seemed to fix it\n",
    "df_set['retirement_date'] = df_set['retirement_date'].str.replace(' ', '')\n",
    "df_set['retirement_date'] = pd.to_datetime(df_set['retirement_date'], format='%d%b%Y', errors='coerce')"
   ]
  },
  {
   "cell_type": "code",
   "execution_count": 37,
   "id": "2c20e8d2-912d-4b72-b64f-e54cc2e8796f",
   "metadata": {},
   "outputs": [],
   "source": [
    "# clean up msrp column and grab USD values only - drop pounds and euro values if present\n",
    "# use regex to extract everything after the $, the dot, and the remaining digits\n",
    "# REGEX sucks. But remember to use regex101.com, it's a life saver\n",
    "df_set['msrp'] = df_set['msrp'].str.extract(r\"\\$(\\d+\\.\\d+)\")"
   ]
  },
  {
   "cell_type": "code",
   "execution_count": 38,
   "id": "08311c27-9f31-41e7-a52a-a8dad9348219",
   "metadata": {},
   "outputs": [],
   "source": [
    "# if launch_date is empty add the value from year released date column, \n",
    "df_set['launch_date'] = df_set['launch_date'].fillna(df_set['year_released'])\n",
    "# very cool, it added jan 1 to the year automatically."
   ]
  },
  {
   "cell_type": "code",
   "execution_count": 39,
   "id": "f2664d39-5eb0-4f01-bea6-dfdbde50b63a",
   "metadata": {},
   "outputs": [],
   "source": [
    "# change some datatypes\n",
    "df_set['year_released'] = df_set['year_released'].astype(int)\n",
    "df_set['msrp'] = df_set['msrp'].astype(float)\n",
    "df_set['minifigs_total'] = df_set['minifigs_total'].astype(float)\n",
    "df_set['minifigs_unique'] = df_set['minifigs_unique'].astype(float)\n",
    "df_set['set_num'] = df_set['set_num'].astype(int)"
   ]
  },
  {
   "cell_type": "code",
   "execution_count": 40,
   "id": "d7a66251-5d24-4032-9e2d-fa30d9a5181f",
   "metadata": {},
   "outputs": [
    {
     "data": {
      "text/plain": [
       "set_num                     int32\n",
       "set_name                   object\n",
       "theme_group                object\n",
       "theme                      object\n",
       "subtheme                   object\n",
       "year_released               int32\n",
       "pieces                    float64\n",
       "designer                   object\n",
       "msrp                      float64\n",
       "age_range                  object\n",
       "packaging                  object\n",
       "availability               object\n",
       "rating                    float64\n",
       "launch_date        datetime64[ns]\n",
       "retirement_date    datetime64[ns]\n",
       "minifigs_total            float64\n",
       "minifigs_unique           float64\n",
       "dtype: object"
      ]
     },
     "execution_count": 40,
     "metadata": {},
     "output_type": "execute_result"
    }
   ],
   "source": [
    "df_set.dtypes"
   ]
  },
  {
   "cell_type": "code",
   "execution_count": 41,
   "id": "e1644318",
   "metadata": {},
   "outputs": [
    {
     "data": {
      "text/plain": [
       "(1863, 17)"
      ]
     },
     "execution_count": 41,
     "metadata": {},
     "output_type": "execute_result"
    }
   ],
   "source": [
    "df_set.shape"
   ]
  },
  {
   "cell_type": "code",
   "execution_count": 42,
   "id": "6c68dfe6-eb7c-4e4e-9970-93de39e99c59",
   "metadata": {},
   "outputs": [
    {
     "data": {
      "text/html": [
       "<div>\n",
       "<style scoped>\n",
       "    .dataframe tbody tr th:only-of-type {\n",
       "        vertical-align: middle;\n",
       "    }\n",
       "\n",
       "    .dataframe tbody tr th {\n",
       "        vertical-align: top;\n",
       "    }\n",
       "\n",
       "    .dataframe thead th {\n",
       "        text-align: right;\n",
       "    }\n",
       "</style>\n",
       "<table border=\"1\" class=\"dataframe\">\n",
       "  <thead>\n",
       "    <tr style=\"text-align: right;\">\n",
       "      <th></th>\n",
       "      <th>set_name</th>\n",
       "      <th>theme_group</th>\n",
       "      <th>theme</th>\n",
       "      <th>subtheme</th>\n",
       "      <th>year_released</th>\n",
       "      <th>pieces</th>\n",
       "      <th>designer</th>\n",
       "      <th>msrp</th>\n",
       "      <th>age_range</th>\n",
       "      <th>packaging</th>\n",
       "      <th>availability</th>\n",
       "      <th>rating</th>\n",
       "      <th>launch_date</th>\n",
       "      <th>retirement_date</th>\n",
       "      <th>minifigs_total</th>\n",
       "      <th>minifigs_unique</th>\n",
       "    </tr>\n",
       "    <tr>\n",
       "      <th>set_num</th>\n",
       "      <th></th>\n",
       "      <th></th>\n",
       "      <th></th>\n",
       "      <th></th>\n",
       "      <th></th>\n",
       "      <th></th>\n",
       "      <th></th>\n",
       "      <th></th>\n",
       "      <th></th>\n",
       "      <th></th>\n",
       "      <th></th>\n",
       "      <th></th>\n",
       "      <th></th>\n",
       "      <th></th>\n",
       "      <th></th>\n",
       "      <th></th>\n",
       "    </tr>\n",
       "  </thead>\n",
       "  <tbody>\n",
       "    <tr>\n",
       "      <th>60009</th>\n",
       "      <td>Helicopter Arrest</td>\n",
       "      <td>Modern day</td>\n",
       "      <td>City</td>\n",
       "      <td>Police</td>\n",
       "      <td>2013</td>\n",
       "      <td>352.0</td>\n",
       "      <td>Henrik Andersen</td>\n",
       "      <td>49.99</td>\n",
       "      <td>5 - 12</td>\n",
       "      <td>Box</td>\n",
       "      <td>Retail - limited</td>\n",
       "      <td>3.8</td>\n",
       "      <td>2013-01-01</td>\n",
       "      <td>NaT</td>\n",
       "      <td>5.0</td>\n",
       "      <td>NaN</td>\n",
       "    </tr>\n",
       "    <tr>\n",
       "      <th>60012</th>\n",
       "      <td>Coast Guard 4x4 &amp; Diving Boat</td>\n",
       "      <td>Modern day</td>\n",
       "      <td>City</td>\n",
       "      <td>Coast Guard</td>\n",
       "      <td>2013</td>\n",
       "      <td>128.0</td>\n",
       "      <td>None</td>\n",
       "      <td>19.99</td>\n",
       "      <td>5 - 12</td>\n",
       "      <td>Box</td>\n",
       "      <td>Retail</td>\n",
       "      <td>3.8</td>\n",
       "      <td>2013-06-01</td>\n",
       "      <td>2015-07-31</td>\n",
       "      <td>2.0</td>\n",
       "      <td>2.0</td>\n",
       "    </tr>\n",
       "    <tr>\n",
       "      <th>75975</th>\n",
       "      <td>Watchpoint: Gibraltar</td>\n",
       "      <td>Licensed</td>\n",
       "      <td>Overwatch</td>\n",
       "      <td>None</td>\n",
       "      <td>2019</td>\n",
       "      <td>730.0</td>\n",
       "      <td>Mark Stafford</td>\n",
       "      <td>89.99</td>\n",
       "      <td>9+</td>\n",
       "      <td>Box</td>\n",
       "      <td>Retail</td>\n",
       "      <td>3.9</td>\n",
       "      <td>2019-01-01</td>\n",
       "      <td>2020-07-31</td>\n",
       "      <td>4.0</td>\n",
       "      <td>3.0</td>\n",
       "    </tr>\n",
       "    <tr>\n",
       "      <th>10155</th>\n",
       "      <td>Maersk Line Container Ship</td>\n",
       "      <td>Model making</td>\n",
       "      <td>Creator Expert</td>\n",
       "      <td>Maersk</td>\n",
       "      <td>2010</td>\n",
       "      <td>990.0</td>\n",
       "      <td>None</td>\n",
       "      <td>119.99</td>\n",
       "      <td>8+</td>\n",
       "      <td>Box</td>\n",
       "      <td>LEGO exclusive</td>\n",
       "      <td>4.1</td>\n",
       "      <td>2010-08-01</td>\n",
       "      <td>2011-07-31</td>\n",
       "      <td>NaN</td>\n",
       "      <td>NaN</td>\n",
       "    </tr>\n",
       "    <tr>\n",
       "      <th>10210</th>\n",
       "      <td>Imperial Flagship</td>\n",
       "      <td>Model making</td>\n",
       "      <td>Creator Expert</td>\n",
       "      <td>Miscellaneous</td>\n",
       "      <td>2010</td>\n",
       "      <td>1664.0</td>\n",
       "      <td>Raphael Pretesacque</td>\n",
       "      <td>179.99</td>\n",
       "      <td>14+</td>\n",
       "      <td>Box</td>\n",
       "      <td>Retail - limited</td>\n",
       "      <td>4.6</td>\n",
       "      <td>2010-01-01</td>\n",
       "      <td>2011-12-31</td>\n",
       "      <td>9.0</td>\n",
       "      <td>6.0</td>\n",
       "    </tr>\n",
       "    <tr>\n",
       "      <th>...</th>\n",
       "      <td>...</td>\n",
       "      <td>...</td>\n",
       "      <td>...</td>\n",
       "      <td>...</td>\n",
       "      <td>...</td>\n",
       "      <td>...</td>\n",
       "      <td>...</td>\n",
       "      <td>...</td>\n",
       "      <td>...</td>\n",
       "      <td>...</td>\n",
       "      <td>...</td>\n",
       "      <td>...</td>\n",
       "      <td>...</td>\n",
       "      <td>...</td>\n",
       "      <td>...</td>\n",
       "      <td>...</td>\n",
       "    </tr>\n",
       "    <tr>\n",
       "      <th>9585</th>\n",
       "      <td>WeDo Resource Set</td>\n",
       "      <td>Educational</td>\n",
       "      <td>Education</td>\n",
       "      <td>None</td>\n",
       "      <td>2011</td>\n",
       "      <td>326.0</td>\n",
       "      <td>None</td>\n",
       "      <td>49.95</td>\n",
       "      <td>7+</td>\n",
       "      <td>Tub</td>\n",
       "      <td>Educational</td>\n",
       "      <td>NaN</td>\n",
       "      <td>2011-01-01</td>\n",
       "      <td>NaT</td>\n",
       "      <td>NaN</td>\n",
       "      <td>NaN</td>\n",
       "    </tr>\n",
       "    <tr>\n",
       "      <th>9594</th>\n",
       "      <td>Green City Challenge Set</td>\n",
       "      <td>Educational</td>\n",
       "      <td>Education</td>\n",
       "      <td>Mindstorms</td>\n",
       "      <td>2011</td>\n",
       "      <td>1365.0</td>\n",
       "      <td>None</td>\n",
       "      <td>174.95</td>\n",
       "      <td>None</td>\n",
       "      <td>None</td>\n",
       "      <td>None</td>\n",
       "      <td>NaN</td>\n",
       "      <td>2011-01-01</td>\n",
       "      <td>NaT</td>\n",
       "      <td>1.0</td>\n",
       "      <td>1.0</td>\n",
       "    </tr>\n",
       "    <tr>\n",
       "      <th>9688</th>\n",
       "      <td>Renewable Energy Add-On Set</td>\n",
       "      <td>Educational</td>\n",
       "      <td>Education</td>\n",
       "      <td>None</td>\n",
       "      <td>2010</td>\n",
       "      <td>12.0</td>\n",
       "      <td>None</td>\n",
       "      <td>99.95</td>\n",
       "      <td>8+</td>\n",
       "      <td>None</td>\n",
       "      <td>None</td>\n",
       "      <td>NaN</td>\n",
       "      <td>2010-08-01</td>\n",
       "      <td>2016-12-31</td>\n",
       "      <td>NaN</td>\n",
       "      <td>NaN</td>\n",
       "    </tr>\n",
       "    <tr>\n",
       "      <th>9695</th>\n",
       "      <td>LEGO Mindstorms Education Resource Set</td>\n",
       "      <td>Educational</td>\n",
       "      <td>Education</td>\n",
       "      <td>Mindstorms</td>\n",
       "      <td>2010</td>\n",
       "      <td>817.0</td>\n",
       "      <td>None</td>\n",
       "      <td>99.95</td>\n",
       "      <td>None</td>\n",
       "      <td>None</td>\n",
       "      <td>None</td>\n",
       "      <td>NaN</td>\n",
       "      <td>2010-01-01</td>\n",
       "      <td>NaT</td>\n",
       "      <td>NaN</td>\n",
       "      <td>NaN</td>\n",
       "    </tr>\n",
       "    <tr>\n",
       "      <th>76905</th>\n",
       "      <td>Ford GT Heritage Edition and Bronco R</td>\n",
       "      <td>Licensed</td>\n",
       "      <td>Speed Champions</td>\n",
       "      <td>Ford</td>\n",
       "      <td>2021</td>\n",
       "      <td>660.0</td>\n",
       "      <td>None</td>\n",
       "      <td>49.99</td>\n",
       "      <td>8+</td>\n",
       "      <td>Box</td>\n",
       "      <td>Retail</td>\n",
       "      <td>4.6</td>\n",
       "      <td>2021-06-01</td>\n",
       "      <td>NaT</td>\n",
       "      <td>2.0</td>\n",
       "      <td>2.0</td>\n",
       "    </tr>\n",
       "  </tbody>\n",
       "</table>\n",
       "<p>1863 rows × 16 columns</p>\n",
       "</div>"
      ],
      "text/plain": [
       "                                       set_name   theme_group  \\\n",
       "set_num                                                         \n",
       "60009                         Helicopter Arrest    Modern day   \n",
       "60012             Coast Guard 4x4 & Diving Boat    Modern day   \n",
       "75975                     Watchpoint: Gibraltar      Licensed   \n",
       "10155                Maersk Line Container Ship  Model making   \n",
       "10210                         Imperial Flagship  Model making   \n",
       "...                                         ...           ...   \n",
       "9585                          WeDo Resource Set   Educational   \n",
       "9594                   Green City Challenge Set   Educational   \n",
       "9688                Renewable Energy Add-On Set   Educational   \n",
       "9695     LEGO Mindstorms Education Resource Set   Educational   \n",
       "76905     Ford GT Heritage Edition and Bronco R      Licensed   \n",
       "\n",
       "                   theme       subtheme  year_released  pieces  \\\n",
       "set_num                                                          \n",
       "60009               City         Police           2013   352.0   \n",
       "60012               City    Coast Guard           2013   128.0   \n",
       "75975          Overwatch           None           2019   730.0   \n",
       "10155     Creator Expert         Maersk           2010   990.0   \n",
       "10210     Creator Expert  Miscellaneous           2010  1664.0   \n",
       "...                  ...            ...            ...     ...   \n",
       "9585           Education           None           2011   326.0   \n",
       "9594           Education     Mindstorms           2011  1365.0   \n",
       "9688           Education           None           2010    12.0   \n",
       "9695           Education     Mindstorms           2010   817.0   \n",
       "76905    Speed Champions           Ford           2021   660.0   \n",
       "\n",
       "                    designer    msrp age_range packaging      availability  \\\n",
       "set_num                                                                      \n",
       "60009        Henrik Andersen   49.99    5 - 12       Box  Retail - limited   \n",
       "60012                   None   19.99    5 - 12       Box            Retail   \n",
       "75975          Mark Stafford   89.99        9+       Box            Retail   \n",
       "10155                   None  119.99        8+       Box    LEGO exclusive   \n",
       "10210    Raphael Pretesacque  179.99       14+       Box  Retail - limited   \n",
       "...                      ...     ...       ...       ...               ...   \n",
       "9585                    None   49.95        7+       Tub       Educational   \n",
       "9594                    None  174.95      None      None              None   \n",
       "9688                    None   99.95        8+      None              None   \n",
       "9695                    None   99.95      None      None              None   \n",
       "76905                   None   49.99        8+       Box            Retail   \n",
       "\n",
       "         rating launch_date retirement_date  minifigs_total  minifigs_unique  \n",
       "set_num                                                                       \n",
       "60009       3.8  2013-01-01             NaT             5.0              NaN  \n",
       "60012       3.8  2013-06-01      2015-07-31             2.0              2.0  \n",
       "75975       3.9  2019-01-01      2020-07-31             4.0              3.0  \n",
       "10155       4.1  2010-08-01      2011-07-31             NaN              NaN  \n",
       "10210       4.6  2010-01-01      2011-12-31             9.0              6.0  \n",
       "...         ...         ...             ...             ...              ...  \n",
       "9585        NaN  2011-01-01             NaT             NaN              NaN  \n",
       "9594        NaN  2011-01-01             NaT             1.0              1.0  \n",
       "9688        NaN  2010-08-01      2016-12-31             NaN              NaN  \n",
       "9695        NaN  2010-01-01             NaT             NaN              NaN  \n",
       "76905       4.6  2021-06-01             NaT             2.0              2.0  \n",
       "\n",
       "[1863 rows x 16 columns]"
      ]
     },
     "execution_count": 42,
     "metadata": {},
     "output_type": "execute_result"
    }
   ],
   "source": [
    "# set the index to set_num, which should be unique\n",
    "df_set.set_index('set_num')"
   ]
  },
  {
   "cell_type": "code",
   "execution_count": 43,
   "id": "70ddc94e",
   "metadata": {},
   "outputs": [
    {
     "data": {
      "text/plain": [
       "True"
      ]
     },
     "execution_count": 43,
     "metadata": {},
     "output_type": "execute_result"
    }
   ],
   "source": [
    "# check for all unique rows in set_num\n",
    "# is_unique method only works for a series, create that first and then check for uniqueness\n",
    "set_num_series = df_set['set_num'].squeeze()\n",
    "set_num_series.is_unique"
   ]
  },
  {
   "cell_type": "code",
   "execution_count": 44,
   "id": "af6d1586",
   "metadata": {},
   "outputs": [],
   "source": [
    "# This is the final form of the set_details data\n",
    "# Therefore we can create a table in db for this which will be the dimension table in pbi\n",
    "\n",
    "database = \"C:\\\\Users\\\\zubaz\\\\Documents\\\\Python\\\\EbayLegoWebscrape\\\\lego.db\"\n",
    "connection = sql.connect(database)\n",
    "\n",
    "df_set.to_sql('set_details_cleaned', connection, if_exists='replace', index=False)\n",
    "# if_exists=replace I don't know what has and hasn't changed, nulls are difficult to update\n",
    "# this is the easiest way to update the whole table.\n",
    "# But it does mean I will need to scrape ALL the set nums from brickset to capture all the changes\n",
    "\n",
    "connection.close()"
   ]
  },
  {
   "cell_type": "markdown",
   "id": "259220b5",
   "metadata": {},
   "source": [
    "Loop through a list of sets and calculate and remove outliers, then groupby and average daily price\n",
    "Create a new data frame that we will use for the rest of the analysis that is now at a daily granularity"
   ]
  },
  {
   "cell_type": "code",
   "execution_count": 45,
   "id": "0f61505c-6d3f-48a4-a510-a5c1b2969816",
   "metadata": {},
   "outputs": [],
   "source": [
    "# create function to remove outliers using IQR method\n",
    "def remove_outliers(dataframe):\n",
    "    \"\"\"\n",
    "    Function to identify and remove outliers from the price column using IQR method\n",
    "\n",
    "    Parameters:\n",
    "    ----------\n",
    "    dataframe : a dataframe\n",
    "\n",
    "    Returns:\n",
    "    --------\n",
    "    dataframe with outliers removed\n",
    "\n",
    "    \"\"\"\n",
    "    try:\n",
    "        Q1 = dataframe['price'].quantile(0.25)\n",
    "        Q3 = dataframe['price'].quantile(0.75)\n",
    "        IQR = Q3 - Q1\n",
    "        lower_lim = Q1 # the 1.5*IQR wasn't catching enough low prices\n",
    "        upper_lim = Q3 + 1.0*IQR # 1.5*IQR was too high for most sets\n",
    "        outliers_15_low = (dataframe['price'] < lower_lim)\n",
    "        outliers_15_high = (dataframe['price'] > upper_lim)\n",
    "        df_outliers_removed = dataframe[~(outliers_15_low | outliers_15_high)]\n",
    "    except:\n",
    "        pass\n",
    "\n",
    "    return df_outliers_removed\n",
    "    \n",
    "    # I could add another parameter for column name to make this more generic\n"
   ]
  },
  {
   "cell_type": "code",
   "execution_count": 46,
   "id": "6506e924",
   "metadata": {},
   "outputs": [],
   "source": [
    "# create list\n",
    "# I can't figure out how to import search_sets.py from another folder.\n",
    "# So I'll just recreate it here\n",
    "\n",
    "\"\"\"Set List Generator\n",
    "\n",
    "This script reads a csv file that contains set numbers\n",
    "and creates a list called search_terms that is used in main\n",
    "to iterate over. Also removes duplicates.\n",
    "\"\"\"\n",
    "\n",
    "\n",
    "def create_search_list():\n",
    "    import csv\n",
    "\n",
    "    search_terms = []\n",
    "    search_file = 'list_of_all_sets.csv'\n",
    "\n",
    "    with open(search_file, newline='') as csvfile:\n",
    "        for row in csv.reader(csvfile):\n",
    "            search_terms.append(row[0])\n",
    "\n",
    "    # Remove duplicates\n",
    "    search_terms = list(dict.fromkeys(search_terms))\n",
    "\n",
    "    # print(search_terms)\n",
    "    return search_terms"
   ]
  },
  {
   "cell_type": "code",
   "execution_count": 47,
   "id": "157a1fb3",
   "metadata": {},
   "outputs": [
    {
     "name": "stdout",
     "output_type": "stream",
     "text": [
      "1966\n",
      "1951\n"
     ]
    }
   ],
   "source": [
    "# I had a major problem with the loop not working, turns out the search_terms \n",
    "# is a list of strings and the df we are looping through has set_num as int\n",
    "# So I cast int to all the value in the for loop below\n",
    "# But this removes the COMCON and other string set numbers, I should change the set_num\n",
    "# back to string and remove it from the index in the above cells.\n",
    "list_of_sets = create_search_list()\n",
    "print(len(list_of_sets))\n",
    "\n",
    "# change all list items to integer\n",
    "new_list = []\n",
    "for value in list_of_sets:\n",
    "    try:\n",
    "        new_list.append(int(value))\n",
    "    except:\n",
    "        pass\n",
    "\n",
    "print(len(new_list))\n"
   ]
  },
  {
   "cell_type": "code",
   "execution_count": 48,
   "id": "d8047e98",
   "metadata": {},
   "outputs": [
    {
     "name": "stdout",
     "output_type": "stream",
     "text": [
      "df shape: (101945, 4)\n",
      "df_no_ouliers_pbi shape: (68969, 4)\n",
      "looped_df shape: (28065, 4)\n"
     ]
    }
   ],
   "source": [
    "# Test list of sets to loop through\n",
    "# test_list = [75827, 75192, 70222, 70223]\n",
    "\n",
    "# create an empty data frame to append each looped df to\n",
    "looped_df = pd.DataFrame()\n",
    "df_no_outliers_pbi = pd.DataFrame()\n",
    "\n",
    "# filter by set num and then perform remove_outliers\n",
    "for set in new_list:\n",
    "    filter = (df['set_num'] == set)\n",
    "    df_filtered = df[filter]\n",
    "    df_no_outliers = remove_outliers(df_filtered)\n",
    "\n",
    "    # create a dataframe for Power BI that has all prices, but no outliers\n",
    "    # perform this BEFORE the groupby so we can do daily analysis later\n",
    "    df_no_outliers_pbi = df_no_outliers_pbi.append(df_no_outliers)\n",
    "    \n",
    "    # calculate ONE average price per day per for each set\n",
    "    # reset index fills down the set_num column, creates a full dataframe\n",
    "    df_filtered_grouped = df_no_outliers.groupby(['set_num', 'date']).mean().reset_index()\n",
    "    looped_df = looped_df.append(df_filtered_grouped)\n",
    "\n",
    "print(f'df shape: {df.shape}')\n",
    "print(f'df_no_ouliers_pbi shape: {df_no_outliers_pbi.shape}')\n",
    "print(f'looped_df shape: {looped_df.shape}')\n"
   ]
  },
  {
   "cell_type": "code",
   "execution_count": 49,
   "id": "bc31da88",
   "metadata": {},
   "outputs": [],
   "source": [
    "# set item_num as index to ensure one price per listing\n",
    "df_no_outliers_pbi = df_no_outliers_pbi.set_index('item_num')\n",
    "# df_no_outliers_pbi.head()"
   ]
  },
  {
   "cell_type": "code",
   "execution_count": 50,
   "id": "1521762d",
   "metadata": {},
   "outputs": [],
   "source": [
    "# write df_no_outliers_pbi to sql for import into Power BI\n",
    "\n",
    "database = \"C:\\\\Users\\\\zubaz\\\\Documents\\\\Python\\\\EbayLegoWebscrape\\\\lego.db\"\n",
    "connection = sql.connect(database)\n",
    "\n",
    "df_no_outliers_pbi.to_sql('ebay_no_outliers_pbi', connection, if_exists='replace', index=True)\n",
    "# if_exists=replace this is the simplest method. With append it was fully writing a copy of\n",
    "# the db every time and doubling the rows.\n",
    "# index=True because I set the item_num as the index\n",
    "\n",
    "connection.close()"
   ]
  },
  {
   "cell_type": "code",
   "execution_count": 51,
   "id": "4e3f3de3",
   "metadata": {},
   "outputs": [
    {
     "data": {
      "text/html": [
       "<div>\n",
       "<style scoped>\n",
       "    .dataframe tbody tr th:only-of-type {\n",
       "        vertical-align: middle;\n",
       "    }\n",
       "\n",
       "    .dataframe tbody tr th {\n",
       "        vertical-align: top;\n",
       "    }\n",
       "\n",
       "    .dataframe thead th {\n",
       "        text-align: right;\n",
       "    }\n",
       "</style>\n",
       "<table border=\"1\" class=\"dataframe\">\n",
       "  <thead>\n",
       "    <tr style=\"text-align: right;\">\n",
       "      <th></th>\n",
       "      <th>set_num</th>\n",
       "      <th>date</th>\n",
       "      <th>item_num</th>\n",
       "      <th>price</th>\n",
       "    </tr>\n",
       "  </thead>\n",
       "  <tbody>\n",
       "    <tr>\n",
       "      <th>0</th>\n",
       "      <td>76905</td>\n",
       "      <td>2022-02-23</td>\n",
       "      <td>262266514257</td>\n",
       "      <td>76.117727</td>\n",
       "    </tr>\n",
       "    <tr>\n",
       "      <th>1</th>\n",
       "      <td>76905</td>\n",
       "      <td>2022-03-04</td>\n",
       "      <td>185323462745</td>\n",
       "      <td>62.990000</td>\n",
       "    </tr>\n",
       "    <tr>\n",
       "      <th>2</th>\n",
       "      <td>76905</td>\n",
       "      <td>2022-03-14</td>\n",
       "      <td>240158237075</td>\n",
       "      <td>59.970000</td>\n",
       "    </tr>\n",
       "    <tr>\n",
       "      <th>3</th>\n",
       "      <td>76905</td>\n",
       "      <td>2022-03-16</td>\n",
       "      <td>165386096803</td>\n",
       "      <td>86.110000</td>\n",
       "    </tr>\n",
       "    <tr>\n",
       "      <th>4</th>\n",
       "      <td>76905</td>\n",
       "      <td>2022-03-21</td>\n",
       "      <td>284704568574</td>\n",
       "      <td>75.050000</td>\n",
       "    </tr>\n",
       "  </tbody>\n",
       "</table>\n",
       "</div>"
      ],
      "text/plain": [
       "  set_num       date      item_num      price\n",
       "0   76905 2022-02-23  262266514257  76.117727\n",
       "1   76905 2022-03-04  185323462745  62.990000\n",
       "2   76905 2022-03-14  240158237075  59.970000\n",
       "3   76905 2022-03-16  165386096803  86.110000\n",
       "4   76905 2022-03-21  284704568574  75.050000"
      ]
     },
     "execution_count": 51,
     "metadata": {},
     "output_type": "execute_result"
    }
   ],
   "source": [
    "# change item_num to int64, for some reason int32 gives scientific notation\n",
    "looped_df['item_num'] = looped_df['item_num'].astype('int64')\n",
    "looped_df.head()"
   ]
  },
  {
   "cell_type": "code",
   "execution_count": 52,
   "id": "1e06e038",
   "metadata": {},
   "outputs": [
    {
     "data": {
      "text/plain": [
       "(28065, 4)"
      ]
     },
     "execution_count": 52,
     "metadata": {},
     "output_type": "execute_result"
    }
   ],
   "source": [
    "looped_df.shape"
   ]
  },
  {
   "cell_type": "markdown",
   "id": "0783204a",
   "metadata": {},
   "source": [
    "### Write clean price data to db\n",
    "Write to database a clean dataset of sales data that is loaded into Power BI for analysis.\n",
    "Much easier to do the clean up and outlier detection in python.\n",
    "Also easier to import from SQLite db into Power BI than do the csv dance."
   ]
  },
  {
   "cell_type": "markdown",
   "id": "54b1db92",
   "metadata": {},
   "source": [
    "# **********  MERGE  **********"
   ]
  },
  {
   "cell_type": "code",
   "execution_count": null,
   "id": "ce85ea58",
   "metadata": {},
   "outputs": [],
   "source": [
    "# check data types before the merge\n",
    "df_set.dtypes"
   ]
  },
  {
   "cell_type": "code",
   "execution_count": null,
   "id": "af7217ab",
   "metadata": {},
   "outputs": [],
   "source": [
    "looped_df['set_num'] = looped_df['set_num'].astype(int)\n",
    "looped_df.dtypes"
   ]
  },
  {
   "cell_type": "code",
   "execution_count": null,
   "id": "a438ec79",
   "metadata": {},
   "outputs": [],
   "source": [
    "# I want all values in the price df and mrsp from set data\n",
    "# this is a left join and we use pandas merge method\n",
    "joined_df = pd.merge(looped_df,\n",
    "                    df_set[['set_num', 'msrp']],\n",
    "                    on = 'set_num',\n",
    "                    how = 'left' \n",
    ")\n",
    "joined_df.head()"
   ]
  },
  {
   "cell_type": "code",
   "execution_count": null,
   "id": "18882f01",
   "metadata": {},
   "outputs": [],
   "source": [
    "# create calculated column of $ of appreciation for every row\n",
    "joined_df['appreciation'] = (joined_df['price'] - joined_df['msrp']).round(2)\n",
    "\n",
    "# create % appreciation calculated column\n",
    "joined_df['pct_appreciation'] = (joined_df['appreciation'] / joined_df['msrp'] * 100).round()\n",
    "\n",
    "joined_df.head()"
   ]
  },
  {
   "cell_type": "code",
   "execution_count": null,
   "id": "82ff64ae",
   "metadata": {},
   "outputs": [],
   "source": [
    "# filter all dates to last 30 days from today\n",
    "today = datetime.datetime.now()\n",
    "days30ago = today - pd.Timedelta(days=30)\n",
    "\n",
    "joined_df = joined_df.loc[joined_df.date > days30ago]"
   ]
  },
  {
   "cell_type": "code",
   "execution_count": null,
   "id": "02d2f7dc",
   "metadata": {},
   "outputs": [],
   "source": [
    "# calculate one % appreciation for each set_num\n",
    "group_df = joined_df[['set_num', 'pct_appreciation']]\n",
    "group_df = group_df.groupby('set_num').mean().reset_index()\n",
    "group_df.head()"
   ]
  },
  {
   "cell_type": "code",
   "execution_count": null,
   "id": "9f0fcd22",
   "metadata": {},
   "outputs": [],
   "source": [
    "# Now I need to merge the grouped % appreciation back into the set metadata df\n",
    "final_df = pd.merge(df_set,\n",
    "                    group_df[['set_num', 'pct_appreciation']],\n",
    "                    on = 'set_num',\n",
    "                    how = 'left' \n",
    ")\n",
    "# selected_rows = final_df[~final_df['pct_appreciation'].isnull()]\n",
    "# selected_rows"
   ]
  },
  {
   "cell_type": "code",
   "execution_count": null,
   "id": "e23ee959",
   "metadata": {},
   "outputs": [],
   "source": [
    "final_df"
   ]
  },
  {
   "cell_type": "code",
   "execution_count": null,
   "id": "51da2168",
   "metadata": {},
   "outputs": [],
   "source": [
    "# save as csv to use in another notebook for playing around with ML\n",
    "final_df.to_csv('final_cleaned_df.csv')"
   ]
  },
  {
   "cell_type": "code",
   "execution_count": null,
   "id": "0b66659f",
   "metadata": {},
   "outputs": [],
   "source": []
  }
 ],
 "metadata": {
  "kernelspec": {
   "display_name": "Python 3 (ipykernel)",
   "language": "python",
   "name": "python3"
  },
  "language_info": {
   "codemirror_mode": {
    "name": "ipython",
    "version": 3
   },
   "file_extension": ".py",
   "mimetype": "text/x-python",
   "name": "python",
   "nbconvert_exporter": "python",
   "pygments_lexer": "ipython3",
   "version": "3.8.12"
  }
 },
 "nbformat": 4,
 "nbformat_minor": 5
}
