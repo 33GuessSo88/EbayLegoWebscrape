{
 "cells": [
  {
   "cell_type": "markdown",
   "id": "c083cdd4",
   "metadata": {},
   "source": [
    "# Lego Ebay Project"
   ]
  },
  {
   "cell_type": "code",
   "execution_count": 22,
   "id": "ec4427e4-5b86-4acb-ab51-a16a949df422",
   "metadata": {},
   "outputs": [],
   "source": [
    "import pandas as pd\n",
    "import numpy as np\n",
    "import sqlite3 as sql\n",
    "import matplotlib.pyplot as plt\n",
    "%matplotlib inline"
   ]
  },
  {
   "cell_type": "markdown",
   "id": "10311682-291a-4e05-90be-cb6a5fd8a343",
   "metadata": {
    "tags": []
   },
   "source": [
    "# **********   INJEST   **********\n",
    "Create a connection to the database and save SQL queries as variables"
   ]
  },
  {
   "cell_type": "code",
   "execution_count": 23,
   "id": "ed600996-7d01-427e-acc2-4e13e739343c",
   "metadata": {},
   "outputs": [],
   "source": [
    "# Create connection to database\n",
    "database = \"C:\\\\Users\\\\zubaz\\\\Documents\\\\Python\\\\EbayLegoWebscrape\\\\lego.db\"\n",
    "connection = sql.connect(database)"
   ]
  },
  {
   "cell_type": "code",
   "execution_count": 24,
   "id": "eaa11ded-1896-460a-a34b-c09b0eb5b458",
   "metadata": {},
   "outputs": [],
   "source": [
    "# 2 queries for 2 tables, one with price data, one with set metadata\n",
    "query1 = '''SELECT set_num, date, price\n",
    "            FROM ebay_prices'''\n",
    "query2 = '''SELECT * FROM set_details'''"
   ]
  },
  {
   "cell_type": "markdown",
   "id": "df6991f4-65d8-45f9-a28a-1bb34608324b",
   "metadata": {
    "tags": []
   },
   "source": [
    "### Create dataframe for query1\n",
    "This dataframe contains the ebay prices data"
   ]
  },
  {
   "cell_type": "code",
   "execution_count": 25,
   "id": "b170d110-226f-4440-b214-f4a9b5565fe9",
   "metadata": {},
   "outputs": [
    {
     "data": {
      "text/html": [
       "<div>\n",
       "<style scoped>\n",
       "    .dataframe tbody tr th:only-of-type {\n",
       "        vertical-align: middle;\n",
       "    }\n",
       "\n",
       "    .dataframe tbody tr th {\n",
       "        vertical-align: top;\n",
       "    }\n",
       "\n",
       "    .dataframe thead th {\n",
       "        text-align: right;\n",
       "    }\n",
       "</style>\n",
       "<table border=\"1\" class=\"dataframe\">\n",
       "  <thead>\n",
       "    <tr style=\"text-align: right;\">\n",
       "      <th></th>\n",
       "      <th>set_num</th>\n",
       "      <th>date</th>\n",
       "      <th>price</th>\n",
       "    </tr>\n",
       "  </thead>\n",
       "  <tbody>\n",
       "    <tr>\n",
       "      <th>0</th>\n",
       "      <td>10256</td>\n",
       "      <td>02-01-2022</td>\n",
       "      <td>20.0</td>\n",
       "    </tr>\n",
       "    <tr>\n",
       "      <th>1</th>\n",
       "      <td>70147</td>\n",
       "      <td>01-07-2022</td>\n",
       "      <td>158.99</td>\n",
       "    </tr>\n",
       "    <tr>\n",
       "      <th>2</th>\n",
       "      <td>70222</td>\n",
       "      <td>01-07-2022</td>\n",
       "      <td>119.99</td>\n",
       "    </tr>\n",
       "    <tr>\n",
       "      <th>3</th>\n",
       "      <td>70223</td>\n",
       "      <td>01-07-2022</td>\n",
       "      <td>184.98</td>\n",
       "    </tr>\n",
       "    <tr>\n",
       "      <th>4</th>\n",
       "      <td>41052</td>\n",
       "      <td>01-07-2022</td>\n",
       "      <td>185.98</td>\n",
       "    </tr>\n",
       "  </tbody>\n",
       "</table>\n",
       "</div>"
      ],
      "text/plain": [
       "  set_num        date   price\n",
       "0   10256  02-01-2022    20.0\n",
       "1   70147  01-07-2022  158.99\n",
       "2   70222  01-07-2022  119.99\n",
       "3   70223  01-07-2022  184.98\n",
       "4   41052  01-07-2022  185.98"
      ]
     },
     "execution_count": 25,
     "metadata": {},
     "output_type": "execute_result"
    }
   ],
   "source": [
    "df = pd.read_sql_query(query1, connection)\n",
    "df.head()"
   ]
  },
  {
   "cell_type": "code",
   "execution_count": 26,
   "id": "dee50c08-2f7b-4705-9705-4d78ce4f4192",
   "metadata": {},
   "outputs": [
    {
     "name": "stdout",
     "output_type": "stream",
     "text": [
      "<class 'pandas.core.frame.DataFrame'>\n",
      "RangeIndex: 64258 entries, 0 to 64257\n",
      "Data columns (total 3 columns):\n",
      " #   Column   Non-Null Count  Dtype \n",
      "---  ------   --------------  ----- \n",
      " 0   set_num  64258 non-null  object\n",
      " 1   date     64258 non-null  object\n",
      " 2   price    64258 non-null  object\n",
      "dtypes: object(3)\n",
      "memory usage: 1.5+ MB\n"
     ]
    }
   ],
   "source": [
    "df.info()"
   ]
  },
  {
   "cell_type": "code",
   "execution_count": 27,
   "id": "20ab0333",
   "metadata": {},
   "outputs": [
    {
     "name": "stdout",
     "output_type": "stream",
     "text": [
      "There is data for 1708 Lego sets\n"
     ]
    }
   ],
   "source": [
    "# find how many unique set_num there are\n",
    "num_of_sets = len(pd.unique(df['set_num']))\n",
    "print(f\"There is data for {num_of_sets} Lego sets\")"
   ]
  },
  {
   "cell_type": "markdown",
   "id": "4218057e-b1ea-4ab1-9419-6a6c41376ba7",
   "metadata": {},
   "source": [
    "### Create a dataframe for query2\n",
    "This dataframe contains the set dimension data"
   ]
  },
  {
   "cell_type": "code",
   "execution_count": 28,
   "id": "f2256680-7b74-4035-9782-c89be319e4e3",
   "metadata": {},
   "outputs": [],
   "source": [
    "df_set = pd.read_sql_query(query2, connection)\n",
    "# df_set.head()"
   ]
  },
  {
   "cell_type": "code",
   "execution_count": 29,
   "id": "d3459308-d765-4b91-9a00-53b906d4aaf3",
   "metadata": {},
   "outputs": [],
   "source": [
    "#change date column from text to datetime\n",
    "df['date'] = pd.to_datetime(df['date'])"
   ]
  },
  {
   "cell_type": "code",
   "execution_count": 30,
   "id": "bb59636e-753a-4913-8917-1256d236da8f",
   "metadata": {},
   "outputs": [
    {
     "name": "stdout",
     "output_type": "stream",
     "text": [
      "2022-01-07 00:00:00\n",
      "2022-02-17 00:00:00\n",
      "41 days 00:00:00\n"
     ]
    }
   ],
   "source": [
    "# find earliest and latest dates and how many days of data exists\n",
    "oldest_date = df['date'].min()\n",
    "recent_date = df['date'].max()\n",
    "date_difference = recent_date - oldest_date\n",
    "print(oldest_date)\n",
    "print(recent_date)\n",
    "print(date_difference)"
   ]
  },
  {
   "cell_type": "markdown",
   "id": "fff340f4-4bbd-47f7-8755-f00f5cd3c0c5",
   "metadata": {},
   "source": [
    "# **********  EXPLORE & CLEAN  **********"
   ]
  },
  {
   "cell_type": "markdown",
   "id": "3be0113b",
   "metadata": {},
   "source": [
    "## Price Dataframe\n",
    "Examine the 'price' column and do some cleaning"
   ]
  },
  {
   "cell_type": "code",
   "execution_count": 31,
   "id": "3010b99b-053a-4c70-9f34-6b2ee11d6a1c",
   "metadata": {},
   "outputs": [
    {
     "data": {
      "text/plain": [
       "False"
      ]
     },
     "execution_count": 31,
     "metadata": {},
     "output_type": "execute_result"
    }
   ],
   "source": [
    "# Check if all values in price column are integers\n",
    "all(x.is_integer() for x in df['price'])"
   ]
  },
  {
   "cell_type": "code",
   "execution_count": 32,
   "id": "5d69cd7a-5186-46ee-8dc0-aa8d18a01e18",
   "metadata": {},
   "outputs": [
    {
     "name": "stdout",
     "output_type": "stream",
     "text": [
      "      set_num       date            price\n",
      "29      75523 2022-01-19  25.79 to 135.81\n",
      "41      10235 2022-02-06     3.29 to 4.98\n",
      "45      10695 2022-01-21  16.37 to 122.89\n",
      "104     21316 2022-01-11    9.89 to 13.89\n",
      "118     70321 2022-02-02  20.25 to 282.98\n",
      "...       ...        ...              ...\n",
      "63490   75827 2022-01-07         1,168.39\n",
      "63742   75192 2022-02-10         1,168.83\n",
      "63787   10251 2022-01-22         1,286.32\n",
      "63851   21137 2022-01-22         1,749.99\n",
      "64017   10251 2022-02-06         1,081.17\n",
      "\n",
      "[483 rows x 3 columns]\n"
     ]
    }
   ],
   "source": [
    "print(df[pd.to_numeric(df['price'], errors='coerce').isnull()])"
   ]
  },
  {
   "cell_type": "code",
   "execution_count": 33,
   "id": "002bb4b5-fb7f-44b9-a996-7309b1bda54d",
   "metadata": {},
   "outputs": [],
   "source": [
    "# looks like the commas are bad, let's replace commas with nothing\n",
    "df['price'] = df['price'].replace(',','', regex=True)"
   ]
  },
  {
   "cell_type": "code",
   "execution_count": 34,
   "id": "9e69ed67-f24f-49aa-8fa6-2a5155b5b009",
   "metadata": {},
   "outputs": [],
   "source": [
    "# check to see what the rest of the non numeric values look like\n",
    "# print(df['price'] [pd.to_numeric(df['price'], errors='coerce').isnull()])"
   ]
  },
  {
   "cell_type": "code",
   "execution_count": 35,
   "id": "09393d11-d9d1-44a9-bc10-f78afb86649b",
   "metadata": {},
   "outputs": [
    {
     "data": {
      "text/plain": [
       "(64258, 3)"
      ]
     },
     "execution_count": 35,
     "metadata": {},
     "output_type": "execute_result"
    }
   ],
   "source": [
    "df.shape"
   ]
  },
  {
   "cell_type": "code",
   "execution_count": 36,
   "id": "10819568-01a3-468c-9702-6eac25573953",
   "metadata": {},
   "outputs": [
    {
     "name": "stdout",
     "output_type": "stream",
     "text": [
      "Int64Index([   29,    41,    45,   104,   118,  2787,  2838,  3108, 10432,\n",
      "            10437, 10536, 10537, 10538, 10539, 10540, 10541, 13288, 13289,\n",
      "            13290, 13291, 16082, 17027, 23569, 23580, 25771, 25878, 28784,\n",
      "            32054, 32740, 34813, 37714, 40537, 44719, 46594, 46599, 48704,\n",
      "            48744, 48751, 48761, 48772, 50257, 50564, 50619, 50622, 50624,\n",
      "            50626, 50628, 50629, 50658, 50716, 50717, 50718, 50719, 50720,\n",
      "            50721, 50722, 50723, 50728, 50729, 50732, 50733, 50734, 50735,\n",
      "            50736, 50737, 50738, 50739, 50740, 50742, 50760, 50773, 52964,\n",
      "            57801, 57803, 57804, 58099, 59667],\n",
      "           dtype='int64')\n"
     ]
    }
   ],
   "source": [
    "# find the index of rows with 'to' in them\n",
    "# these values are too hard to deal with, probably not representative listings\n",
    "remove_rows = df[df['price'].str.contains(\"to\") == True].index\n",
    "\n",
    "print(remove_rows)"
   ]
  },
  {
   "cell_type": "code",
   "execution_count": 37,
   "id": "483a5366-8a3e-424a-b481-13368ed98043",
   "metadata": {},
   "outputs": [],
   "source": [
    "# remove these rows\n",
    "df.drop(remove_rows, inplace=True)"
   ]
  },
  {
   "cell_type": "code",
   "execution_count": 38,
   "id": "3efc7302-a7fd-4c3d-8ccc-c4e05424ff32",
   "metadata": {},
   "outputs": [
    {
     "data": {
      "text/plain": [
       "(64181, 3)"
      ]
     },
     "execution_count": 38,
     "metadata": {},
     "output_type": "execute_result"
    }
   ],
   "source": [
    "df.shape"
   ]
  },
  {
   "cell_type": "code",
   "execution_count": 39,
   "id": "f4d8b64a-89e3-4686-b9fc-095073ffa060",
   "metadata": {},
   "outputs": [
    {
     "name": "stdout",
     "output_type": "stream",
     "text": [
      "Empty DataFrame\n",
      "Columns: [set_num, date, price]\n",
      "Index: []\n"
     ]
    }
   ],
   "source": [
    "print(df[pd.to_numeric(df['price'], errors='coerce').isnull()])"
   ]
  },
  {
   "cell_type": "code",
   "execution_count": 40,
   "id": "814797ca-ff03-44b7-869a-382b99a29134",
   "metadata": {},
   "outputs": [
    {
     "data": {
      "text/plain": [
       "True"
      ]
     },
     "execution_count": 40,
     "metadata": {},
     "output_type": "execute_result"
    }
   ],
   "source": [
    "# checks price column to make sure all rows are numeric\n",
    "pd.to_numeric(df['price'], errors='coerce').notnull().all()"
   ]
  },
  {
   "cell_type": "code",
   "execution_count": 41,
   "id": "8e8ec799-2cdf-48a4-9bb4-6a1a21add39e",
   "metadata": {},
   "outputs": [
    {
     "data": {
      "text/plain": [
       "set_num            object\n",
       "date       datetime64[ns]\n",
       "price              object\n",
       "dtype: object"
      ]
     },
     "execution_count": 41,
     "metadata": {},
     "output_type": "execute_result"
    }
   ],
   "source": [
    "df.dtypes"
   ]
  },
  {
   "cell_type": "code",
   "execution_count": 42,
   "id": "f54a6eb7-bdff-4083-8dd8-261f5e933d24",
   "metadata": {},
   "outputs": [
    {
     "data": {
      "text/plain": [
       "set_num            object\n",
       "date       datetime64[ns]\n",
       "price             float64\n",
       "dtype: object"
      ]
     },
     "execution_count": 42,
     "metadata": {},
     "output_type": "execute_result"
    }
   ],
   "source": [
    "# now that all rows in price column are numeric, change column data type to numeric\n",
    "# pandas will pick int64 if there are no decimals, float 64 if decimals are present, which there are\n",
    "df['price'] = pd.to_numeric(df['price'])\n",
    "df.dtypes"
   ]
  },
  {
   "cell_type": "markdown",
   "id": "8f8a25cd",
   "metadata": {},
   "source": [
    "## Metadata Dataframe"
   ]
  },
  {
   "cell_type": "code",
   "execution_count": 43,
   "id": "2530b436-1575-4881-a8d9-f3d3196ffb91",
   "metadata": {},
   "outputs": [
    {
     "data": {
      "text/html": [
       "<div>\n",
       "<style scoped>\n",
       "    .dataframe tbody tr th:only-of-type {\n",
       "        vertical-align: middle;\n",
       "    }\n",
       "\n",
       "    .dataframe tbody tr th {\n",
       "        vertical-align: top;\n",
       "    }\n",
       "\n",
       "    .dataframe thead th {\n",
       "        text-align: right;\n",
       "    }\n",
       "</style>\n",
       "<table border=\"1\" class=\"dataframe\">\n",
       "  <thead>\n",
       "    <tr style=\"text-align: right;\">\n",
       "      <th></th>\n",
       "      <th>set_num</th>\n",
       "      <th>set_name</th>\n",
       "      <th>theme_group</th>\n",
       "      <th>theme</th>\n",
       "      <th>subtheme</th>\n",
       "      <th>year_released</th>\n",
       "      <th>launch_exit</th>\n",
       "      <th>pieces</th>\n",
       "      <th>minifigs</th>\n",
       "      <th>designer</th>\n",
       "      <th>msrp</th>\n",
       "      <th>age_range</th>\n",
       "      <th>packaging</th>\n",
       "      <th>availability</th>\n",
       "      <th>rating</th>\n",
       "    </tr>\n",
       "  </thead>\n",
       "  <tbody>\n",
       "    <tr>\n",
       "      <th>0</th>\n",
       "      <td>60009-1</td>\n",
       "      <td>Helicopter Arrest</td>\n",
       "      <td>Modern day</td>\n",
       "      <td>City</td>\n",
       "      <td>Police</td>\n",
       "      <td>2013</td>\n",
       "      <td>None</td>\n",
       "      <td>352.0</td>\n",
       "      <td>5</td>\n",
       "      <td>Henrik Andersen</td>\n",
       "      <td>£39.99 / $49.99</td>\n",
       "      <td>5 - 12</td>\n",
       "      <td>Box</td>\n",
       "      <td>Retail - limited</td>\n",
       "      <td>✭✭✭✭✩ 3.8 52 ratings</td>\n",
       "    </tr>\n",
       "    <tr>\n",
       "      <th>1</th>\n",
       "      <td>60012-1</td>\n",
       "      <td>Coast Guard 4x4 &amp; Diving Boat</td>\n",
       "      <td>Modern day</td>\n",
       "      <td>City</td>\n",
       "      <td>Coast Guard</td>\n",
       "      <td>2013</td>\n",
       "      <td>01 Jun 2013 - 31 Jul 2015</td>\n",
       "      <td>128.0</td>\n",
       "      <td>2 (2 Unique to this set)</td>\n",
       "      <td>None</td>\n",
       "      <td>£9.99 / $19.99 / 12.99€</td>\n",
       "      <td>5 - 12</td>\n",
       "      <td>Box</td>\n",
       "      <td>Retail</td>\n",
       "      <td>✭✭✭✭✩ 3.8 145 ratings 4 Reviews Official Brick...</td>\n",
       "    </tr>\n",
       "    <tr>\n",
       "      <th>2</th>\n",
       "      <td>75975-1</td>\n",
       "      <td>Watchpoint: Gibraltar</td>\n",
       "      <td>Licensed</td>\n",
       "      <td>Overwatch</td>\n",
       "      <td>None</td>\n",
       "      <td>2019</td>\n",
       "      <td>01 Jan 2019 - 31 Jul 2020</td>\n",
       "      <td>730.0</td>\n",
       "      <td>4 (3 Unique to this set)</td>\n",
       "      <td>Mark Stafford</td>\n",
       "      <td>£79.99 / $89.99 / 87.72€</td>\n",
       "      <td>9+</td>\n",
       "      <td>Box</td>\n",
       "      <td>Retail</td>\n",
       "      <td>✭✭✭✭✩ 3.9 114 ratings 1 Review Official Bricks...</td>\n",
       "    </tr>\n",
       "    <tr>\n",
       "      <th>3</th>\n",
       "      <td>10155-1</td>\n",
       "      <td>Maersk Line Container Ship</td>\n",
       "      <td>Model making</td>\n",
       "      <td>Creator Expert</td>\n",
       "      <td>Maersk</td>\n",
       "      <td>2010</td>\n",
       "      <td>01 Aug 2010 - 31 Jul 2011</td>\n",
       "      <td>990.0</td>\n",
       "      <td>None</td>\n",
       "      <td>None</td>\n",
       "      <td>£102.99 / $119.99</td>\n",
       "      <td>8+</td>\n",
       "      <td>Box</td>\n",
       "      <td>LEGO exclusive</td>\n",
       "      <td>✭✭✭✭✩ 4.1 28 ratings 3 Reviews</td>\n",
       "    </tr>\n",
       "    <tr>\n",
       "      <th>4</th>\n",
       "      <td>10210-1</td>\n",
       "      <td>Imperial Flagship</td>\n",
       "      <td>Model making</td>\n",
       "      <td>Creator Expert</td>\n",
       "      <td>Miscellaneous</td>\n",
       "      <td>2010</td>\n",
       "      <td>01 Jan 2010 - 31 Dec 2011</td>\n",
       "      <td>1664.0</td>\n",
       "      <td>9 (6 Unique to this set)</td>\n",
       "      <td>Raphael Pretesacque</td>\n",
       "      <td>£142.99 / $179.99</td>\n",
       "      <td>14+</td>\n",
       "      <td>Box</td>\n",
       "      <td>Retail - limited</td>\n",
       "      <td>✭✭✭✭✭ 4.6 171 ratings 16 Reviews</td>\n",
       "    </tr>\n",
       "  </tbody>\n",
       "</table>\n",
       "</div>"
      ],
      "text/plain": [
       "   set_num                       set_name   theme_group           theme  \\\n",
       "0  60009-1              Helicopter Arrest    Modern day            City   \n",
       "1  60012-1  Coast Guard 4x4 & Diving Boat    Modern day            City   \n",
       "2  75975-1          Watchpoint: Gibraltar      Licensed       Overwatch   \n",
       "3  10155-1     Maersk Line Container Ship  Model making  Creator Expert   \n",
       "4  10210-1              Imperial Flagship  Model making  Creator Expert   \n",
       "\n",
       "        subtheme year_released                launch_exit  pieces  \\\n",
       "0         Police          2013                       None   352.0   \n",
       "1    Coast Guard          2013  01 Jun 2013 - 31 Jul 2015   128.0   \n",
       "2           None          2019  01 Jan 2019 - 31 Jul 2020   730.0   \n",
       "3         Maersk          2010  01 Aug 2010 - 31 Jul 2011   990.0   \n",
       "4  Miscellaneous          2010  01 Jan 2010 - 31 Dec 2011  1664.0   \n",
       "\n",
       "                   minifigs             designer                      msrp  \\\n",
       "0                         5      Henrik Andersen           £39.99 / $49.99   \n",
       "1  2 (2 Unique to this set)                 None   £9.99 / $19.99 / 12.99€   \n",
       "2  4 (3 Unique to this set)        Mark Stafford  £79.99 / $89.99 / 87.72€   \n",
       "3                      None                 None         £102.99 / $119.99   \n",
       "4  9 (6 Unique to this set)  Raphael Pretesacque         £142.99 / $179.99   \n",
       "\n",
       "  age_range packaging      availability  \\\n",
       "0    5 - 12       Box  Retail - limited   \n",
       "1    5 - 12       Box            Retail   \n",
       "2        9+       Box            Retail   \n",
       "3        8+       Box    LEGO exclusive   \n",
       "4       14+       Box  Retail - limited   \n",
       "\n",
       "                                              rating  \n",
       "0                               ✭✭✭✭✩ 3.8 52 ratings  \n",
       "1  ✭✭✭✭✩ 3.8 145 ratings 4 Reviews Official Brick...  \n",
       "2  ✭✭✭✭✩ 3.9 114 ratings 1 Review Official Bricks...  \n",
       "3                     ✭✭✭✭✩ 4.1 28 ratings 3 Reviews  \n",
       "4                   ✭✭✭✭✭ 4.6 171 ratings 16 Reviews  "
      ]
     },
     "execution_count": 43,
     "metadata": {},
     "output_type": "execute_result"
    }
   ],
   "source": [
    "# time to clean the set_details data\n",
    "df_set.head()"
   ]
  },
  {
   "cell_type": "code",
   "execution_count": 44,
   "id": "37950b96-21a1-44b8-a8d2-68d4cd479fa8",
   "metadata": {},
   "outputs": [],
   "source": [
    "# remove -1 from set_num\n",
    "df_set['set_num'] = df_set['set_num'].str.split('-', n=1).str[0]"
   ]
  },
  {
   "cell_type": "code",
   "execution_count": 45,
   "id": "6b346fec-e209-423b-b716-23334fba7494",
   "metadata": {},
   "outputs": [],
   "source": [
    "# split launch_exit column into 2 columns\n",
    "df_set[['launch_date', 'retirement_date']] = df_set['launch_exit'].str.split(' - ', expand=True)"
   ]
  },
  {
   "cell_type": "code",
   "execution_count": 46,
   "id": "d356c47a-9fb8-43a6-a4d7-37a7c0c9e82a",
   "metadata": {},
   "outputs": [],
   "source": [
    "df_set.drop('launch_exit', axis=1, inplace=True)"
   ]
  },
  {
   "cell_type": "code",
   "execution_count": 47,
   "id": "da09bb60-6f59-405f-8838-1c3cb6a25aa6",
   "metadata": {},
   "outputs": [],
   "source": [
    "# need to plit the minifigs column into total and unique\n",
    "df_set[['minifigs_total', 'minifigs_unique']] = df_set['minifigs'].str.split(' ', n=1, expand=True)"
   ]
  },
  {
   "cell_type": "code",
   "execution_count": 48,
   "id": "e0f74f95-c51c-4bc0-b5d6-0ac218f39ac7",
   "metadata": {},
   "outputs": [],
   "source": [
    "# parse the minifig value from minifigs_unique\n",
    "df_set['minifigs_unique'] = df_set['minifigs_unique'].str.split(' ', n=1).str[0].str.replace('(', '', regex=True)"
   ]
  },
  {
   "cell_type": "code",
   "execution_count": 49,
   "id": "ba1d7413-e9e9-49b7-8858-8264a8ac67da",
   "metadata": {},
   "outputs": [],
   "source": [
    "df_set.drop('minifigs', axis=1, inplace=True)"
   ]
  },
  {
   "cell_type": "code",
   "execution_count": 50,
   "id": "28f04852-b4fd-4462-a137-9cd950211e14",
   "metadata": {},
   "outputs": [],
   "source": [
    "# parse rating column to get the text after the stars, this grabs non numeric values for rows with no rating\n",
    "df_set['rating'] = df_set['rating'].str.split(' ', n=2).str[1].str.strip()"
   ]
  },
  {
   "cell_type": "code",
   "execution_count": 51,
   "id": "396d7887-213b-46a6-9194-f1cb1a0260fa",
   "metadata": {},
   "outputs": [],
   "source": [
    "# a good way to replace non-numeric rows is to_numeric method, must use coerce to force NaN values for non-numerics\n",
    "df_set['rating'] = pd.to_numeric(df_set['rating'], errors='coerce')"
   ]
  },
  {
   "cell_type": "code",
   "execution_count": 52,
   "id": "821e92b2-8d56-4d05-8890-4013773ba544",
   "metadata": {},
   "outputs": [],
   "source": [
    "# change launch retirement date columns to date\n",
    "# first need to remove spaces\n",
    "df_set['launch_date'] = df_set['launch_date'].str.replace(' ', '')\n",
    "df_set['launch_date'] = pd.to_datetime(df_set['launch_date'], format='%d%b%Y', errors='coerce')"
   ]
  },
  {
   "cell_type": "code",
   "execution_count": 53,
   "id": "588760cb-948a-4d4d-9de8-d561a21f0420",
   "metadata": {},
   "outputs": [],
   "source": [
    "# had some t.b.a text for some rows, they threw an error, added errors=coerce and seemed to fix it\n",
    "df_set['retirement_date'] = df_set['retirement_date'].str.replace(' ', '')\n",
    "df_set['retirement_date'] = pd.to_datetime(df_set['retirement_date'], format='%d%b%Y', errors='coerce')"
   ]
  },
  {
   "cell_type": "code",
   "execution_count": 54,
   "id": "2c20e8d2-912d-4b72-b64f-e54cc2e8796f",
   "metadata": {},
   "outputs": [],
   "source": [
    "# clean up msrp column and grab USD values only - drop pounds and euro values if present\n",
    "# use regex to extract everything after the $, the dot, and the remaining digits\n",
    "# REGEX sucks. But remember to use regex101.com, it's a life saver\n",
    "df_set['msrp'] = df_set['msrp'].str.extract(r\"\\$(\\d+\\.\\d+)\")"
   ]
  },
  {
   "cell_type": "code",
   "execution_count": 55,
   "id": "08311c27-9f31-41e7-a52a-a8dad9348219",
   "metadata": {},
   "outputs": [],
   "source": [
    "# if launch_date is empty add the value from year released date column, \n",
    "df_set['launch_date'] = df_set['launch_date'].fillna(df_set['year_released'])\n",
    "# very cool, it added jan 1 to the year automatically."
   ]
  },
  {
   "cell_type": "code",
   "execution_count": 56,
   "id": "f2664d39-5eb0-4f01-bea6-dfdbde50b63a",
   "metadata": {},
   "outputs": [],
   "source": [
    "# change some datatypes\n",
    "df_set['year_released'] = df_set['year_released'].astype(int)\n",
    "df_set['msrp'] = df_set['msrp'].astype(float)\n",
    "df_set['minifigs_total'] = df_set['minifigs_total'].astype(float)\n",
    "df_set['minifigs_unique'] = df_set['minifigs_unique'].astype(float)\n",
    "df_set['set_num'] = df_set['set_num'].astype(int)"
   ]
  },
  {
   "cell_type": "code",
   "execution_count": 57,
   "id": "d7a66251-5d24-4032-9e2d-fa30d9a5181f",
   "metadata": {},
   "outputs": [
    {
     "data": {
      "text/plain": [
       "set_num                     int32\n",
       "set_name                   object\n",
       "theme_group                object\n",
       "theme                      object\n",
       "subtheme                   object\n",
       "year_released               int32\n",
       "pieces                    float64\n",
       "designer                   object\n",
       "msrp                      float64\n",
       "age_range                  object\n",
       "packaging                  object\n",
       "availability               object\n",
       "rating                    float64\n",
       "launch_date        datetime64[ns]\n",
       "retirement_date    datetime64[ns]\n",
       "minifigs_total            float64\n",
       "minifigs_unique           float64\n",
       "dtype: object"
      ]
     },
     "execution_count": 57,
     "metadata": {},
     "output_type": "execute_result"
    }
   ],
   "source": [
    "df_set.dtypes"
   ]
  },
  {
   "cell_type": "code",
   "execution_count": 58,
   "id": "6c68dfe6-eb7c-4e4e-9970-93de39e99c59",
   "metadata": {},
   "outputs": [
    {
     "data": {
      "text/html": [
       "<div>\n",
       "<style scoped>\n",
       "    .dataframe tbody tr th:only-of-type {\n",
       "        vertical-align: middle;\n",
       "    }\n",
       "\n",
       "    .dataframe tbody tr th {\n",
       "        vertical-align: top;\n",
       "    }\n",
       "\n",
       "    .dataframe thead th {\n",
       "        text-align: right;\n",
       "    }\n",
       "</style>\n",
       "<table border=\"1\" class=\"dataframe\">\n",
       "  <thead>\n",
       "    <tr style=\"text-align: right;\">\n",
       "      <th></th>\n",
       "      <th>set_name</th>\n",
       "      <th>theme_group</th>\n",
       "      <th>theme</th>\n",
       "      <th>subtheme</th>\n",
       "      <th>year_released</th>\n",
       "      <th>pieces</th>\n",
       "      <th>designer</th>\n",
       "      <th>msrp</th>\n",
       "      <th>age_range</th>\n",
       "      <th>packaging</th>\n",
       "      <th>availability</th>\n",
       "      <th>rating</th>\n",
       "      <th>launch_date</th>\n",
       "      <th>retirement_date</th>\n",
       "      <th>minifigs_total</th>\n",
       "      <th>minifigs_unique</th>\n",
       "    </tr>\n",
       "    <tr>\n",
       "      <th>set_num</th>\n",
       "      <th></th>\n",
       "      <th></th>\n",
       "      <th></th>\n",
       "      <th></th>\n",
       "      <th></th>\n",
       "      <th></th>\n",
       "      <th></th>\n",
       "      <th></th>\n",
       "      <th></th>\n",
       "      <th></th>\n",
       "      <th></th>\n",
       "      <th></th>\n",
       "      <th></th>\n",
       "      <th></th>\n",
       "      <th></th>\n",
       "      <th></th>\n",
       "    </tr>\n",
       "  </thead>\n",
       "  <tbody>\n",
       "    <tr>\n",
       "      <th>60009</th>\n",
       "      <td>Helicopter Arrest</td>\n",
       "      <td>Modern day</td>\n",
       "      <td>City</td>\n",
       "      <td>Police</td>\n",
       "      <td>2013</td>\n",
       "      <td>352.0</td>\n",
       "      <td>Henrik Andersen</td>\n",
       "      <td>49.99</td>\n",
       "      <td>5 - 12</td>\n",
       "      <td>Box</td>\n",
       "      <td>Retail - limited</td>\n",
       "      <td>3.8</td>\n",
       "      <td>2013-01-01</td>\n",
       "      <td>NaT</td>\n",
       "      <td>5.0</td>\n",
       "      <td>NaN</td>\n",
       "    </tr>\n",
       "    <tr>\n",
       "      <th>60012</th>\n",
       "      <td>Coast Guard 4x4 &amp; Diving Boat</td>\n",
       "      <td>Modern day</td>\n",
       "      <td>City</td>\n",
       "      <td>Coast Guard</td>\n",
       "      <td>2013</td>\n",
       "      <td>128.0</td>\n",
       "      <td>None</td>\n",
       "      <td>19.99</td>\n",
       "      <td>5 - 12</td>\n",
       "      <td>Box</td>\n",
       "      <td>Retail</td>\n",
       "      <td>3.8</td>\n",
       "      <td>2013-06-01</td>\n",
       "      <td>2015-07-31</td>\n",
       "      <td>2.0</td>\n",
       "      <td>2.0</td>\n",
       "    </tr>\n",
       "    <tr>\n",
       "      <th>75975</th>\n",
       "      <td>Watchpoint: Gibraltar</td>\n",
       "      <td>Licensed</td>\n",
       "      <td>Overwatch</td>\n",
       "      <td>None</td>\n",
       "      <td>2019</td>\n",
       "      <td>730.0</td>\n",
       "      <td>Mark Stafford</td>\n",
       "      <td>89.99</td>\n",
       "      <td>9+</td>\n",
       "      <td>Box</td>\n",
       "      <td>Retail</td>\n",
       "      <td>3.9</td>\n",
       "      <td>2019-01-01</td>\n",
       "      <td>2020-07-31</td>\n",
       "      <td>4.0</td>\n",
       "      <td>3.0</td>\n",
       "    </tr>\n",
       "    <tr>\n",
       "      <th>10155</th>\n",
       "      <td>Maersk Line Container Ship</td>\n",
       "      <td>Model making</td>\n",
       "      <td>Creator Expert</td>\n",
       "      <td>Maersk</td>\n",
       "      <td>2010</td>\n",
       "      <td>990.0</td>\n",
       "      <td>None</td>\n",
       "      <td>119.99</td>\n",
       "      <td>8+</td>\n",
       "      <td>Box</td>\n",
       "      <td>LEGO exclusive</td>\n",
       "      <td>4.1</td>\n",
       "      <td>2010-08-01</td>\n",
       "      <td>2011-07-31</td>\n",
       "      <td>NaN</td>\n",
       "      <td>NaN</td>\n",
       "    </tr>\n",
       "    <tr>\n",
       "      <th>10210</th>\n",
       "      <td>Imperial Flagship</td>\n",
       "      <td>Model making</td>\n",
       "      <td>Creator Expert</td>\n",
       "      <td>Miscellaneous</td>\n",
       "      <td>2010</td>\n",
       "      <td>1664.0</td>\n",
       "      <td>Raphael Pretesacque</td>\n",
       "      <td>179.99</td>\n",
       "      <td>14+</td>\n",
       "      <td>Box</td>\n",
       "      <td>Retail - limited</td>\n",
       "      <td>4.6</td>\n",
       "      <td>2010-01-01</td>\n",
       "      <td>2011-12-31</td>\n",
       "      <td>9.0</td>\n",
       "      <td>6.0</td>\n",
       "    </tr>\n",
       "    <tr>\n",
       "      <th>...</th>\n",
       "      <td>...</td>\n",
       "      <td>...</td>\n",
       "      <td>...</td>\n",
       "      <td>...</td>\n",
       "      <td>...</td>\n",
       "      <td>...</td>\n",
       "      <td>...</td>\n",
       "      <td>...</td>\n",
       "      <td>...</td>\n",
       "      <td>...</td>\n",
       "      <td>...</td>\n",
       "      <td>...</td>\n",
       "      <td>...</td>\n",
       "      <td>...</td>\n",
       "      <td>...</td>\n",
       "      <td>...</td>\n",
       "    </tr>\n",
       "    <tr>\n",
       "      <th>9526</th>\n",
       "      <td>Palpatine's Arrest</td>\n",
       "      <td>Licensed</td>\n",
       "      <td>Star Wars</td>\n",
       "      <td>Episode III</td>\n",
       "      <td>2012</td>\n",
       "      <td>645.0</td>\n",
       "      <td>None</td>\n",
       "      <td>89.99</td>\n",
       "      <td>9 - 14</td>\n",
       "      <td>Box</td>\n",
       "      <td>Retail</td>\n",
       "      <td>4.4</td>\n",
       "      <td>2012-08-01</td>\n",
       "      <td>2013-12-31</td>\n",
       "      <td>6.0</td>\n",
       "      <td>6.0</td>\n",
       "    </tr>\n",
       "    <tr>\n",
       "      <th>9585</th>\n",
       "      <td>WeDo Resource Set</td>\n",
       "      <td>Educational</td>\n",
       "      <td>Education</td>\n",
       "      <td>None</td>\n",
       "      <td>2011</td>\n",
       "      <td>326.0</td>\n",
       "      <td>None</td>\n",
       "      <td>49.95</td>\n",
       "      <td>7+</td>\n",
       "      <td>Tub</td>\n",
       "      <td>Educational</td>\n",
       "      <td>NaN</td>\n",
       "      <td>2011-01-01</td>\n",
       "      <td>NaT</td>\n",
       "      <td>NaN</td>\n",
       "      <td>NaN</td>\n",
       "    </tr>\n",
       "    <tr>\n",
       "      <th>9594</th>\n",
       "      <td>Green City Challenge Set</td>\n",
       "      <td>Educational</td>\n",
       "      <td>Education</td>\n",
       "      <td>Mindstorms</td>\n",
       "      <td>2011</td>\n",
       "      <td>1365.0</td>\n",
       "      <td>None</td>\n",
       "      <td>174.95</td>\n",
       "      <td>None</td>\n",
       "      <td>None</td>\n",
       "      <td>None</td>\n",
       "      <td>NaN</td>\n",
       "      <td>2011-01-01</td>\n",
       "      <td>NaT</td>\n",
       "      <td>1.0</td>\n",
       "      <td>1.0</td>\n",
       "    </tr>\n",
       "    <tr>\n",
       "      <th>9688</th>\n",
       "      <td>Renewable Energy Add-On Set</td>\n",
       "      <td>Educational</td>\n",
       "      <td>Education</td>\n",
       "      <td>None</td>\n",
       "      <td>2010</td>\n",
       "      <td>12.0</td>\n",
       "      <td>None</td>\n",
       "      <td>99.95</td>\n",
       "      <td>8+</td>\n",
       "      <td>None</td>\n",
       "      <td>None</td>\n",
       "      <td>NaN</td>\n",
       "      <td>2010-08-01</td>\n",
       "      <td>2016-12-31</td>\n",
       "      <td>NaN</td>\n",
       "      <td>NaN</td>\n",
       "    </tr>\n",
       "    <tr>\n",
       "      <th>9695</th>\n",
       "      <td>LEGO Mindstorms Education Resource Set</td>\n",
       "      <td>Educational</td>\n",
       "      <td>Education</td>\n",
       "      <td>Mindstorms</td>\n",
       "      <td>2010</td>\n",
       "      <td>817.0</td>\n",
       "      <td>None</td>\n",
       "      <td>99.95</td>\n",
       "      <td>None</td>\n",
       "      <td>None</td>\n",
       "      <td>None</td>\n",
       "      <td>NaN</td>\n",
       "      <td>2010-01-01</td>\n",
       "      <td>NaT</td>\n",
       "      <td>NaN</td>\n",
       "      <td>NaN</td>\n",
       "    </tr>\n",
       "  </tbody>\n",
       "</table>\n",
       "<p>1862 rows × 16 columns</p>\n",
       "</div>"
      ],
      "text/plain": [
       "                                       set_name   theme_group           theme  \\\n",
       "set_num                                                                         \n",
       "60009                         Helicopter Arrest    Modern day            City   \n",
       "60012             Coast Guard 4x4 & Diving Boat    Modern day            City   \n",
       "75975                     Watchpoint: Gibraltar      Licensed       Overwatch   \n",
       "10155                Maersk Line Container Ship  Model making  Creator Expert   \n",
       "10210                         Imperial Flagship  Model making  Creator Expert   \n",
       "...                                         ...           ...             ...   \n",
       "9526                         Palpatine's Arrest      Licensed       Star Wars   \n",
       "9585                          WeDo Resource Set   Educational       Education   \n",
       "9594                   Green City Challenge Set   Educational       Education   \n",
       "9688                Renewable Energy Add-On Set   Educational       Education   \n",
       "9695     LEGO Mindstorms Education Resource Set   Educational       Education   \n",
       "\n",
       "              subtheme  year_released  pieces             designer    msrp  \\\n",
       "set_num                                                                      \n",
       "60009           Police           2013   352.0      Henrik Andersen   49.99   \n",
       "60012      Coast Guard           2013   128.0                 None   19.99   \n",
       "75975             None           2019   730.0        Mark Stafford   89.99   \n",
       "10155           Maersk           2010   990.0                 None  119.99   \n",
       "10210    Miscellaneous           2010  1664.0  Raphael Pretesacque  179.99   \n",
       "...                ...            ...     ...                  ...     ...   \n",
       "9526       Episode III           2012   645.0                 None   89.99   \n",
       "9585              None           2011   326.0                 None   49.95   \n",
       "9594        Mindstorms           2011  1365.0                 None  174.95   \n",
       "9688              None           2010    12.0                 None   99.95   \n",
       "9695        Mindstorms           2010   817.0                 None   99.95   \n",
       "\n",
       "        age_range packaging      availability  rating launch_date  \\\n",
       "set_num                                                             \n",
       "60009      5 - 12       Box  Retail - limited     3.8  2013-01-01   \n",
       "60012      5 - 12       Box            Retail     3.8  2013-06-01   \n",
       "75975          9+       Box            Retail     3.9  2019-01-01   \n",
       "10155          8+       Box    LEGO exclusive     4.1  2010-08-01   \n",
       "10210         14+       Box  Retail - limited     4.6  2010-01-01   \n",
       "...           ...       ...               ...     ...         ...   \n",
       "9526       9 - 14       Box            Retail     4.4  2012-08-01   \n",
       "9585           7+       Tub       Educational     NaN  2011-01-01   \n",
       "9594         None      None              None     NaN  2011-01-01   \n",
       "9688           8+      None              None     NaN  2010-08-01   \n",
       "9695         None      None              None     NaN  2010-01-01   \n",
       "\n",
       "        retirement_date  minifigs_total  minifigs_unique  \n",
       "set_num                                                   \n",
       "60009               NaT             5.0              NaN  \n",
       "60012        2015-07-31             2.0              2.0  \n",
       "75975        2020-07-31             4.0              3.0  \n",
       "10155        2011-07-31             NaN              NaN  \n",
       "10210        2011-12-31             9.0              6.0  \n",
       "...                 ...             ...              ...  \n",
       "9526         2013-12-31             6.0              6.0  \n",
       "9585                NaT             NaN              NaN  \n",
       "9594                NaT             1.0              1.0  \n",
       "9688         2016-12-31             NaN              NaN  \n",
       "9695                NaT             NaN              NaN  \n",
       "\n",
       "[1862 rows x 16 columns]"
      ]
     },
     "execution_count": 58,
     "metadata": {},
     "output_type": "execute_result"
    }
   ],
   "source": [
    "# set the index to set_num, which should be unique\n",
    "df_set.set_index('set_num')"
   ]
  },
  {
   "cell_type": "code",
   "execution_count": 59,
   "id": "70ddc94e",
   "metadata": {},
   "outputs": [
    {
     "data": {
      "text/plain": [
       "True"
      ]
     },
     "execution_count": 59,
     "metadata": {},
     "output_type": "execute_result"
    }
   ],
   "source": [
    "# check for all unique rows in set_num\n",
    "# is_unique method only works for a series, create that first and then check for uniqueness\n",
    "set_num_series = df_set['set_num'].squeeze()\n",
    "set_num_series.is_unique"
   ]
  },
  {
   "cell_type": "markdown",
   "id": "259220b5",
   "metadata": {},
   "source": [
    "Loop through a list of sets and calculate and remove outliers, then groupby and average daily price\n",
    "Create a new data frame that we will use for the rest of the analysis that is now at a daily granularity"
   ]
  },
  {
   "cell_type": "code",
   "execution_count": 21,
   "id": "0f61505c-6d3f-48a4-a510-a5c1b2969816",
   "metadata": {},
   "outputs": [],
   "source": [
    "# create function to remove outliers using IQR method\n",
    "def remove_outliers(dataframe):\n",
    "    Q1 = dataframe['price'].quantile(0.25)\n",
    "    Q3 = dataframe['price'].quantile(0.75)\n",
    "    IQR = Q3 - Q1\n",
    "    lower_lim = Q1 - 1.5*IQR\n",
    "    upper_lim = Q3 + 1.5*IQR\n",
    "    outliers_15_low = ( dataframe['price'] < lower_lim)\n",
    "    outliers_15_high = ( dataframe['price'] > upper_lim)\n",
    "    df_outliers_removed = dataframe[~(outliers_15_low | outliers_15_high)]\n",
    "    return df_outliers_removed"
   ]
  },
  {
   "cell_type": "code",
   "execution_count": null,
   "id": "d8047e98",
   "metadata": {},
   "outputs": [],
   "source": [
    "# Test list of sets to loop through\n",
    "test_list = [75827, 75192, 70222, 70223]\n",
    "# create an empty data frame to append each looped df to\n",
    "looped_df = pd.DataFrame()\n",
    "for set in test_list:\n",
    "    filter = (df['set_num'] == set)\n",
    "    df_filtered = df[filter]\n",
    "    df_no_outliers = remove_outliers(df_filtered)\n",
    "    # reset index fills down the set_num column, creates a full dataframe\n",
    "    df_filtered_grouped = df_no_outliers.groupby(['set_num', 'date']).mean().reset_index()\n",
    "    looped_df = looped_df.append(df_filtered_grouped)\n"
   ]
  },
  {
   "cell_type": "code",
   "execution_count": null,
   "id": "9b336327",
   "metadata": {},
   "outputs": [],
   "source": [
    "print(looped_df)"
   ]
  },
  {
   "cell_type": "code",
   "execution_count": null,
   "id": "a36f9d17-3d6f-4791-9645-70584c540da1",
   "metadata": {},
   "outputs": [],
   "source": [
    "# Group the price data by date and calculate the mean\n",
    "# i.e. create a new dataframe with one date per row and the average sales price\n",
    "dffilt_group = df_no_outliers.groupby(['date']).mean()\n",
    "dffilt_group"
   ]
  },
  {
   "cell_type": "code",
   "execution_count": null,
   "id": "113d58e1-a91c-40d3-a32b-6b9096997714",
   "metadata": {},
   "outputs": [],
   "source": [
    "plt.rc('font', size=12)\n",
    "fig, ax = plt.subplots(figsize=(10, 6))\n",
    "\n",
    "ax.plot(dffilt_group.index, dffilt_group.price, label='Average Daily Price')\n",
    "\n",
    "fig.autofmt_xdate()\n",
    "ax.set_xlabel('Date')\n",
    "ax.set_ylabel('Price')\n",
    "ax.set_title('Average Daily Price of Ghostbusters Set')\n",
    "ax.grid(True);"
   ]
  },
  {
   "cell_type": "markdown",
   "id": "54b1db92",
   "metadata": {},
   "source": [
    "# **********  MERGE  **********"
   ]
  },
  {
   "cell_type": "code",
   "execution_count": null,
   "id": "ce85ea58",
   "metadata": {},
   "outputs": [],
   "source": [
    "# check data types before the merge\n",
    "df_set.dtypes"
   ]
  },
  {
   "cell_type": "code",
   "execution_count": null,
   "id": "af7217ab",
   "metadata": {},
   "outputs": [],
   "source": [
    "looped_df.dtypes"
   ]
  },
  {
   "cell_type": "code",
   "execution_count": null,
   "id": "a438ec79",
   "metadata": {},
   "outputs": [],
   "source": [
    "# I want all values in the price df and mrsp from set data\n",
    "# this is a left join and we use pandas merge method\n",
    "left_join = pd.merge(looped_df,\n",
    "                    df_set[['set_num', 'msrp']],\n",
    "                    on = 'set_num',\n",
    "                    how = 'left' \n",
    ")\n",
    "left_join.head()"
   ]
  },
  {
   "cell_type": "code",
   "execution_count": null,
   "id": "18882f01",
   "metadata": {},
   "outputs": [],
   "source": [
    "# create calculated column of $ of appreciation for every row\n",
    "left_join['appreciation'] = (left_join['price'] - left_join['msrp']).round(2)"
   ]
  },
  {
   "cell_type": "code",
   "execution_count": null,
   "id": "71420814",
   "metadata": {},
   "outputs": [],
   "source": [
    "# create % appreciation calculated column\n",
    "left_join['pct_appreciation'] = (left_join['appreciation'] / left_join['msrp'] * 100).round()"
   ]
  },
  {
   "cell_type": "code",
   "execution_count": null,
   "id": "5dce7d43",
   "metadata": {},
   "outputs": [],
   "source": [
    "# this doesn't work, need to add some groupby or do this calc in the for loop\n",
    "left_join['SMA30_pct_app'] = left_join['pct_appreciation'].rolling(15).mean()"
   ]
  },
  {
   "cell_type": "code",
   "execution_count": null,
   "id": "6cfdf7bf",
   "metadata": {},
   "outputs": [],
   "source": [
    "left_join"
   ]
  },
  {
   "cell_type": "code",
   "execution_count": null,
   "id": "02d2f7dc",
   "metadata": {},
   "outputs": [],
   "source": []
  }
 ],
 "metadata": {
  "kernelspec": {
   "display_name": "Python 3 (ipykernel)",
   "language": "python",
   "name": "python3"
  },
  "language_info": {
   "codemirror_mode": {
    "name": "ipython",
    "version": 3
   },
   "file_extension": ".py",
   "mimetype": "text/x-python",
   "name": "python",
   "nbconvert_exporter": "python",
   "pygments_lexer": "ipython3",
   "version": "3.8.12"
  }
 },
 "nbformat": 4,
 "nbformat_minor": 5
}
